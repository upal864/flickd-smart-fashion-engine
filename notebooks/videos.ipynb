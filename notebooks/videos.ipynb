{
 "cells": [
  {
   "cell_type": "code",
   "execution_count": 1,
   "id": "21f0a0aa",
   "metadata": {},
   "outputs": [
    {
     "name": "stdout",
     "output_type": "stream",
     "text": [
      "Creating new Ultralytics Settings v0.0.6 file  \n",
      "View Ultralytics Settings with 'yolo settings' or at 'C:\\Users\\Upal Mazumder\\AppData\\Roaming\\Ultralytics\\settings.json'\n",
      "Update Settings with 'yolo settings key=value', i.e. 'yolo settings runs_dir=path/to/dir'. For help see https://docs.ultralytics.com/quickstart/#ultralytics-settings.\n"
     ]
    }
   ],
   "source": [
    "import cv2\n",
    "from ultralytics import YOLO"
   ]
  },
  {
   "cell_type": "code",
   "execution_count": 4,
   "id": "881d0baf",
   "metadata": {},
   "outputs": [],
   "source": [
    "import cv2\n",
    "import json\n",
    "from ultralytics import YOLO\n",
    "\n",
    "def extract_detections_to_json(video_path, model_path, output_json, frame_interval=1):\n",
    "    model = YOLO(model_path)\n",
    "    cap = cv2.VideoCapture(video_path)\n",
    "    fps = cap.get(cv2.CAP_PROP_FPS)\n",
    "    frame_gap = int(fps * frame_interval)\n",
    "\n",
    "    frame_index = 0\n",
    "    detections_list = []\n",
    "\n",
    "    while cap.isOpened():\n",
    "        ret, frame = cap.read()\n",
    "        if not ret:\n",
    "            break\n",
    "\n",
    "        if frame_index % frame_gap == 0:\n",
    "            results = model.predict(frame, conf=0.25, verbose=False)\n",
    "\n",
    "            for box in results[0].boxes:\n",
    "                cls_id = int(box.cls[0])\n",
    "                class_name = model.names[cls_id]\n",
    "                conf = float(box.conf[0])\n",
    "                xyxy = box.xyxy[0].tolist()\n",
    "                x, y, x2, y2 = map(int, xyxy)\n",
    "                w, h = x2 - x, y2 - y\n",
    "\n",
    "                detections_list.append({\n",
    "                    \"frame\": frame_index,\n",
    "                    \"class\": class_name,\n",
    "                    \"bbox\": [x, y, w, h],\n",
    "                    \"confidence\": round(conf, 3)\n",
    "                })\n",
    "\n",
    "            print(f\"Processed frame {frame_index}\")\n",
    "\n",
    "        frame_index += 1\n",
    "\n",
    "    cap.release()\n",
    "\n",
    "    with open(output_json, 'w') as f:\n",
    "        json.dump(detections_list, f, indent=2)\n",
    "\n",
    "    print(f\"\\n✅ Detection results saved to: {output_json}\")\n"
   ]
  },
  {
   "cell_type": "code",
   "execution_count": 10,
   "id": "078d9d83",
   "metadata": {},
   "outputs": [
    {
     "name": "stderr",
     "output_type": "stream",
     "text": [
      "<>:1: SyntaxWarning: invalid escape sequence '\\V'\n",
      "<>:1: SyntaxWarning: invalid escape sequence '\\V'\n",
      "C:\\Users\\Upal Mazumder\\AppData\\Local\\Temp\\ipykernel_412\\203327546.py:1: SyntaxWarning: invalid escape sequence '\\V'\n",
      "  video_path =\"test_vid\\VID_20250604_121446_002.mp4\"\n"
     ]
    },
    {
     "name": "stdout",
     "output_type": "stream",
     "text": [
      "Processed frame 0\n",
      "Processed frame 30\n",
      "Processed frame 60\n",
      "Processed frame 90\n",
      "Processed frame 120\n",
      "Processed frame 150\n",
      "Processed frame 180\n",
      "Processed frame 210\n",
      "Processed frame 240\n",
      "Processed frame 270\n",
      "Processed frame 300\n",
      "Processed frame 330\n",
      "Processed frame 360\n",
      "Processed frame 390\n",
      "Processed frame 420\n",
      "Processed frame 450\n",
      "Processed frame 480\n",
      "Processed frame 510\n",
      "Processed frame 540\n",
      "Processed frame 570\n",
      "Processed frame 600\n",
      "Processed frame 630\n",
      "Processed frame 660\n",
      "Processed frame 690\n",
      "Processed frame 720\n",
      "Processed frame 750\n",
      "Processed frame 780\n",
      "\n",
      "✅ Detection results saved to: fashion_detections.json\n"
     ]
    }
   ],
   "source": [
    "video_path =\"test_vid\\VID_20250604_121446_002.mp4\"\n",
    "model_path ='runs/detect/train4/weights/best.pt'\n",
    "output_json = \"fashion_detections.json\"\n",
    "extract_detections_to_json(video_path, model_path, output_json, frame_interval=1)"
   ]
  }
 ],
 "metadata": {
  "kernelspec": {
   "display_name": ".venv",
   "language": "python",
   "name": "python3"
  },
  "language_info": {
   "codemirror_mode": {
    "name": "ipython",
    "version": 3
   },
   "file_extension": ".py",
   "mimetype": "text/x-python",
   "name": "python",
   "nbconvert_exporter": "python",
   "pygments_lexer": "ipython3",
   "version": "3.13.3"
  }
 },
 "nbformat": 4,
 "nbformat_minor": 5
}
