{
 "cells": [
  {
   "cell_type": "code",
   "execution_count": 10,
   "id": "b66fd2e1",
   "metadata": {},
   "outputs": [],
   "source": [
    "from ultralytics import YOLO\n",
    "\n",
    "model = YOLO(\"yolov8n.pt\")\n"
   ]
  },
  {
   "cell_type": "code",
   "execution_count": 11,
   "id": "205e03e4",
   "metadata": {},
   "outputs": [
    {
     "name": "stderr",
     "output_type": "stream",
     "text": [
      "<>:1: SyntaxWarning: invalid escape sequence '\\d'\n",
      "<>:1: SyntaxWarning: invalid escape sequence '\\d'\n",
      "C:\\Users\\Upal Mazumder\\AppData\\Local\\Temp\\ipykernel_24196\\1585844392.py:1: SyntaxWarning: invalid escape sequence '\\d'\n",
      "  model.train(data=\"Fashion.v12i.yolov8\\data.yaml\",epochs=50,imgsz=640)\n"
     ]
    },
    {
     "name": "stdout",
     "output_type": "stream",
     "text": [
      "New https://pypi.org/project/ultralytics/8.3.150 available  Update with 'pip install -U ultralytics'\n",
      "Ultralytics 8.3.148  Python-3.13.3 torch-2.7.0+cpu CPU (AMD Ryzen 5 8645HS w/ Radeon 760M Graphics)\n",
      "\u001b[34m\u001b[1mengine\\trainer: \u001b[0magnostic_nms=False, amp=True, augment=False, auto_augment=randaugment, batch=16, bgr=0.0, box=7.5, cache=False, cfg=None, classes=None, close_mosaic=10, cls=0.5, conf=None, copy_paste=0.0, copy_paste_mode=flip, cos_lr=False, cutmix=0.0, data=Fashion.v12i.yolov8\\data.yaml, degrees=0.0, deterministic=True, device=cpu, dfl=1.5, dnn=False, dropout=0.0, dynamic=False, embed=None, epochs=50, erasing=0.4, exist_ok=False, fliplr=0.5, flipud=0.0, format=torchscript, fraction=1.0, freeze=None, half=False, hsv_h=0.015, hsv_s=0.7, hsv_v=0.4, imgsz=640, int8=False, iou=0.7, keras=False, kobj=1.0, line_width=None, lr0=0.01, lrf=0.01, mask_ratio=4, max_det=300, mixup=0.0, mode=train, model=yolov8n.pt, momentum=0.937, mosaic=1.0, multi_scale=False, name=train4, nbs=64, nms=False, opset=None, optimize=False, optimizer=auto, overlap_mask=True, patience=100, perspective=0.0, plots=True, pose=12.0, pretrained=True, profile=False, project=None, rect=False, resume=False, retina_masks=False, save=True, save_conf=False, save_crop=False, save_dir=runs\\detect\\train4, save_frames=False, save_json=False, save_period=-1, save_txt=False, scale=0.5, seed=0, shear=0.0, show=False, show_boxes=True, show_conf=True, show_labels=True, simplify=True, single_cls=False, source=None, split=val, stream_buffer=False, task=detect, time=None, tracker=botsort.yaml, translate=0.1, val=True, verbose=True, vid_stride=1, visualize=False, warmup_bias_lr=0.1, warmup_epochs=3.0, warmup_momentum=0.8, weight_decay=0.0005, workers=8, workspace=None\n",
      "Overriding model.yaml nc=80 with nc=9\n",
      "\n",
      "                   from  n    params  module                                       arguments                     \n",
      "  0                  -1  1       464  ultralytics.nn.modules.conv.Conv             [3, 16, 3, 2]                 \n",
      "  1                  -1  1      4672  ultralytics.nn.modules.conv.Conv             [16, 32, 3, 2]                \n",
      "  2                  -1  1      7360  ultralytics.nn.modules.block.C2f             [32, 32, 1, True]             \n",
      "  3                  -1  1     18560  ultralytics.nn.modules.conv.Conv             [32, 64, 3, 2]                \n",
      "  4                  -1  2     49664  ultralytics.nn.modules.block.C2f             [64, 64, 2, True]             \n",
      "  5                  -1  1     73984  ultralytics.nn.modules.conv.Conv             [64, 128, 3, 2]               \n",
      "  6                  -1  2    197632  ultralytics.nn.modules.block.C2f             [128, 128, 2, True]           \n",
      "  7                  -1  1    295424  ultralytics.nn.modules.conv.Conv             [128, 256, 3, 2]              \n",
      "  8                  -1  1    460288  ultralytics.nn.modules.block.C2f             [256, 256, 1, True]           \n",
      "  9                  -1  1    164608  ultralytics.nn.modules.block.SPPF            [256, 256, 5]                 \n",
      " 10                  -1  1         0  torch.nn.modules.upsampling.Upsample         [None, 2, 'nearest']          \n",
      " 11             [-1, 6]  1         0  ultralytics.nn.modules.conv.Concat           [1]                           \n",
      " 12                  -1  1    148224  ultralytics.nn.modules.block.C2f             [384, 128, 1]                 \n",
      " 13                  -1  1         0  torch.nn.modules.upsampling.Upsample         [None, 2, 'nearest']          \n",
      " 14             [-1, 4]  1         0  ultralytics.nn.modules.conv.Concat           [1]                           \n",
      " 15                  -1  1     37248  ultralytics.nn.modules.block.C2f             [192, 64, 1]                  \n",
      " 16                  -1  1     36992  ultralytics.nn.modules.conv.Conv             [64, 64, 3, 2]                \n",
      " 17            [-1, 12]  1         0  ultralytics.nn.modules.conv.Concat           [1]                           \n",
      " 18                  -1  1    123648  ultralytics.nn.modules.block.C2f             [192, 128, 1]                 \n",
      " 19                  -1  1    147712  ultralytics.nn.modules.conv.Conv             [128, 128, 3, 2]              \n",
      " 20             [-1, 9]  1         0  ultralytics.nn.modules.conv.Concat           [1]                           \n",
      " 21                  -1  1    493056  ultralytics.nn.modules.block.C2f             [384, 256, 1]                 \n",
      " 22        [15, 18, 21]  1    753067  ultralytics.nn.modules.head.Detect           [9, [64, 128, 256]]           \n",
      "Model summary: 129 layers, 3,012,603 parameters, 3,012,587 gradients, 8.2 GFLOPs\n",
      "\n",
      "Transferred 319/355 items from pretrained weights\n",
      "Freezing layer 'model.22.dfl.conv.weight'\n",
      "\u001b[34m\u001b[1mtrain: \u001b[0mFast image access  (ping: 0.00.0 ms, read: 295.2236.3 MB/s, size: 44.3 KB)\n"
     ]
    },
    {
     "name": "stderr",
     "output_type": "stream",
     "text": [
      "\u001b[34m\u001b[1mtrain: \u001b[0mScanning C:\\Users\\Upal Mazumder\\OneDrive\\Desktop\\flickd\\Fashion.v12i.yolov8\\train\\labels... 198 images, 3 backgrounds, 0 corrupt: 100%|██████████| 198/198 [00:00<00:00, 2810.36it/s]"
     ]
    },
    {
     "name": "stdout",
     "output_type": "stream",
     "text": [
      "\u001b[34m\u001b[1mtrain: \u001b[0mNew cache created: C:\\Users\\Upal Mazumder\\OneDrive\\Desktop\\flickd\\Fashion.v12i.yolov8\\train\\labels.cache\n",
      "\u001b[34m\u001b[1mval: \u001b[0mFast image access  (ping: 0.00.0 ms, read: 162.649.3 MB/s, size: 26.2 KB)\n"
     ]
    },
    {
     "name": "stderr",
     "output_type": "stream",
     "text": [
      "\n",
      "c:\\Users\\Upal Mazumder\\OneDrive\\Desktop\\flickd\\.venv\\Lib\\site-packages\\torch\\utils\\data\\dataloader.py:665: UserWarning: 'pin_memory' argument is set as true but no accelerator is found, then device pinned memory won't be used.\n",
      "  warnings.warn(warn_msg)\n",
      "\u001b[34m\u001b[1mval: \u001b[0mScanning C:\\Users\\Upal Mazumder\\OneDrive\\Desktop\\flickd\\Fashion.v12i.yolov8\\valid\\labels... 21 images, 2 backgrounds, 0 corrupt: 100%|██████████| 21/21 [00:00<00:00, 1489.88it/s]"
     ]
    },
    {
     "name": "stdout",
     "output_type": "stream",
     "text": [
      "\u001b[34m\u001b[1mval: \u001b[0mNew cache created: C:\\Users\\Upal Mazumder\\OneDrive\\Desktop\\flickd\\Fashion.v12i.yolov8\\valid\\labels.cache\n",
      "Plotting labels to runs\\detect\\train4\\labels.jpg... \n"
     ]
    },
    {
     "name": "stderr",
     "output_type": "stream",
     "text": [
      "\n",
      "c:\\Users\\Upal Mazumder\\OneDrive\\Desktop\\flickd\\.venv\\Lib\\site-packages\\torch\\utils\\data\\dataloader.py:665: UserWarning: 'pin_memory' argument is set as true but no accelerator is found, then device pinned memory won't be used.\n",
      "  warnings.warn(warn_msg)\n"
     ]
    },
    {
     "name": "stdout",
     "output_type": "stream",
     "text": [
      "\u001b[34m\u001b[1moptimizer:\u001b[0m 'optimizer=auto' found, ignoring 'lr0=0.01' and 'momentum=0.937' and determining best 'optimizer', 'lr0' and 'momentum' automatically... \n",
      "\u001b[34m\u001b[1moptimizer:\u001b[0m AdamW(lr=0.000769, momentum=0.9) with parameter groups 57 weight(decay=0.0), 64 weight(decay=0.0005), 63 bias(decay=0.0)\n",
      "Image sizes 640 train, 640 val\n",
      "Using 0 dataloader workers\n",
      "Logging results to \u001b[1mruns\\detect\\train4\u001b[0m\n",
      "Starting training for 50 epochs...\n",
      "\n",
      "      Epoch    GPU_mem   box_loss   cls_loss   dfl_loss  Instances       Size\n"
     ]
    },
    {
     "name": "stderr",
     "output_type": "stream",
     "text": [
      "       1/50         0G       1.58      4.161      1.665         23        640: 100%|██████████| 13/13 [00:45<00:00,  3.51s/it]\n",
      "                 Class     Images  Instances      Box(P          R      mAP50  mAP50-95): 100%|██████████| 1/1 [00:01<00:00,  1.87s/it]"
     ]
    },
    {
     "name": "stdout",
     "output_type": "stream",
     "text": [
      "                   all         21         32    0.00637      0.247     0.0264     0.0106\n"
     ]
    },
    {
     "name": "stderr",
     "output_type": "stream",
     "text": [
      "\n"
     ]
    },
    {
     "name": "stdout",
     "output_type": "stream",
     "text": [
      "\n",
      "      Epoch    GPU_mem   box_loss   cls_loss   dfl_loss  Instances       Size\n"
     ]
    },
    {
     "name": "stderr",
     "output_type": "stream",
     "text": [
      "       2/50         0G      1.339      3.749      1.496         16        640: 100%|██████████| 13/13 [00:41<00:00,  3.19s/it]\n",
      "                 Class     Images  Instances      Box(P          R      mAP50  mAP50-95): 100%|██████████| 1/1 [00:01<00:00,  1.75s/it]"
     ]
    },
    {
     "name": "stdout",
     "output_type": "stream",
     "text": [
      "                   all         21         32    0.00748      0.342      0.115     0.0598\n",
      "\n",
      "      Epoch    GPU_mem   box_loss   cls_loss   dfl_loss  Instances       Size\n"
     ]
    },
    {
     "name": "stderr",
     "output_type": "stream",
     "text": [
      "\n",
      "       3/50         0G      1.324      3.312      1.433         28        640: 100%|██████████| 13/13 [00:41<00:00,  3.18s/it]\n",
      "                 Class     Images  Instances      Box(P          R      mAP50  mAP50-95): 100%|██████████| 1/1 [00:01<00:00,  1.68s/it]"
     ]
    },
    {
     "name": "stdout",
     "output_type": "stream",
     "text": [
      "                   all         21         32     0.0112       0.36     0.0714     0.0438\n",
      "\n",
      "      Epoch    GPU_mem   box_loss   cls_loss   dfl_loss  Instances       Size\n"
     ]
    },
    {
     "name": "stderr",
     "output_type": "stream",
     "text": [
      "\n",
      "       4/50         0G      1.385      2.948      1.489         18        640: 100%|██████████| 13/13 [00:40<00:00,  3.12s/it]\n",
      "                 Class     Images  Instances      Box(P          R      mAP50  mAP50-95): 100%|██████████| 1/1 [00:01<00:00,  1.62s/it]"
     ]
    },
    {
     "name": "stdout",
     "output_type": "stream",
     "text": [
      "                   all         21         32      0.845      0.139       0.13     0.0632\n",
      "\n",
      "      Epoch    GPU_mem   box_loss   cls_loss   dfl_loss  Instances       Size\n"
     ]
    },
    {
     "name": "stderr",
     "output_type": "stream",
     "text": [
      "\n",
      "       5/50         0G      1.319       2.76      1.442         25        640: 100%|██████████| 13/13 [00:41<00:00,  3.16s/it]\n",
      "                 Class     Images  Instances      Box(P          R      mAP50  mAP50-95): 100%|██████████| 1/1 [00:01<00:00,  1.60s/it]"
     ]
    },
    {
     "name": "stdout",
     "output_type": "stream",
     "text": [
      "                   all         21         32      0.746     0.0938      0.129     0.0669\n",
      "\n",
      "      Epoch    GPU_mem   box_loss   cls_loss   dfl_loss  Instances       Size\n"
     ]
    },
    {
     "name": "stderr",
     "output_type": "stream",
     "text": [
      "\n",
      "       6/50         0G      1.308      2.426      1.419         34        640: 100%|██████████| 13/13 [00:41<00:00,  3.18s/it]\n",
      "                 Class     Images  Instances      Box(P          R      mAP50  mAP50-95): 100%|██████████| 1/1 [00:01<00:00,  1.60s/it]"
     ]
    },
    {
     "name": "stdout",
     "output_type": "stream",
     "text": [
      "                   all         21         32      0.756      0.101      0.229      0.107\n",
      "\n",
      "      Epoch    GPU_mem   box_loss   cls_loss   dfl_loss  Instances       Size\n"
     ]
    },
    {
     "name": "stderr",
     "output_type": "stream",
     "text": [
      "\n",
      "       7/50         0G      1.329      2.524      1.476         13        640: 100%|██████████| 13/13 [00:41<00:00,  3.17s/it]\n",
      "                 Class     Images  Instances      Box(P          R      mAP50  mAP50-95): 100%|██████████| 1/1 [00:01<00:00,  1.60s/it]"
     ]
    },
    {
     "name": "stdout",
     "output_type": "stream",
     "text": [
      "                   all         21         32      0.536     0.0915      0.137      0.063\n",
      "\n",
      "      Epoch    GPU_mem   box_loss   cls_loss   dfl_loss  Instances       Size\n"
     ]
    },
    {
     "name": "stderr",
     "output_type": "stream",
     "text": [
      "\n",
      "       8/50         0G      1.273      2.298      1.425         21        640: 100%|██████████| 13/13 [00:40<00:00,  3.13s/it]\n",
      "                 Class     Images  Instances      Box(P          R      mAP50  mAP50-95): 100%|██████████| 1/1 [00:01<00:00,  1.63s/it]"
     ]
    },
    {
     "name": "stdout",
     "output_type": "stream",
     "text": [
      "                   all         21         32      0.345      0.224      0.128     0.0555\n",
      "\n",
      "      Epoch    GPU_mem   box_loss   cls_loss   dfl_loss  Instances       Size\n"
     ]
    },
    {
     "name": "stderr",
     "output_type": "stream",
     "text": [
      "\n",
      "       9/50         0G      1.354      2.205      1.411         32        640: 100%|██████████| 13/13 [00:40<00:00,  3.13s/it]\n",
      "                 Class     Images  Instances      Box(P          R      mAP50  mAP50-95): 100%|██████████| 1/1 [00:01<00:00,  1.65s/it]"
     ]
    },
    {
     "name": "stdout",
     "output_type": "stream",
     "text": [
      "                   all         21         32      0.484      0.377      0.213     0.0861\n",
      "\n",
      "      Epoch    GPU_mem   box_loss   cls_loss   dfl_loss  Instances       Size\n"
     ]
    },
    {
     "name": "stderr",
     "output_type": "stream",
     "text": [
      "\n",
      "      10/50         0G      1.331      2.128      1.405         20        640: 100%|██████████| 13/13 [00:40<00:00,  3.15s/it]\n",
      "                 Class     Images  Instances      Box(P          R      mAP50  mAP50-95): 100%|██████████| 1/1 [00:01<00:00,  1.74s/it]"
     ]
    },
    {
     "name": "stdout",
     "output_type": "stream",
     "text": [
      "                   all         21         32      0.673      0.254      0.303      0.135\n",
      "\n",
      "      Epoch    GPU_mem   box_loss   cls_loss   dfl_loss  Instances       Size\n"
     ]
    },
    {
     "name": "stderr",
     "output_type": "stream",
     "text": [
      "\n",
      "      11/50         0G      1.227      2.003      1.331         17        640: 100%|██████████| 13/13 [00:41<00:00,  3.17s/it]\n",
      "                 Class     Images  Instances      Box(P          R      mAP50  mAP50-95): 100%|██████████| 1/1 [00:01<00:00,  1.71s/it]"
     ]
    },
    {
     "name": "stdout",
     "output_type": "stream",
     "text": [
      "                   all         21         32      0.535      0.382      0.233      0.107\n",
      "\n",
      "      Epoch    GPU_mem   box_loss   cls_loss   dfl_loss  Instances       Size\n"
     ]
    },
    {
     "name": "stderr",
     "output_type": "stream",
     "text": [
      "\n",
      "      12/50         0G      1.314      2.066      1.385         21        640: 100%|██████████| 13/13 [00:41<00:00,  3.20s/it]\n",
      "                 Class     Images  Instances      Box(P          R      mAP50  mAP50-95): 100%|██████████| 1/1 [00:01<00:00,  1.61s/it]"
     ]
    },
    {
     "name": "stdout",
     "output_type": "stream",
     "text": [
      "                   all         21         32      0.557      0.285      0.338      0.165\n",
      "\n",
      "      Epoch    GPU_mem   box_loss   cls_loss   dfl_loss  Instances       Size\n"
     ]
    },
    {
     "name": "stderr",
     "output_type": "stream",
     "text": [
      "\n",
      "      13/50         0G       1.21      1.868       1.32         14        640: 100%|██████████| 13/13 [00:40<00:00,  3.13s/it]\n",
      "                 Class     Images  Instances      Box(P          R      mAP50  mAP50-95): 100%|██████████| 1/1 [00:01<00:00,  1.57s/it]"
     ]
    },
    {
     "name": "stdout",
     "output_type": "stream",
     "text": [
      "                   all         21         32      0.404      0.505      0.372      0.173\n",
      "\n",
      "      Epoch    GPU_mem   box_loss   cls_loss   dfl_loss  Instances       Size\n"
     ]
    },
    {
     "name": "stderr",
     "output_type": "stream",
     "text": [
      "\n",
      "      14/50         0G      1.234      1.872      1.309         17        640: 100%|██████████| 13/13 [00:41<00:00,  3.17s/it]\n",
      "                 Class     Images  Instances      Box(P          R      mAP50  mAP50-95): 100%|██████████| 1/1 [00:01<00:00,  1.56s/it]"
     ]
    },
    {
     "name": "stdout",
     "output_type": "stream",
     "text": [
      "                   all         21         32      0.542      0.452      0.347      0.131\n",
      "\n",
      "      Epoch    GPU_mem   box_loss   cls_loss   dfl_loss  Instances       Size\n"
     ]
    },
    {
     "name": "stderr",
     "output_type": "stream",
     "text": [
      "\n",
      "      15/50         0G      1.215       1.77      1.292         24        640: 100%|██████████| 13/13 [00:39<00:00,  3.05s/it]\n",
      "                 Class     Images  Instances      Box(P          R      mAP50  mAP50-95): 100%|██████████| 1/1 [00:01<00:00,  1.54s/it]"
     ]
    },
    {
     "name": "stdout",
     "output_type": "stream",
     "text": [
      "                   all         21         32      0.315      0.452      0.372      0.171\n",
      "\n",
      "      Epoch    GPU_mem   box_loss   cls_loss   dfl_loss  Instances       Size\n"
     ]
    },
    {
     "name": "stderr",
     "output_type": "stream",
     "text": [
      "\n",
      "      16/50         0G      1.227      1.812      1.313         25        640: 100%|██████████| 13/13 [00:39<00:00,  3.07s/it]\n",
      "                 Class     Images  Instances      Box(P          R      mAP50  mAP50-95): 100%|██████████| 1/1 [00:01<00:00,  1.57s/it]"
     ]
    },
    {
     "name": "stdout",
     "output_type": "stream",
     "text": [
      "                   all         21         32       0.37        0.5      0.334      0.125\n",
      "\n",
      "      Epoch    GPU_mem   box_loss   cls_loss   dfl_loss  Instances       Size\n"
     ]
    },
    {
     "name": "stderr",
     "output_type": "stream",
     "text": [
      "\n",
      "      17/50         0G      1.227      1.781       1.31         25        640: 100%|██████████| 13/13 [00:39<00:00,  3.06s/it]\n",
      "                 Class     Images  Instances      Box(P          R      mAP50  mAP50-95): 100%|██████████| 1/1 [00:01<00:00,  1.57s/it]"
     ]
    },
    {
     "name": "stdout",
     "output_type": "stream",
     "text": [
      "                   all         21         32      0.427      0.322      0.348      0.157\n",
      "\n",
      "      Epoch    GPU_mem   box_loss   cls_loss   dfl_loss  Instances       Size\n"
     ]
    },
    {
     "name": "stderr",
     "output_type": "stream",
     "text": [
      "\n",
      "      18/50         0G      1.199      1.709      1.292         25        640: 100%|██████████| 13/13 [00:39<00:00,  3.05s/it]\n",
      "                 Class     Images  Instances      Box(P          R      mAP50  mAP50-95): 100%|██████████| 1/1 [00:01<00:00,  1.54s/it]"
     ]
    },
    {
     "name": "stdout",
     "output_type": "stream",
     "text": [
      "                   all         21         32      0.241      0.531      0.409      0.228\n",
      "\n",
      "      Epoch    GPU_mem   box_loss   cls_loss   dfl_loss  Instances       Size\n"
     ]
    },
    {
     "name": "stderr",
     "output_type": "stream",
     "text": [
      "\n",
      "      19/50         0G      1.101      1.607      1.251         26        640: 100%|██████████| 13/13 [00:39<00:00,  3.07s/it]\n",
      "                 Class     Images  Instances      Box(P          R      mAP50  mAP50-95): 100%|██████████| 1/1 [00:01<00:00,  1.57s/it]"
     ]
    },
    {
     "name": "stdout",
     "output_type": "stream",
     "text": [
      "                   all         21         32      0.372      0.581      0.541      0.221\n",
      "\n",
      "      Epoch    GPU_mem   box_loss   cls_loss   dfl_loss  Instances       Size\n"
     ]
    },
    {
     "name": "stderr",
     "output_type": "stream",
     "text": [
      "\n",
      "      20/50         0G       1.17      1.569      1.264         21        640: 100%|██████████| 13/13 [00:39<00:00,  3.06s/it]\n",
      "                 Class     Images  Instances      Box(P          R      mAP50  mAP50-95): 100%|██████████| 1/1 [00:01<00:00,  1.55s/it]"
     ]
    },
    {
     "name": "stdout",
     "output_type": "stream",
     "text": [
      "                   all         21         32      0.402      0.609      0.528      0.265\n",
      "\n",
      "      Epoch    GPU_mem   box_loss   cls_loss   dfl_loss  Instances       Size\n"
     ]
    },
    {
     "name": "stderr",
     "output_type": "stream",
     "text": [
      "\n",
      "      21/50         0G      1.142      1.563      1.231         21        640: 100%|██████████| 13/13 [00:40<00:00,  3.11s/it]\n",
      "                 Class     Images  Instances      Box(P          R      mAP50  mAP50-95): 100%|██████████| 1/1 [00:01<00:00,  1.53s/it]"
     ]
    },
    {
     "name": "stdout",
     "output_type": "stream",
     "text": [
      "                   all         21         32      0.429      0.704      0.579       0.28\n",
      "\n",
      "      Epoch    GPU_mem   box_loss   cls_loss   dfl_loss  Instances       Size\n"
     ]
    },
    {
     "name": "stderr",
     "output_type": "stream",
     "text": [
      "\n",
      "      22/50         0G      1.097      1.568      1.241         12        640: 100%|██████████| 13/13 [02:05<00:00,  9.66s/it]\n",
      "                 Class     Images  Instances      Box(P          R      mAP50  mAP50-95): 100%|██████████| 1/1 [00:01<00:00,  1.55s/it]"
     ]
    },
    {
     "name": "stdout",
     "output_type": "stream",
     "text": [
      "                   all         21         32      0.589      0.415      0.491      0.233\n",
      "\n",
      "      Epoch    GPU_mem   box_loss   cls_loss   dfl_loss  Instances       Size\n"
     ]
    },
    {
     "name": "stderr",
     "output_type": "stream",
     "text": [
      "\n",
      "      23/50         0G      1.128      1.488      1.224         13        640: 100%|██████████| 13/13 [00:40<00:00,  3.13s/it]\n",
      "                 Class     Images  Instances      Box(P          R      mAP50  mAP50-95): 100%|██████████| 1/1 [00:01<00:00,  1.54s/it]"
     ]
    },
    {
     "name": "stdout",
     "output_type": "stream",
     "text": [
      "                   all         21         32        0.4       0.73      0.536      0.288\n",
      "\n",
      "      Epoch    GPU_mem   box_loss   cls_loss   dfl_loss  Instances       Size\n"
     ]
    },
    {
     "name": "stderr",
     "output_type": "stream",
     "text": [
      "\n",
      "      24/50         0G      1.117      1.449      1.239         21        640: 100%|██████████| 13/13 [00:41<00:00,  3.16s/it]\n",
      "                 Class     Images  Instances      Box(P          R      mAP50  mAP50-95): 100%|██████████| 1/1 [00:01<00:00,  1.57s/it]"
     ]
    },
    {
     "name": "stdout",
     "output_type": "stream",
     "text": [
      "                   all         21         32      0.431      0.639      0.635      0.297\n",
      "\n",
      "      Epoch    GPU_mem   box_loss   cls_loss   dfl_loss  Instances       Size\n"
     ]
    },
    {
     "name": "stderr",
     "output_type": "stream",
     "text": [
      "\n",
      "      25/50         0G      1.075      1.384      1.213         34        640: 100%|██████████| 13/13 [00:40<00:00,  3.12s/it]\n",
      "                 Class     Images  Instances      Box(P          R      mAP50  mAP50-95): 100%|██████████| 1/1 [00:01<00:00,  1.59s/it]"
     ]
    },
    {
     "name": "stdout",
     "output_type": "stream",
     "text": [
      "                   all         21         32      0.496      0.603       0.58      0.265\n",
      "\n",
      "      Epoch    GPU_mem   box_loss   cls_loss   dfl_loss  Instances       Size\n"
     ]
    },
    {
     "name": "stderr",
     "output_type": "stream",
     "text": [
      "\n",
      "      26/50         0G      1.051       1.37      1.208         30        640: 100%|██████████| 13/13 [00:40<00:00,  3.12s/it]\n",
      "                 Class     Images  Instances      Box(P          R      mAP50  mAP50-95): 100%|██████████| 1/1 [00:01<00:00,  1.65s/it]"
     ]
    },
    {
     "name": "stdout",
     "output_type": "stream",
     "text": [
      "                   all         21         32      0.479       0.78       0.59      0.279\n",
      "\n",
      "      Epoch    GPU_mem   box_loss   cls_loss   dfl_loss  Instances       Size\n"
     ]
    },
    {
     "name": "stderr",
     "output_type": "stream",
     "text": [
      "\n",
      "      27/50         0G      1.016      1.324      1.175         23        640: 100%|██████████| 13/13 [00:40<00:00,  3.11s/it]\n",
      "                 Class     Images  Instances      Box(P          R      mAP50  mAP50-95): 100%|██████████| 1/1 [00:01<00:00,  1.61s/it]"
     ]
    },
    {
     "name": "stdout",
     "output_type": "stream",
     "text": [
      "                   all         21         32      0.744      0.463      0.526      0.277\n",
      "\n",
      "      Epoch    GPU_mem   box_loss   cls_loss   dfl_loss  Instances       Size\n"
     ]
    },
    {
     "name": "stderr",
     "output_type": "stream",
     "text": [
      "\n",
      "      28/50         0G       1.09      1.337      1.212         20        640: 100%|██████████| 13/13 [00:41<00:00,  3.18s/it]\n",
      "                 Class     Images  Instances      Box(P          R      mAP50  mAP50-95): 100%|██████████| 1/1 [00:01<00:00,  1.62s/it]"
     ]
    },
    {
     "name": "stdout",
     "output_type": "stream",
     "text": [
      "                   all         21         32      0.664      0.399      0.453      0.205\n",
      "\n",
      "      Epoch    GPU_mem   box_loss   cls_loss   dfl_loss  Instances       Size\n"
     ]
    },
    {
     "name": "stderr",
     "output_type": "stream",
     "text": [
      "\n",
      "      29/50         0G       1.03      1.289      1.192         21        640: 100%|██████████| 13/13 [00:40<00:00,  3.10s/it]\n",
      "                 Class     Images  Instances      Box(P          R      mAP50  mAP50-95): 100%|██████████| 1/1 [00:01<00:00,  1.62s/it]"
     ]
    },
    {
     "name": "stdout",
     "output_type": "stream",
     "text": [
      "                   all         21         32      0.396      0.772       0.55      0.229\n",
      "\n",
      "      Epoch    GPU_mem   box_loss   cls_loss   dfl_loss  Instances       Size\n"
     ]
    },
    {
     "name": "stderr",
     "output_type": "stream",
     "text": [
      "\n",
      "      30/50         0G      1.073       1.29      1.213         33        640: 100%|██████████| 13/13 [00:40<00:00,  3.09s/it]\n",
      "                 Class     Images  Instances      Box(P          R      mAP50  mAP50-95): 100%|██████████| 1/1 [00:01<00:00,  1.54s/it]"
     ]
    },
    {
     "name": "stdout",
     "output_type": "stream",
     "text": [
      "                   all         21         32       0.39      0.456      0.499      0.255\n",
      "\n",
      "      Epoch    GPU_mem   box_loss   cls_loss   dfl_loss  Instances       Size\n"
     ]
    },
    {
     "name": "stderr",
     "output_type": "stream",
     "text": [
      "\n",
      "      31/50         0G     0.9904      1.247      1.135         40        640: 100%|██████████| 13/13 [00:40<00:00,  3.10s/it]\n",
      "                 Class     Images  Instances      Box(P          R      mAP50  mAP50-95): 100%|██████████| 1/1 [00:01<00:00,  1.54s/it]"
     ]
    },
    {
     "name": "stdout",
     "output_type": "stream",
     "text": [
      "                   all         21         32       0.66       0.41      0.508      0.265\n",
      "\n",
      "      Epoch    GPU_mem   box_loss   cls_loss   dfl_loss  Instances       Size\n"
     ]
    },
    {
     "name": "stderr",
     "output_type": "stream",
     "text": [
      "\n",
      "      32/50         0G     0.9957      1.205      1.152         15        640: 100%|██████████| 13/13 [00:39<00:00,  3.07s/it]\n",
      "                 Class     Images  Instances      Box(P          R      mAP50  mAP50-95): 100%|██████████| 1/1 [00:01<00:00,  1.53s/it]"
     ]
    },
    {
     "name": "stdout",
     "output_type": "stream",
     "text": [
      "                   all         21         32      0.549      0.639      0.559      0.291\n",
      "\n",
      "      Epoch    GPU_mem   box_loss   cls_loss   dfl_loss  Instances       Size\n"
     ]
    },
    {
     "name": "stderr",
     "output_type": "stream",
     "text": [
      "\n",
      "      33/50         0G      1.001      1.145      1.137         29        640: 100%|██████████| 13/13 [00:40<00:00,  3.12s/it]\n",
      "                 Class     Images  Instances      Box(P          R      mAP50  mAP50-95): 100%|██████████| 1/1 [00:01<00:00,  1.52s/it]"
     ]
    },
    {
     "name": "stdout",
     "output_type": "stream",
     "text": [
      "                   all         21         32      0.618      0.649      0.549      0.298\n",
      "\n",
      "      Epoch    GPU_mem   box_loss   cls_loss   dfl_loss  Instances       Size\n"
     ]
    },
    {
     "name": "stderr",
     "output_type": "stream",
     "text": [
      "\n",
      "      34/50         0G     0.9887      1.167      1.147         26        640: 100%|██████████| 13/13 [00:39<00:00,  3.07s/it]\n",
      "                 Class     Images  Instances      Box(P          R      mAP50  mAP50-95): 100%|██████████| 1/1 [00:01<00:00,  1.55s/it]"
     ]
    },
    {
     "name": "stdout",
     "output_type": "stream",
     "text": [
      "                   all         21         32      0.557      0.649      0.621      0.353\n",
      "\n",
      "      Epoch    GPU_mem   box_loss   cls_loss   dfl_loss  Instances       Size\n"
     ]
    },
    {
     "name": "stderr",
     "output_type": "stream",
     "text": [
      "\n",
      "      35/50         0G     0.9761      1.205      1.144         26        640: 100%|██████████| 13/13 [00:40<00:00,  3.10s/it]\n",
      "                 Class     Images  Instances      Box(P          R      mAP50  mAP50-95): 100%|██████████| 1/1 [00:01<00:00,  1.57s/it]"
     ]
    },
    {
     "name": "stdout",
     "output_type": "stream",
     "text": [
      "                   all         21         32      0.702      0.638      0.569      0.322\n",
      "\n",
      "      Epoch    GPU_mem   box_loss   cls_loss   dfl_loss  Instances       Size\n"
     ]
    },
    {
     "name": "stderr",
     "output_type": "stream",
     "text": [
      "\n",
      "      36/50         0G      1.001      1.207      1.156         15        640: 100%|██████████| 13/13 [00:40<00:00,  3.14s/it]\n",
      "                 Class     Images  Instances      Box(P          R      mAP50  mAP50-95): 100%|██████████| 1/1 [00:01<00:00,  1.57s/it]"
     ]
    },
    {
     "name": "stdout",
     "output_type": "stream",
     "text": [
      "                   all         21         32      0.653      0.509      0.563      0.294\n",
      "\n",
      "      Epoch    GPU_mem   box_loss   cls_loss   dfl_loss  Instances       Size\n"
     ]
    },
    {
     "name": "stderr",
     "output_type": "stream",
     "text": [
      "\n",
      "      37/50         0G     0.9514      1.135      1.146         23        640: 100%|██████████| 13/13 [00:45<00:00,  3.52s/it]\n",
      "                 Class     Images  Instances      Box(P          R      mAP50  mAP50-95): 100%|██████████| 1/1 [00:01<00:00,  1.71s/it]"
     ]
    },
    {
     "name": "stdout",
     "output_type": "stream",
     "text": [
      "                   all         21         32      0.831      0.452      0.568      0.277\n",
      "\n",
      "      Epoch    GPU_mem   box_loss   cls_loss   dfl_loss  Instances       Size\n"
     ]
    },
    {
     "name": "stderr",
     "output_type": "stream",
     "text": [
      "\n",
      "      38/50         0G     0.8868      1.077      1.118         14        640: 100%|██████████| 13/13 [00:45<00:00,  3.46s/it]\n",
      "                 Class     Images  Instances      Box(P          R      mAP50  mAP50-95): 100%|██████████| 1/1 [00:01<00:00,  1.72s/it]"
     ]
    },
    {
     "name": "stdout",
     "output_type": "stream",
     "text": [
      "                   all         21         32      0.618      0.571      0.571      0.264\n",
      "\n",
      "      Epoch    GPU_mem   box_loss   cls_loss   dfl_loss  Instances       Size\n"
     ]
    },
    {
     "name": "stderr",
     "output_type": "stream",
     "text": [
      "\n",
      "      39/50         0G     0.9115      1.068      1.123         29        640: 100%|██████████| 13/13 [00:47<00:00,  3.67s/it]\n",
      "                 Class     Images  Instances      Box(P          R      mAP50  mAP50-95): 100%|██████████| 1/1 [00:01<00:00,  1.77s/it]"
     ]
    },
    {
     "name": "stdout",
     "output_type": "stream",
     "text": [
      "                   all         21         32      0.663      0.554      0.559      0.272\n",
      "\n",
      "      Epoch    GPU_mem   box_loss   cls_loss   dfl_loss  Instances       Size\n"
     ]
    },
    {
     "name": "stderr",
     "output_type": "stream",
     "text": [
      "\n",
      "      40/50         0G     0.9052      1.046       1.11         31        640: 100%|██████████| 13/13 [00:46<00:00,  3.59s/it]\n",
      "                 Class     Images  Instances      Box(P          R      mAP50  mAP50-95): 100%|██████████| 1/1 [00:01<00:00,  1.70s/it]"
     ]
    },
    {
     "name": "stdout",
     "output_type": "stream",
     "text": [
      "                   all         21         32      0.508      0.624      0.577       0.29\n",
      "Closing dataloader mosaic\n",
      "\n",
      "      Epoch    GPU_mem   box_loss   cls_loss   dfl_loss  Instances       Size\n"
     ]
    },
    {
     "name": "stderr",
     "output_type": "stream",
     "text": [
      "\n",
      "c:\\Users\\Upal Mazumder\\OneDrive\\Desktop\\flickd\\.venv\\Lib\\site-packages\\torch\\utils\\data\\dataloader.py:665: UserWarning: 'pin_memory' argument is set as true but no accelerator is found, then device pinned memory won't be used.\n",
      "  warnings.warn(warn_msg)\n",
      "      41/50         0G     0.8626      1.164      1.089         18        640: 100%|██████████| 13/13 [00:47<00:00,  3.67s/it]\n",
      "                 Class     Images  Instances      Box(P          R      mAP50  mAP50-95): 100%|██████████| 1/1 [00:01<00:00,  1.72s/it]"
     ]
    },
    {
     "name": "stdout",
     "output_type": "stream",
     "text": [
      "                   all         21         32      0.473      0.619      0.651      0.331\n",
      "\n",
      "      Epoch    GPU_mem   box_loss   cls_loss   dfl_loss  Instances       Size\n"
     ]
    },
    {
     "name": "stderr",
     "output_type": "stream",
     "text": [
      "\n",
      "      42/50         0G     0.8742      1.152      1.101         10        640: 100%|██████████| 13/13 [00:45<00:00,  3.51s/it]\n",
      "                 Class     Images  Instances      Box(P          R      mAP50  mAP50-95): 100%|██████████| 1/1 [00:01<00:00,  1.70s/it]"
     ]
    },
    {
     "name": "stdout",
     "output_type": "stream",
     "text": [
      "                   all         21         32      0.468      0.696      0.593      0.276\n",
      "\n",
      "      Epoch    GPU_mem   box_loss   cls_loss   dfl_loss  Instances       Size\n"
     ]
    },
    {
     "name": "stderr",
     "output_type": "stream",
     "text": [
      "\n",
      "      43/50         0G     0.8768      1.123        1.1         20        640: 100%|██████████| 13/13 [00:46<00:00,  3.60s/it]\n",
      "                 Class     Images  Instances      Box(P          R      mAP50  mAP50-95): 100%|██████████| 1/1 [00:01<00:00,  1.84s/it]"
     ]
    },
    {
     "name": "stdout",
     "output_type": "stream",
     "text": [
      "                   all         21         32      0.464      0.743      0.576      0.277\n",
      "\n",
      "      Epoch    GPU_mem   box_loss   cls_loss   dfl_loss  Instances       Size\n"
     ]
    },
    {
     "name": "stderr",
     "output_type": "stream",
     "text": [
      "\n",
      "      44/50         0G     0.8345      1.078      1.095         12        640: 100%|██████████| 13/13 [00:48<00:00,  3.70s/it]\n",
      "                 Class     Images  Instances      Box(P          R      mAP50  mAP50-95): 100%|██████████| 1/1 [00:01<00:00,  1.71s/it]"
     ]
    },
    {
     "name": "stdout",
     "output_type": "stream",
     "text": [
      "                   all         21         32      0.558      0.783      0.668      0.349\n",
      "\n",
      "      Epoch    GPU_mem   box_loss   cls_loss   dfl_loss  Instances       Size\n"
     ]
    },
    {
     "name": "stderr",
     "output_type": "stream",
     "text": [
      "\n",
      "      45/50         0G     0.8665      1.081      1.095         10        640: 100%|██████████| 13/13 [00:44<00:00,  3.41s/it]\n",
      "                 Class     Images  Instances      Box(P          R      mAP50  mAP50-95): 100%|██████████| 1/1 [00:01<00:00,  1.56s/it]"
     ]
    },
    {
     "name": "stdout",
     "output_type": "stream",
     "text": [
      "                   all         21         32      0.583      0.736      0.762      0.382\n",
      "\n",
      "      Epoch    GPU_mem   box_loss   cls_loss   dfl_loss  Instances       Size\n"
     ]
    },
    {
     "name": "stderr",
     "output_type": "stream",
     "text": [
      "\n",
      "      46/50         0G      0.834      1.069      1.065         10        640: 100%|██████████| 13/13 [00:40<00:00,  3.08s/it]\n",
      "                 Class     Images  Instances      Box(P          R      mAP50  mAP50-95): 100%|██████████| 1/1 [00:01<00:00,  1.51s/it]"
     ]
    },
    {
     "name": "stdout",
     "output_type": "stream",
     "text": [
      "                   all         21         32      0.635      0.747      0.773      0.386\n",
      "\n",
      "      Epoch    GPU_mem   box_loss   cls_loss   dfl_loss  Instances       Size\n"
     ]
    },
    {
     "name": "stderr",
     "output_type": "stream",
     "text": [
      "\n",
      "      47/50         0G     0.8518      1.089      1.097         14        640: 100%|██████████| 13/13 [00:40<00:00,  3.15s/it]\n",
      "                 Class     Images  Instances      Box(P          R      mAP50  mAP50-95): 100%|██████████| 1/1 [00:01<00:00,  1.58s/it]"
     ]
    },
    {
     "name": "stdout",
     "output_type": "stream",
     "text": [
      "                   all         21         32      0.655      0.622      0.762      0.367\n",
      "\n",
      "      Epoch    GPU_mem   box_loss   cls_loss   dfl_loss  Instances       Size\n"
     ]
    },
    {
     "name": "stderr",
     "output_type": "stream",
     "text": [
      "\n",
      "      48/50         0G     0.7877      1.053      1.048          9        640: 100%|██████████| 13/13 [00:40<00:00,  3.12s/it]\n",
      "                 Class     Images  Instances      Box(P          R      mAP50  mAP50-95): 100%|██████████| 1/1 [00:01<00:00,  1.54s/it]"
     ]
    },
    {
     "name": "stdout",
     "output_type": "stream",
     "text": [
      "                   all         21         32      0.515       0.63       0.68      0.314\n",
      "\n",
      "      Epoch    GPU_mem   box_loss   cls_loss   dfl_loss  Instances       Size\n"
     ]
    },
    {
     "name": "stderr",
     "output_type": "stream",
     "text": [
      "\n",
      "      49/50         0G     0.7607      1.025       1.05          8        640: 100%|██████████| 13/13 [00:40<00:00,  3.15s/it]\n",
      "                 Class     Images  Instances      Box(P          R      mAP50  mAP50-95): 100%|██████████| 1/1 [00:01<00:00,  1.56s/it]"
     ]
    },
    {
     "name": "stdout",
     "output_type": "stream",
     "text": [
      "                   all         21         32      0.519      0.636       0.67       0.31\n",
      "\n",
      "      Epoch    GPU_mem   box_loss   cls_loss   dfl_loss  Instances       Size\n"
     ]
    },
    {
     "name": "stderr",
     "output_type": "stream",
     "text": [
      "\n",
      "      50/50         0G     0.7882      1.042      1.078         14        640: 100%|██████████| 13/13 [00:40<00:00,  3.13s/it]\n",
      "                 Class     Images  Instances      Box(P          R      mAP50  mAP50-95): 100%|██████████| 1/1 [00:01<00:00,  1.55s/it]"
     ]
    },
    {
     "name": "stdout",
     "output_type": "stream",
     "text": [
      "                   all         21         32       0.52      0.638      0.671      0.312\n",
      "\n",
      "50 epochs completed in 0.628 hours.\n"
     ]
    },
    {
     "name": "stderr",
     "output_type": "stream",
     "text": [
      "\n"
     ]
    },
    {
     "name": "stdout",
     "output_type": "stream",
     "text": [
      "Optimizer stripped from runs\\detect\\train4\\weights\\last.pt, 6.3MB\n",
      "Optimizer stripped from runs\\detect\\train4\\weights\\best.pt, 6.3MB\n",
      "\n",
      "Validating runs\\detect\\train4\\weights\\best.pt...\n",
      "Ultralytics 8.3.148  Python-3.13.3 torch-2.7.0+cpu CPU (AMD Ryzen 5 8645HS w/ Radeon 760M Graphics)\n",
      "Model summary (fused): 72 layers, 3,007,403 parameters, 0 gradients, 8.1 GFLOPs\n"
     ]
    },
    {
     "name": "stderr",
     "output_type": "stream",
     "text": [
      "                 Class     Images  Instances      Box(P          R      mAP50  mAP50-95): 100%|██████████| 1/1 [00:01<00:00,  1.40s/it]\n"
     ]
    },
    {
     "name": "stdout",
     "output_type": "stream",
     "text": [
      "                   all         21         32      0.628      0.747      0.773      0.386\n",
      "                bottom          6          6      0.714      0.427      0.658      0.338\n",
      "                 dress          6          6      0.445      0.833      0.564      0.376\n",
      "              ear ring          8          8       0.72      0.646      0.767      0.311\n",
      "               glasses          1          1      0.716          1      0.995      0.448\n",
      "               handbag          2          2      0.698        0.5      0.497     0.0497\n",
      "                  ring          1          1      0.688          1      0.995      0.697\n",
      "                 shoes          1          1      0.542          1      0.995      0.407\n",
      "                   top          7          7      0.498      0.571      0.715      0.463\n",
      "Speed: 1.6ms preprocess, 58.6ms inference, 0.0ms loss, 1.3ms postprocess per image\n",
      "Results saved to \u001b[1mruns\\detect\\train4\u001b[0m\n"
     ]
    },
    {
     "data": {
      "text/plain": [
       "ultralytics.utils.metrics.DetMetrics object with attributes:\n",
       "\n",
       "ap_class_index: array([0, 1, 2, 3, 4, 6, 7, 8])\n",
       "box: ultralytics.utils.metrics.Metric object\n",
       "confusion_matrix: <ultralytics.utils.metrics.ConfusionMatrix object at 0x00000292888BA7D0>\n",
       "curves: ['Precision-Recall(B)', 'F1-Confidence(B)', 'Precision-Confidence(B)', 'Recall-Confidence(B)']\n",
       "curves_results: [[array([          0,    0.001001,    0.002002,    0.003003,    0.004004,    0.005005,    0.006006,    0.007007,    0.008008,    0.009009,     0.01001,    0.011011,    0.012012,    0.013013,    0.014014,    0.015015,    0.016016,    0.017017,    0.018018,    0.019019,     0.02002,    0.021021,    0.022022,    0.023023,\n",
       "          0.024024,    0.025025,    0.026026,    0.027027,    0.028028,    0.029029,     0.03003,    0.031031,    0.032032,    0.033033,    0.034034,    0.035035,    0.036036,    0.037037,    0.038038,    0.039039,     0.04004,    0.041041,    0.042042,    0.043043,    0.044044,    0.045045,    0.046046,    0.047047,\n",
       "          0.048048,    0.049049,     0.05005,    0.051051,    0.052052,    0.053053,    0.054054,    0.055055,    0.056056,    0.057057,    0.058058,    0.059059,     0.06006,    0.061061,    0.062062,    0.063063,    0.064064,    0.065065,    0.066066,    0.067067,    0.068068,    0.069069,     0.07007,    0.071071,\n",
       "          0.072072,    0.073073,    0.074074,    0.075075,    0.076076,    0.077077,    0.078078,    0.079079,     0.08008,    0.081081,    0.082082,    0.083083,    0.084084,    0.085085,    0.086086,    0.087087,    0.088088,    0.089089,     0.09009,    0.091091,    0.092092,    0.093093,    0.094094,    0.095095,\n",
       "          0.096096,    0.097097,    0.098098,    0.099099,      0.1001,      0.1011,      0.1021,      0.1031,      0.1041,     0.10511,     0.10611,     0.10711,     0.10811,     0.10911,     0.11011,     0.11111,     0.11211,     0.11311,     0.11411,     0.11512,     0.11612,     0.11712,     0.11812,     0.11912,\n",
       "           0.12012,     0.12112,     0.12212,     0.12312,     0.12412,     0.12513,     0.12613,     0.12713,     0.12813,     0.12913,     0.13013,     0.13113,     0.13213,     0.13313,     0.13413,     0.13514,     0.13614,     0.13714,     0.13814,     0.13914,     0.14014,     0.14114,     0.14214,     0.14314,\n",
       "           0.14414,     0.14515,     0.14615,     0.14715,     0.14815,     0.14915,     0.15015,     0.15115,     0.15215,     0.15315,     0.15415,     0.15516,     0.15616,     0.15716,     0.15816,     0.15916,     0.16016,     0.16116,     0.16216,     0.16316,     0.16416,     0.16517,     0.16617,     0.16717,\n",
       "           0.16817,     0.16917,     0.17017,     0.17117,     0.17217,     0.17317,     0.17417,     0.17518,     0.17618,     0.17718,     0.17818,     0.17918,     0.18018,     0.18118,     0.18218,     0.18318,     0.18418,     0.18519,     0.18619,     0.18719,     0.18819,     0.18919,     0.19019,     0.19119,\n",
       "           0.19219,     0.19319,     0.19419,      0.1952,      0.1962,      0.1972,      0.1982,      0.1992,      0.2002,      0.2012,      0.2022,      0.2032,      0.2042,     0.20521,     0.20621,     0.20721,     0.20821,     0.20921,     0.21021,     0.21121,     0.21221,     0.21321,     0.21421,     0.21522,\n",
       "           0.21622,     0.21722,     0.21822,     0.21922,     0.22022,     0.22122,     0.22222,     0.22322,     0.22422,     0.22523,     0.22623,     0.22723,     0.22823,     0.22923,     0.23023,     0.23123,     0.23223,     0.23323,     0.23423,     0.23524,     0.23624,     0.23724,     0.23824,     0.23924,\n",
       "           0.24024,     0.24124,     0.24224,     0.24324,     0.24424,     0.24525,     0.24625,     0.24725,     0.24825,     0.24925,     0.25025,     0.25125,     0.25225,     0.25325,     0.25425,     0.25526,     0.25626,     0.25726,     0.25826,     0.25926,     0.26026,     0.26126,     0.26226,     0.26326,\n",
       "           0.26426,     0.26527,     0.26627,     0.26727,     0.26827,     0.26927,     0.27027,     0.27127,     0.27227,     0.27327,     0.27427,     0.27528,     0.27628,     0.27728,     0.27828,     0.27928,     0.28028,     0.28128,     0.28228,     0.28328,     0.28428,     0.28529,     0.28629,     0.28729,\n",
       "           0.28829,     0.28929,     0.29029,     0.29129,     0.29229,     0.29329,     0.29429,      0.2953,      0.2963,      0.2973,      0.2983,      0.2993,      0.3003,      0.3013,      0.3023,      0.3033,      0.3043,     0.30531,     0.30631,     0.30731,     0.30831,     0.30931,     0.31031,     0.31131,\n",
       "           0.31231,     0.31331,     0.31431,     0.31532,     0.31632,     0.31732,     0.31832,     0.31932,     0.32032,     0.32132,     0.32232,     0.32332,     0.32432,     0.32533,     0.32633,     0.32733,     0.32833,     0.32933,     0.33033,     0.33133,     0.33233,     0.33333,     0.33433,     0.33534,\n",
       "           0.33634,     0.33734,     0.33834,     0.33934,     0.34034,     0.34134,     0.34234,     0.34334,     0.34434,     0.34535,     0.34635,     0.34735,     0.34835,     0.34935,     0.35035,     0.35135,     0.35235,     0.35335,     0.35435,     0.35536,     0.35636,     0.35736,     0.35836,     0.35936,\n",
       "           0.36036,     0.36136,     0.36236,     0.36336,     0.36436,     0.36537,     0.36637,     0.36737,     0.36837,     0.36937,     0.37037,     0.37137,     0.37237,     0.37337,     0.37437,     0.37538,     0.37638,     0.37738,     0.37838,     0.37938,     0.38038,     0.38138,     0.38238,     0.38338,\n",
       "           0.38438,     0.38539,     0.38639,     0.38739,     0.38839,     0.38939,     0.39039,     0.39139,     0.39239,     0.39339,     0.39439,      0.3954,      0.3964,      0.3974,      0.3984,      0.3994,      0.4004,      0.4014,      0.4024,      0.4034,      0.4044,     0.40541,     0.40641,     0.40741,\n",
       "           0.40841,     0.40941,     0.41041,     0.41141,     0.41241,     0.41341,     0.41441,     0.41542,     0.41642,     0.41742,     0.41842,     0.41942,     0.42042,     0.42142,     0.42242,     0.42342,     0.42442,     0.42543,     0.42643,     0.42743,     0.42843,     0.42943,     0.43043,     0.43143,\n",
       "           0.43243,     0.43343,     0.43443,     0.43544,     0.43644,     0.43744,     0.43844,     0.43944,     0.44044,     0.44144,     0.44244,     0.44344,     0.44444,     0.44545,     0.44645,     0.44745,     0.44845,     0.44945,     0.45045,     0.45145,     0.45245,     0.45345,     0.45445,     0.45546,\n",
       "           0.45646,     0.45746,     0.45846,     0.45946,     0.46046,     0.46146,     0.46246,     0.46346,     0.46446,     0.46547,     0.46647,     0.46747,     0.46847,     0.46947,     0.47047,     0.47147,     0.47247,     0.47347,     0.47447,     0.47548,     0.47648,     0.47748,     0.47848,     0.47948,\n",
       "           0.48048,     0.48148,     0.48248,     0.48348,     0.48448,     0.48549,     0.48649,     0.48749,     0.48849,     0.48949,     0.49049,     0.49149,     0.49249,     0.49349,     0.49449,      0.4955,      0.4965,      0.4975,      0.4985,      0.4995,      0.5005,      0.5015,      0.5025,      0.5035,\n",
       "            0.5045,     0.50551,     0.50651,     0.50751,     0.50851,     0.50951,     0.51051,     0.51151,     0.51251,     0.51351,     0.51451,     0.51552,     0.51652,     0.51752,     0.51852,     0.51952,     0.52052,     0.52152,     0.52252,     0.52352,     0.52452,     0.52553,     0.52653,     0.52753,\n",
       "           0.52853,     0.52953,     0.53053,     0.53153,     0.53253,     0.53353,     0.53453,     0.53554,     0.53654,     0.53754,     0.53854,     0.53954,     0.54054,     0.54154,     0.54254,     0.54354,     0.54454,     0.54555,     0.54655,     0.54755,     0.54855,     0.54955,     0.55055,     0.55155,\n",
       "           0.55255,     0.55355,     0.55455,     0.55556,     0.55656,     0.55756,     0.55856,     0.55956,     0.56056,     0.56156,     0.56256,     0.56356,     0.56456,     0.56557,     0.56657,     0.56757,     0.56857,     0.56957,     0.57057,     0.57157,     0.57257,     0.57357,     0.57457,     0.57558,\n",
       "           0.57658,     0.57758,     0.57858,     0.57958,     0.58058,     0.58158,     0.58258,     0.58358,     0.58458,     0.58559,     0.58659,     0.58759,     0.58859,     0.58959,     0.59059,     0.59159,     0.59259,     0.59359,     0.59459,      0.5956,      0.5966,      0.5976,      0.5986,      0.5996,\n",
       "            0.6006,      0.6016,      0.6026,      0.6036,      0.6046,     0.60561,     0.60661,     0.60761,     0.60861,     0.60961,     0.61061,     0.61161,     0.61261,     0.61361,     0.61461,     0.61562,     0.61662,     0.61762,     0.61862,     0.61962,     0.62062,     0.62162,     0.62262,     0.62362,\n",
       "           0.62462,     0.62563,     0.62663,     0.62763,     0.62863,     0.62963,     0.63063,     0.63163,     0.63263,     0.63363,     0.63463,     0.63564,     0.63664,     0.63764,     0.63864,     0.63964,     0.64064,     0.64164,     0.64264,     0.64364,     0.64464,     0.64565,     0.64665,     0.64765,\n",
       "           0.64865,     0.64965,     0.65065,     0.65165,     0.65265,     0.65365,     0.65465,     0.65566,     0.65666,     0.65766,     0.65866,     0.65966,     0.66066,     0.66166,     0.66266,     0.66366,     0.66466,     0.66567,     0.66667,     0.66767,     0.66867,     0.66967,     0.67067,     0.67167,\n",
       "           0.67267,     0.67367,     0.67467,     0.67568,     0.67668,     0.67768,     0.67868,     0.67968,     0.68068,     0.68168,     0.68268,     0.68368,     0.68468,     0.68569,     0.68669,     0.68769,     0.68869,     0.68969,     0.69069,     0.69169,     0.69269,     0.69369,     0.69469,      0.6957,\n",
       "            0.6967,      0.6977,      0.6987,      0.6997,      0.7007,      0.7017,      0.7027,      0.7037,      0.7047,     0.70571,     0.70671,     0.70771,     0.70871,     0.70971,     0.71071,     0.71171,     0.71271,     0.71371,     0.71471,     0.71572,     0.71672,     0.71772,     0.71872,     0.71972,\n",
       "           0.72072,     0.72172,     0.72272,     0.72372,     0.72472,     0.72573,     0.72673,     0.72773,     0.72873,     0.72973,     0.73073,     0.73173,     0.73273,     0.73373,     0.73473,     0.73574,     0.73674,     0.73774,     0.73874,     0.73974,     0.74074,     0.74174,     0.74274,     0.74374,\n",
       "           0.74474,     0.74575,     0.74675,     0.74775,     0.74875,     0.74975,     0.75075,     0.75175,     0.75275,     0.75375,     0.75475,     0.75576,     0.75676,     0.75776,     0.75876,     0.75976,     0.76076,     0.76176,     0.76276,     0.76376,     0.76476,     0.76577,     0.76677,     0.76777,\n",
       "           0.76877,     0.76977,     0.77077,     0.77177,     0.77277,     0.77377,     0.77477,     0.77578,     0.77678,     0.77778,     0.77878,     0.77978,     0.78078,     0.78178,     0.78278,     0.78378,     0.78478,     0.78579,     0.78679,     0.78779,     0.78879,     0.78979,     0.79079,     0.79179,\n",
       "           0.79279,     0.79379,     0.79479,      0.7958,      0.7968,      0.7978,      0.7988,      0.7998,      0.8008,      0.8018,      0.8028,      0.8038,      0.8048,     0.80581,     0.80681,     0.80781,     0.80881,     0.80981,     0.81081,     0.81181,     0.81281,     0.81381,     0.81481,     0.81582,\n",
       "           0.81682,     0.81782,     0.81882,     0.81982,     0.82082,     0.82182,     0.82282,     0.82382,     0.82482,     0.82583,     0.82683,     0.82783,     0.82883,     0.82983,     0.83083,     0.83183,     0.83283,     0.83383,     0.83483,     0.83584,     0.83684,     0.83784,     0.83884,     0.83984,\n",
       "           0.84084,     0.84184,     0.84284,     0.84384,     0.84484,     0.84585,     0.84685,     0.84785,     0.84885,     0.84985,     0.85085,     0.85185,     0.85285,     0.85385,     0.85485,     0.85586,     0.85686,     0.85786,     0.85886,     0.85986,     0.86086,     0.86186,     0.86286,     0.86386,\n",
       "           0.86486,     0.86587,     0.86687,     0.86787,     0.86887,     0.86987,     0.87087,     0.87187,     0.87287,     0.87387,     0.87487,     0.87588,     0.87688,     0.87788,     0.87888,     0.87988,     0.88088,     0.88188,     0.88288,     0.88388,     0.88488,     0.88589,     0.88689,     0.88789,\n",
       "           0.88889,     0.88989,     0.89089,     0.89189,     0.89289,     0.89389,     0.89489,      0.8959,      0.8969,      0.8979,      0.8989,      0.8999,      0.9009,      0.9019,      0.9029,      0.9039,      0.9049,     0.90591,     0.90691,     0.90791,     0.90891,     0.90991,     0.91091,     0.91191,\n",
       "           0.91291,     0.91391,     0.91491,     0.91592,     0.91692,     0.91792,     0.91892,     0.91992,     0.92092,     0.92192,     0.92292,     0.92392,     0.92492,     0.92593,     0.92693,     0.92793,     0.92893,     0.92993,     0.93093,     0.93193,     0.93293,     0.93393,     0.93493,     0.93594,\n",
       "           0.93694,     0.93794,     0.93894,     0.93994,     0.94094,     0.94194,     0.94294,     0.94394,     0.94494,     0.94595,     0.94695,     0.94795,     0.94895,     0.94995,     0.95095,     0.95195,     0.95295,     0.95395,     0.95495,     0.95596,     0.95696,     0.95796,     0.95896,     0.95996,\n",
       "           0.96096,     0.96196,     0.96296,     0.96396,     0.96496,     0.96597,     0.96697,     0.96797,     0.96897,     0.96997,     0.97097,     0.97197,     0.97297,     0.97397,     0.97497,     0.97598,     0.97698,     0.97798,     0.97898,     0.97998,     0.98098,     0.98198,     0.98298,     0.98398,\n",
       "           0.98498,     0.98599,     0.98699,     0.98799,     0.98899,     0.98999,     0.99099,     0.99199,     0.99299,     0.99399,     0.99499,       0.996,       0.997,       0.998,       0.999,           1]), array([[          1,           1,           1, ...,    0.034286,    0.034286,           0],\n",
       "       [          1,           1,           1, ...,         0.4,         0.4,           0],\n",
       "       [          1,           1,           1, ...,    0.089888,    0.089888,           0],\n",
       "       ...,\n",
       "       [          1,           1,           1, ...,           1,           1,           0],\n",
       "       [          1,           1,           1, ...,           1,           1,           0],\n",
       "       [          1,           1,           1, ...,     0.14583,     0.14583,           0]], shape=(8, 1000)), 'Recall', 'Precision'], [array([          0,    0.001001,    0.002002,    0.003003,    0.004004,    0.005005,    0.006006,    0.007007,    0.008008,    0.009009,     0.01001,    0.011011,    0.012012,    0.013013,    0.014014,    0.015015,    0.016016,    0.017017,    0.018018,    0.019019,     0.02002,    0.021021,    0.022022,    0.023023,\n",
       "          0.024024,    0.025025,    0.026026,    0.027027,    0.028028,    0.029029,     0.03003,    0.031031,    0.032032,    0.033033,    0.034034,    0.035035,    0.036036,    0.037037,    0.038038,    0.039039,     0.04004,    0.041041,    0.042042,    0.043043,    0.044044,    0.045045,    0.046046,    0.047047,\n",
       "          0.048048,    0.049049,     0.05005,    0.051051,    0.052052,    0.053053,    0.054054,    0.055055,    0.056056,    0.057057,    0.058058,    0.059059,     0.06006,    0.061061,    0.062062,    0.063063,    0.064064,    0.065065,    0.066066,    0.067067,    0.068068,    0.069069,     0.07007,    0.071071,\n",
       "          0.072072,    0.073073,    0.074074,    0.075075,    0.076076,    0.077077,    0.078078,    0.079079,     0.08008,    0.081081,    0.082082,    0.083083,    0.084084,    0.085085,    0.086086,    0.087087,    0.088088,    0.089089,     0.09009,    0.091091,    0.092092,    0.093093,    0.094094,    0.095095,\n",
       "          0.096096,    0.097097,    0.098098,    0.099099,      0.1001,      0.1011,      0.1021,      0.1031,      0.1041,     0.10511,     0.10611,     0.10711,     0.10811,     0.10911,     0.11011,     0.11111,     0.11211,     0.11311,     0.11411,     0.11512,     0.11612,     0.11712,     0.11812,     0.11912,\n",
       "           0.12012,     0.12112,     0.12212,     0.12312,     0.12412,     0.12513,     0.12613,     0.12713,     0.12813,     0.12913,     0.13013,     0.13113,     0.13213,     0.13313,     0.13413,     0.13514,     0.13614,     0.13714,     0.13814,     0.13914,     0.14014,     0.14114,     0.14214,     0.14314,\n",
       "           0.14414,     0.14515,     0.14615,     0.14715,     0.14815,     0.14915,     0.15015,     0.15115,     0.15215,     0.15315,     0.15415,     0.15516,     0.15616,     0.15716,     0.15816,     0.15916,     0.16016,     0.16116,     0.16216,     0.16316,     0.16416,     0.16517,     0.16617,     0.16717,\n",
       "           0.16817,     0.16917,     0.17017,     0.17117,     0.17217,     0.17317,     0.17417,     0.17518,     0.17618,     0.17718,     0.17818,     0.17918,     0.18018,     0.18118,     0.18218,     0.18318,     0.18418,     0.18519,     0.18619,     0.18719,     0.18819,     0.18919,     0.19019,     0.19119,\n",
       "           0.19219,     0.19319,     0.19419,      0.1952,      0.1962,      0.1972,      0.1982,      0.1992,      0.2002,      0.2012,      0.2022,      0.2032,      0.2042,     0.20521,     0.20621,     0.20721,     0.20821,     0.20921,     0.21021,     0.21121,     0.21221,     0.21321,     0.21421,     0.21522,\n",
       "           0.21622,     0.21722,     0.21822,     0.21922,     0.22022,     0.22122,     0.22222,     0.22322,     0.22422,     0.22523,     0.22623,     0.22723,     0.22823,     0.22923,     0.23023,     0.23123,     0.23223,     0.23323,     0.23423,     0.23524,     0.23624,     0.23724,     0.23824,     0.23924,\n",
       "           0.24024,     0.24124,     0.24224,     0.24324,     0.24424,     0.24525,     0.24625,     0.24725,     0.24825,     0.24925,     0.25025,     0.25125,     0.25225,     0.25325,     0.25425,     0.25526,     0.25626,     0.25726,     0.25826,     0.25926,     0.26026,     0.26126,     0.26226,     0.26326,\n",
       "           0.26426,     0.26527,     0.26627,     0.26727,     0.26827,     0.26927,     0.27027,     0.27127,     0.27227,     0.27327,     0.27427,     0.27528,     0.27628,     0.27728,     0.27828,     0.27928,     0.28028,     0.28128,     0.28228,     0.28328,     0.28428,     0.28529,     0.28629,     0.28729,\n",
       "           0.28829,     0.28929,     0.29029,     0.29129,     0.29229,     0.29329,     0.29429,      0.2953,      0.2963,      0.2973,      0.2983,      0.2993,      0.3003,      0.3013,      0.3023,      0.3033,      0.3043,     0.30531,     0.30631,     0.30731,     0.30831,     0.30931,     0.31031,     0.31131,\n",
       "           0.31231,     0.31331,     0.31431,     0.31532,     0.31632,     0.31732,     0.31832,     0.31932,     0.32032,     0.32132,     0.32232,     0.32332,     0.32432,     0.32533,     0.32633,     0.32733,     0.32833,     0.32933,     0.33033,     0.33133,     0.33233,     0.33333,     0.33433,     0.33534,\n",
       "           0.33634,     0.33734,     0.33834,     0.33934,     0.34034,     0.34134,     0.34234,     0.34334,     0.34434,     0.34535,     0.34635,     0.34735,     0.34835,     0.34935,     0.35035,     0.35135,     0.35235,     0.35335,     0.35435,     0.35536,     0.35636,     0.35736,     0.35836,     0.35936,\n",
       "           0.36036,     0.36136,     0.36236,     0.36336,     0.36436,     0.36537,     0.36637,     0.36737,     0.36837,     0.36937,     0.37037,     0.37137,     0.37237,     0.37337,     0.37437,     0.37538,     0.37638,     0.37738,     0.37838,     0.37938,     0.38038,     0.38138,     0.38238,     0.38338,\n",
       "           0.38438,     0.38539,     0.38639,     0.38739,     0.38839,     0.38939,     0.39039,     0.39139,     0.39239,     0.39339,     0.39439,      0.3954,      0.3964,      0.3974,      0.3984,      0.3994,      0.4004,      0.4014,      0.4024,      0.4034,      0.4044,     0.40541,     0.40641,     0.40741,\n",
       "           0.40841,     0.40941,     0.41041,     0.41141,     0.41241,     0.41341,     0.41441,     0.41542,     0.41642,     0.41742,     0.41842,     0.41942,     0.42042,     0.42142,     0.42242,     0.42342,     0.42442,     0.42543,     0.42643,     0.42743,     0.42843,     0.42943,     0.43043,     0.43143,\n",
       "           0.43243,     0.43343,     0.43443,     0.43544,     0.43644,     0.43744,     0.43844,     0.43944,     0.44044,     0.44144,     0.44244,     0.44344,     0.44444,     0.44545,     0.44645,     0.44745,     0.44845,     0.44945,     0.45045,     0.45145,     0.45245,     0.45345,     0.45445,     0.45546,\n",
       "           0.45646,     0.45746,     0.45846,     0.45946,     0.46046,     0.46146,     0.46246,     0.46346,     0.46446,     0.46547,     0.46647,     0.46747,     0.46847,     0.46947,     0.47047,     0.47147,     0.47247,     0.47347,     0.47447,     0.47548,     0.47648,     0.47748,     0.47848,     0.47948,\n",
       "           0.48048,     0.48148,     0.48248,     0.48348,     0.48448,     0.48549,     0.48649,     0.48749,     0.48849,     0.48949,     0.49049,     0.49149,     0.49249,     0.49349,     0.49449,      0.4955,      0.4965,      0.4975,      0.4985,      0.4995,      0.5005,      0.5015,      0.5025,      0.5035,\n",
       "            0.5045,     0.50551,     0.50651,     0.50751,     0.50851,     0.50951,     0.51051,     0.51151,     0.51251,     0.51351,     0.51451,     0.51552,     0.51652,     0.51752,     0.51852,     0.51952,     0.52052,     0.52152,     0.52252,     0.52352,     0.52452,     0.52553,     0.52653,     0.52753,\n",
       "           0.52853,     0.52953,     0.53053,     0.53153,     0.53253,     0.53353,     0.53453,     0.53554,     0.53654,     0.53754,     0.53854,     0.53954,     0.54054,     0.54154,     0.54254,     0.54354,     0.54454,     0.54555,     0.54655,     0.54755,     0.54855,     0.54955,     0.55055,     0.55155,\n",
       "           0.55255,     0.55355,     0.55455,     0.55556,     0.55656,     0.55756,     0.55856,     0.55956,     0.56056,     0.56156,     0.56256,     0.56356,     0.56456,     0.56557,     0.56657,     0.56757,     0.56857,     0.56957,     0.57057,     0.57157,     0.57257,     0.57357,     0.57457,     0.57558,\n",
       "           0.57658,     0.57758,     0.57858,     0.57958,     0.58058,     0.58158,     0.58258,     0.58358,     0.58458,     0.58559,     0.58659,     0.58759,     0.58859,     0.58959,     0.59059,     0.59159,     0.59259,     0.59359,     0.59459,      0.5956,      0.5966,      0.5976,      0.5986,      0.5996,\n",
       "            0.6006,      0.6016,      0.6026,      0.6036,      0.6046,     0.60561,     0.60661,     0.60761,     0.60861,     0.60961,     0.61061,     0.61161,     0.61261,     0.61361,     0.61461,     0.61562,     0.61662,     0.61762,     0.61862,     0.61962,     0.62062,     0.62162,     0.62262,     0.62362,\n",
       "           0.62462,     0.62563,     0.62663,     0.62763,     0.62863,     0.62963,     0.63063,     0.63163,     0.63263,     0.63363,     0.63463,     0.63564,     0.63664,     0.63764,     0.63864,     0.63964,     0.64064,     0.64164,     0.64264,     0.64364,     0.64464,     0.64565,     0.64665,     0.64765,\n",
       "           0.64865,     0.64965,     0.65065,     0.65165,     0.65265,     0.65365,     0.65465,     0.65566,     0.65666,     0.65766,     0.65866,     0.65966,     0.66066,     0.66166,     0.66266,     0.66366,     0.66466,     0.66567,     0.66667,     0.66767,     0.66867,     0.66967,     0.67067,     0.67167,\n",
       "           0.67267,     0.67367,     0.67467,     0.67568,     0.67668,     0.67768,     0.67868,     0.67968,     0.68068,     0.68168,     0.68268,     0.68368,     0.68468,     0.68569,     0.68669,     0.68769,     0.68869,     0.68969,     0.69069,     0.69169,     0.69269,     0.69369,     0.69469,      0.6957,\n",
       "            0.6967,      0.6977,      0.6987,      0.6997,      0.7007,      0.7017,      0.7027,      0.7037,      0.7047,     0.70571,     0.70671,     0.70771,     0.70871,     0.70971,     0.71071,     0.71171,     0.71271,     0.71371,     0.71471,     0.71572,     0.71672,     0.71772,     0.71872,     0.71972,\n",
       "           0.72072,     0.72172,     0.72272,     0.72372,     0.72472,     0.72573,     0.72673,     0.72773,     0.72873,     0.72973,     0.73073,     0.73173,     0.73273,     0.73373,     0.73473,     0.73574,     0.73674,     0.73774,     0.73874,     0.73974,     0.74074,     0.74174,     0.74274,     0.74374,\n",
       "           0.74474,     0.74575,     0.74675,     0.74775,     0.74875,     0.74975,     0.75075,     0.75175,     0.75275,     0.75375,     0.75475,     0.75576,     0.75676,     0.75776,     0.75876,     0.75976,     0.76076,     0.76176,     0.76276,     0.76376,     0.76476,     0.76577,     0.76677,     0.76777,\n",
       "           0.76877,     0.76977,     0.77077,     0.77177,     0.77277,     0.77377,     0.77477,     0.77578,     0.77678,     0.77778,     0.77878,     0.77978,     0.78078,     0.78178,     0.78278,     0.78378,     0.78478,     0.78579,     0.78679,     0.78779,     0.78879,     0.78979,     0.79079,     0.79179,\n",
       "           0.79279,     0.79379,     0.79479,      0.7958,      0.7968,      0.7978,      0.7988,      0.7998,      0.8008,      0.8018,      0.8028,      0.8038,      0.8048,     0.80581,     0.80681,     0.80781,     0.80881,     0.80981,     0.81081,     0.81181,     0.81281,     0.81381,     0.81481,     0.81582,\n",
       "           0.81682,     0.81782,     0.81882,     0.81982,     0.82082,     0.82182,     0.82282,     0.82382,     0.82482,     0.82583,     0.82683,     0.82783,     0.82883,     0.82983,     0.83083,     0.83183,     0.83283,     0.83383,     0.83483,     0.83584,     0.83684,     0.83784,     0.83884,     0.83984,\n",
       "           0.84084,     0.84184,     0.84284,     0.84384,     0.84484,     0.84585,     0.84685,     0.84785,     0.84885,     0.84985,     0.85085,     0.85185,     0.85285,     0.85385,     0.85485,     0.85586,     0.85686,     0.85786,     0.85886,     0.85986,     0.86086,     0.86186,     0.86286,     0.86386,\n",
       "           0.86486,     0.86587,     0.86687,     0.86787,     0.86887,     0.86987,     0.87087,     0.87187,     0.87287,     0.87387,     0.87487,     0.87588,     0.87688,     0.87788,     0.87888,     0.87988,     0.88088,     0.88188,     0.88288,     0.88388,     0.88488,     0.88589,     0.88689,     0.88789,\n",
       "           0.88889,     0.88989,     0.89089,     0.89189,     0.89289,     0.89389,     0.89489,      0.8959,      0.8969,      0.8979,      0.8989,      0.8999,      0.9009,      0.9019,      0.9029,      0.9039,      0.9049,     0.90591,     0.90691,     0.90791,     0.90891,     0.90991,     0.91091,     0.91191,\n",
       "           0.91291,     0.91391,     0.91491,     0.91592,     0.91692,     0.91792,     0.91892,     0.91992,     0.92092,     0.92192,     0.92292,     0.92392,     0.92492,     0.92593,     0.92693,     0.92793,     0.92893,     0.92993,     0.93093,     0.93193,     0.93293,     0.93393,     0.93493,     0.93594,\n",
       "           0.93694,     0.93794,     0.93894,     0.93994,     0.94094,     0.94194,     0.94294,     0.94394,     0.94494,     0.94595,     0.94695,     0.94795,     0.94895,     0.94995,     0.95095,     0.95195,     0.95295,     0.95395,     0.95495,     0.95596,     0.95696,     0.95796,     0.95896,     0.95996,\n",
       "           0.96096,     0.96196,     0.96296,     0.96396,     0.96496,     0.96597,     0.96697,     0.96797,     0.96897,     0.96997,     0.97097,     0.97197,     0.97297,     0.97397,     0.97497,     0.97598,     0.97698,     0.97798,     0.97898,     0.97998,     0.98098,     0.98198,     0.98298,     0.98398,\n",
       "           0.98498,     0.98599,     0.98699,     0.98799,     0.98899,     0.98999,     0.99099,     0.99199,     0.99299,     0.99399,     0.99499,       0.996,       0.997,       0.998,       0.999,           1]), array([[   0.010686,    0.010686,    0.084664, ...,           0,           0,           0],\n",
       "       [  0.0054995,   0.0055008,    0.064967, ...,           0,           0,           0],\n",
       "       [   0.038186,    0.038186,    0.071037, ...,           0,           0,           0],\n",
       "       ...,\n",
       "       [  0.0087336,   0.0087336,    0.017745, ...,           0,           0,           0],\n",
       "       [  0.0031596,   0.0031596,    0.015177, ...,           0,           0,           0],\n",
       "       [    0.02381,     0.02382,     0.18219, ...,           0,           0,           0]], shape=(8, 1000)), 'Confidence', 'F1'], [array([          0,    0.001001,    0.002002,    0.003003,    0.004004,    0.005005,    0.006006,    0.007007,    0.008008,    0.009009,     0.01001,    0.011011,    0.012012,    0.013013,    0.014014,    0.015015,    0.016016,    0.017017,    0.018018,    0.019019,     0.02002,    0.021021,    0.022022,    0.023023,\n",
       "          0.024024,    0.025025,    0.026026,    0.027027,    0.028028,    0.029029,     0.03003,    0.031031,    0.032032,    0.033033,    0.034034,    0.035035,    0.036036,    0.037037,    0.038038,    0.039039,     0.04004,    0.041041,    0.042042,    0.043043,    0.044044,    0.045045,    0.046046,    0.047047,\n",
       "          0.048048,    0.049049,     0.05005,    0.051051,    0.052052,    0.053053,    0.054054,    0.055055,    0.056056,    0.057057,    0.058058,    0.059059,     0.06006,    0.061061,    0.062062,    0.063063,    0.064064,    0.065065,    0.066066,    0.067067,    0.068068,    0.069069,     0.07007,    0.071071,\n",
       "          0.072072,    0.073073,    0.074074,    0.075075,    0.076076,    0.077077,    0.078078,    0.079079,     0.08008,    0.081081,    0.082082,    0.083083,    0.084084,    0.085085,    0.086086,    0.087087,    0.088088,    0.089089,     0.09009,    0.091091,    0.092092,    0.093093,    0.094094,    0.095095,\n",
       "          0.096096,    0.097097,    0.098098,    0.099099,      0.1001,      0.1011,      0.1021,      0.1031,      0.1041,     0.10511,     0.10611,     0.10711,     0.10811,     0.10911,     0.11011,     0.11111,     0.11211,     0.11311,     0.11411,     0.11512,     0.11612,     0.11712,     0.11812,     0.11912,\n",
       "           0.12012,     0.12112,     0.12212,     0.12312,     0.12412,     0.12513,     0.12613,     0.12713,     0.12813,     0.12913,     0.13013,     0.13113,     0.13213,     0.13313,     0.13413,     0.13514,     0.13614,     0.13714,     0.13814,     0.13914,     0.14014,     0.14114,     0.14214,     0.14314,\n",
       "           0.14414,     0.14515,     0.14615,     0.14715,     0.14815,     0.14915,     0.15015,     0.15115,     0.15215,     0.15315,     0.15415,     0.15516,     0.15616,     0.15716,     0.15816,     0.15916,     0.16016,     0.16116,     0.16216,     0.16316,     0.16416,     0.16517,     0.16617,     0.16717,\n",
       "           0.16817,     0.16917,     0.17017,     0.17117,     0.17217,     0.17317,     0.17417,     0.17518,     0.17618,     0.17718,     0.17818,     0.17918,     0.18018,     0.18118,     0.18218,     0.18318,     0.18418,     0.18519,     0.18619,     0.18719,     0.18819,     0.18919,     0.19019,     0.19119,\n",
       "           0.19219,     0.19319,     0.19419,      0.1952,      0.1962,      0.1972,      0.1982,      0.1992,      0.2002,      0.2012,      0.2022,      0.2032,      0.2042,     0.20521,     0.20621,     0.20721,     0.20821,     0.20921,     0.21021,     0.21121,     0.21221,     0.21321,     0.21421,     0.21522,\n",
       "           0.21622,     0.21722,     0.21822,     0.21922,     0.22022,     0.22122,     0.22222,     0.22322,     0.22422,     0.22523,     0.22623,     0.22723,     0.22823,     0.22923,     0.23023,     0.23123,     0.23223,     0.23323,     0.23423,     0.23524,     0.23624,     0.23724,     0.23824,     0.23924,\n",
       "           0.24024,     0.24124,     0.24224,     0.24324,     0.24424,     0.24525,     0.24625,     0.24725,     0.24825,     0.24925,     0.25025,     0.25125,     0.25225,     0.25325,     0.25425,     0.25526,     0.25626,     0.25726,     0.25826,     0.25926,     0.26026,     0.26126,     0.26226,     0.26326,\n",
       "           0.26426,     0.26527,     0.26627,     0.26727,     0.26827,     0.26927,     0.27027,     0.27127,     0.27227,     0.27327,     0.27427,     0.27528,     0.27628,     0.27728,     0.27828,     0.27928,     0.28028,     0.28128,     0.28228,     0.28328,     0.28428,     0.28529,     0.28629,     0.28729,\n",
       "           0.28829,     0.28929,     0.29029,     0.29129,     0.29229,     0.29329,     0.29429,      0.2953,      0.2963,      0.2973,      0.2983,      0.2993,      0.3003,      0.3013,      0.3023,      0.3033,      0.3043,     0.30531,     0.30631,     0.30731,     0.30831,     0.30931,     0.31031,     0.31131,\n",
       "           0.31231,     0.31331,     0.31431,     0.31532,     0.31632,     0.31732,     0.31832,     0.31932,     0.32032,     0.32132,     0.32232,     0.32332,     0.32432,     0.32533,     0.32633,     0.32733,     0.32833,     0.32933,     0.33033,     0.33133,     0.33233,     0.33333,     0.33433,     0.33534,\n",
       "           0.33634,     0.33734,     0.33834,     0.33934,     0.34034,     0.34134,     0.34234,     0.34334,     0.34434,     0.34535,     0.34635,     0.34735,     0.34835,     0.34935,     0.35035,     0.35135,     0.35235,     0.35335,     0.35435,     0.35536,     0.35636,     0.35736,     0.35836,     0.35936,\n",
       "           0.36036,     0.36136,     0.36236,     0.36336,     0.36436,     0.36537,     0.36637,     0.36737,     0.36837,     0.36937,     0.37037,     0.37137,     0.37237,     0.37337,     0.37437,     0.37538,     0.37638,     0.37738,     0.37838,     0.37938,     0.38038,     0.38138,     0.38238,     0.38338,\n",
       "           0.38438,     0.38539,     0.38639,     0.38739,     0.38839,     0.38939,     0.39039,     0.39139,     0.39239,     0.39339,     0.39439,      0.3954,      0.3964,      0.3974,      0.3984,      0.3994,      0.4004,      0.4014,      0.4024,      0.4034,      0.4044,     0.40541,     0.40641,     0.40741,\n",
       "           0.40841,     0.40941,     0.41041,     0.41141,     0.41241,     0.41341,     0.41441,     0.41542,     0.41642,     0.41742,     0.41842,     0.41942,     0.42042,     0.42142,     0.42242,     0.42342,     0.42442,     0.42543,     0.42643,     0.42743,     0.42843,     0.42943,     0.43043,     0.43143,\n",
       "           0.43243,     0.43343,     0.43443,     0.43544,     0.43644,     0.43744,     0.43844,     0.43944,     0.44044,     0.44144,     0.44244,     0.44344,     0.44444,     0.44545,     0.44645,     0.44745,     0.44845,     0.44945,     0.45045,     0.45145,     0.45245,     0.45345,     0.45445,     0.45546,\n",
       "           0.45646,     0.45746,     0.45846,     0.45946,     0.46046,     0.46146,     0.46246,     0.46346,     0.46446,     0.46547,     0.46647,     0.46747,     0.46847,     0.46947,     0.47047,     0.47147,     0.47247,     0.47347,     0.47447,     0.47548,     0.47648,     0.47748,     0.47848,     0.47948,\n",
       "           0.48048,     0.48148,     0.48248,     0.48348,     0.48448,     0.48549,     0.48649,     0.48749,     0.48849,     0.48949,     0.49049,     0.49149,     0.49249,     0.49349,     0.49449,      0.4955,      0.4965,      0.4975,      0.4985,      0.4995,      0.5005,      0.5015,      0.5025,      0.5035,\n",
       "            0.5045,     0.50551,     0.50651,     0.50751,     0.50851,     0.50951,     0.51051,     0.51151,     0.51251,     0.51351,     0.51451,     0.51552,     0.51652,     0.51752,     0.51852,     0.51952,     0.52052,     0.52152,     0.52252,     0.52352,     0.52452,     0.52553,     0.52653,     0.52753,\n",
       "           0.52853,     0.52953,     0.53053,     0.53153,     0.53253,     0.53353,     0.53453,     0.53554,     0.53654,     0.53754,     0.53854,     0.53954,     0.54054,     0.54154,     0.54254,     0.54354,     0.54454,     0.54555,     0.54655,     0.54755,     0.54855,     0.54955,     0.55055,     0.55155,\n",
       "           0.55255,     0.55355,     0.55455,     0.55556,     0.55656,     0.55756,     0.55856,     0.55956,     0.56056,     0.56156,     0.56256,     0.56356,     0.56456,     0.56557,     0.56657,     0.56757,     0.56857,     0.56957,     0.57057,     0.57157,     0.57257,     0.57357,     0.57457,     0.57558,\n",
       "           0.57658,     0.57758,     0.57858,     0.57958,     0.58058,     0.58158,     0.58258,     0.58358,     0.58458,     0.58559,     0.58659,     0.58759,     0.58859,     0.58959,     0.59059,     0.59159,     0.59259,     0.59359,     0.59459,      0.5956,      0.5966,      0.5976,      0.5986,      0.5996,\n",
       "            0.6006,      0.6016,      0.6026,      0.6036,      0.6046,     0.60561,     0.60661,     0.60761,     0.60861,     0.60961,     0.61061,     0.61161,     0.61261,     0.61361,     0.61461,     0.61562,     0.61662,     0.61762,     0.61862,     0.61962,     0.62062,     0.62162,     0.62262,     0.62362,\n",
       "           0.62462,     0.62563,     0.62663,     0.62763,     0.62863,     0.62963,     0.63063,     0.63163,     0.63263,     0.63363,     0.63463,     0.63564,     0.63664,     0.63764,     0.63864,     0.63964,     0.64064,     0.64164,     0.64264,     0.64364,     0.64464,     0.64565,     0.64665,     0.64765,\n",
       "           0.64865,     0.64965,     0.65065,     0.65165,     0.65265,     0.65365,     0.65465,     0.65566,     0.65666,     0.65766,     0.65866,     0.65966,     0.66066,     0.66166,     0.66266,     0.66366,     0.66466,     0.66567,     0.66667,     0.66767,     0.66867,     0.66967,     0.67067,     0.67167,\n",
       "           0.67267,     0.67367,     0.67467,     0.67568,     0.67668,     0.67768,     0.67868,     0.67968,     0.68068,     0.68168,     0.68268,     0.68368,     0.68468,     0.68569,     0.68669,     0.68769,     0.68869,     0.68969,     0.69069,     0.69169,     0.69269,     0.69369,     0.69469,      0.6957,\n",
       "            0.6967,      0.6977,      0.6987,      0.6997,      0.7007,      0.7017,      0.7027,      0.7037,      0.7047,     0.70571,     0.70671,     0.70771,     0.70871,     0.70971,     0.71071,     0.71171,     0.71271,     0.71371,     0.71471,     0.71572,     0.71672,     0.71772,     0.71872,     0.71972,\n",
       "           0.72072,     0.72172,     0.72272,     0.72372,     0.72472,     0.72573,     0.72673,     0.72773,     0.72873,     0.72973,     0.73073,     0.73173,     0.73273,     0.73373,     0.73473,     0.73574,     0.73674,     0.73774,     0.73874,     0.73974,     0.74074,     0.74174,     0.74274,     0.74374,\n",
       "           0.74474,     0.74575,     0.74675,     0.74775,     0.74875,     0.74975,     0.75075,     0.75175,     0.75275,     0.75375,     0.75475,     0.75576,     0.75676,     0.75776,     0.75876,     0.75976,     0.76076,     0.76176,     0.76276,     0.76376,     0.76476,     0.76577,     0.76677,     0.76777,\n",
       "           0.76877,     0.76977,     0.77077,     0.77177,     0.77277,     0.77377,     0.77477,     0.77578,     0.77678,     0.77778,     0.77878,     0.77978,     0.78078,     0.78178,     0.78278,     0.78378,     0.78478,     0.78579,     0.78679,     0.78779,     0.78879,     0.78979,     0.79079,     0.79179,\n",
       "           0.79279,     0.79379,     0.79479,      0.7958,      0.7968,      0.7978,      0.7988,      0.7998,      0.8008,      0.8018,      0.8028,      0.8038,      0.8048,     0.80581,     0.80681,     0.80781,     0.80881,     0.80981,     0.81081,     0.81181,     0.81281,     0.81381,     0.81481,     0.81582,\n",
       "           0.81682,     0.81782,     0.81882,     0.81982,     0.82082,     0.82182,     0.82282,     0.82382,     0.82482,     0.82583,     0.82683,     0.82783,     0.82883,     0.82983,     0.83083,     0.83183,     0.83283,     0.83383,     0.83483,     0.83584,     0.83684,     0.83784,     0.83884,     0.83984,\n",
       "           0.84084,     0.84184,     0.84284,     0.84384,     0.84484,     0.84585,     0.84685,     0.84785,     0.84885,     0.84985,     0.85085,     0.85185,     0.85285,     0.85385,     0.85485,     0.85586,     0.85686,     0.85786,     0.85886,     0.85986,     0.86086,     0.86186,     0.86286,     0.86386,\n",
       "           0.86486,     0.86587,     0.86687,     0.86787,     0.86887,     0.86987,     0.87087,     0.87187,     0.87287,     0.87387,     0.87487,     0.87588,     0.87688,     0.87788,     0.87888,     0.87988,     0.88088,     0.88188,     0.88288,     0.88388,     0.88488,     0.88589,     0.88689,     0.88789,\n",
       "           0.88889,     0.88989,     0.89089,     0.89189,     0.89289,     0.89389,     0.89489,      0.8959,      0.8969,      0.8979,      0.8989,      0.8999,      0.9009,      0.9019,      0.9029,      0.9039,      0.9049,     0.90591,     0.90691,     0.90791,     0.90891,     0.90991,     0.91091,     0.91191,\n",
       "           0.91291,     0.91391,     0.91491,     0.91592,     0.91692,     0.91792,     0.91892,     0.91992,     0.92092,     0.92192,     0.92292,     0.92392,     0.92492,     0.92593,     0.92693,     0.92793,     0.92893,     0.92993,     0.93093,     0.93193,     0.93293,     0.93393,     0.93493,     0.93594,\n",
       "           0.93694,     0.93794,     0.93894,     0.93994,     0.94094,     0.94194,     0.94294,     0.94394,     0.94494,     0.94595,     0.94695,     0.94795,     0.94895,     0.94995,     0.95095,     0.95195,     0.95295,     0.95395,     0.95495,     0.95596,     0.95696,     0.95796,     0.95896,     0.95996,\n",
       "           0.96096,     0.96196,     0.96296,     0.96396,     0.96496,     0.96597,     0.96697,     0.96797,     0.96897,     0.96997,     0.97097,     0.97197,     0.97297,     0.97397,     0.97497,     0.97598,     0.97698,     0.97798,     0.97898,     0.97998,     0.98098,     0.98198,     0.98298,     0.98398,\n",
       "           0.98498,     0.98599,     0.98699,     0.98799,     0.98899,     0.98999,     0.99099,     0.99199,     0.99299,     0.99399,     0.99499,       0.996,       0.997,       0.998,       0.999,           1]), array([[  0.0053715,   0.0053715,    0.044597, ...,           1,           1,           1],\n",
       "       [  0.0027574,    0.002758,    0.033574, ...,           1,           1,           1],\n",
       "       [   0.019465,    0.019465,    0.036827, ...,           1,           1,           1],\n",
       "       ...,\n",
       "       [   0.004386,    0.004386,   0.0089518, ...,           1,           1,           1],\n",
       "       [  0.0015823,   0.0015823,   0.0076465, ...,           1,           1,           1],\n",
       "       [   0.012048,    0.012054,     0.10023, ...,           1,           1,           1]], shape=(8, 1000)), 'Confidence', 'Precision'], [array([          0,    0.001001,    0.002002,    0.003003,    0.004004,    0.005005,    0.006006,    0.007007,    0.008008,    0.009009,     0.01001,    0.011011,    0.012012,    0.013013,    0.014014,    0.015015,    0.016016,    0.017017,    0.018018,    0.019019,     0.02002,    0.021021,    0.022022,    0.023023,\n",
       "          0.024024,    0.025025,    0.026026,    0.027027,    0.028028,    0.029029,     0.03003,    0.031031,    0.032032,    0.033033,    0.034034,    0.035035,    0.036036,    0.037037,    0.038038,    0.039039,     0.04004,    0.041041,    0.042042,    0.043043,    0.044044,    0.045045,    0.046046,    0.047047,\n",
       "          0.048048,    0.049049,     0.05005,    0.051051,    0.052052,    0.053053,    0.054054,    0.055055,    0.056056,    0.057057,    0.058058,    0.059059,     0.06006,    0.061061,    0.062062,    0.063063,    0.064064,    0.065065,    0.066066,    0.067067,    0.068068,    0.069069,     0.07007,    0.071071,\n",
       "          0.072072,    0.073073,    0.074074,    0.075075,    0.076076,    0.077077,    0.078078,    0.079079,     0.08008,    0.081081,    0.082082,    0.083083,    0.084084,    0.085085,    0.086086,    0.087087,    0.088088,    0.089089,     0.09009,    0.091091,    0.092092,    0.093093,    0.094094,    0.095095,\n",
       "          0.096096,    0.097097,    0.098098,    0.099099,      0.1001,      0.1011,      0.1021,      0.1031,      0.1041,     0.10511,     0.10611,     0.10711,     0.10811,     0.10911,     0.11011,     0.11111,     0.11211,     0.11311,     0.11411,     0.11512,     0.11612,     0.11712,     0.11812,     0.11912,\n",
       "           0.12012,     0.12112,     0.12212,     0.12312,     0.12412,     0.12513,     0.12613,     0.12713,     0.12813,     0.12913,     0.13013,     0.13113,     0.13213,     0.13313,     0.13413,     0.13514,     0.13614,     0.13714,     0.13814,     0.13914,     0.14014,     0.14114,     0.14214,     0.14314,\n",
       "           0.14414,     0.14515,     0.14615,     0.14715,     0.14815,     0.14915,     0.15015,     0.15115,     0.15215,     0.15315,     0.15415,     0.15516,     0.15616,     0.15716,     0.15816,     0.15916,     0.16016,     0.16116,     0.16216,     0.16316,     0.16416,     0.16517,     0.16617,     0.16717,\n",
       "           0.16817,     0.16917,     0.17017,     0.17117,     0.17217,     0.17317,     0.17417,     0.17518,     0.17618,     0.17718,     0.17818,     0.17918,     0.18018,     0.18118,     0.18218,     0.18318,     0.18418,     0.18519,     0.18619,     0.18719,     0.18819,     0.18919,     0.19019,     0.19119,\n",
       "           0.19219,     0.19319,     0.19419,      0.1952,      0.1962,      0.1972,      0.1982,      0.1992,      0.2002,      0.2012,      0.2022,      0.2032,      0.2042,     0.20521,     0.20621,     0.20721,     0.20821,     0.20921,     0.21021,     0.21121,     0.21221,     0.21321,     0.21421,     0.21522,\n",
       "           0.21622,     0.21722,     0.21822,     0.21922,     0.22022,     0.22122,     0.22222,     0.22322,     0.22422,     0.22523,     0.22623,     0.22723,     0.22823,     0.22923,     0.23023,     0.23123,     0.23223,     0.23323,     0.23423,     0.23524,     0.23624,     0.23724,     0.23824,     0.23924,\n",
       "           0.24024,     0.24124,     0.24224,     0.24324,     0.24424,     0.24525,     0.24625,     0.24725,     0.24825,     0.24925,     0.25025,     0.25125,     0.25225,     0.25325,     0.25425,     0.25526,     0.25626,     0.25726,     0.25826,     0.25926,     0.26026,     0.26126,     0.26226,     0.26326,\n",
       "           0.26426,     0.26527,     0.26627,     0.26727,     0.26827,     0.26927,     0.27027,     0.27127,     0.27227,     0.27327,     0.27427,     0.27528,     0.27628,     0.27728,     0.27828,     0.27928,     0.28028,     0.28128,     0.28228,     0.28328,     0.28428,     0.28529,     0.28629,     0.28729,\n",
       "           0.28829,     0.28929,     0.29029,     0.29129,     0.29229,     0.29329,     0.29429,      0.2953,      0.2963,      0.2973,      0.2983,      0.2993,      0.3003,      0.3013,      0.3023,      0.3033,      0.3043,     0.30531,     0.30631,     0.30731,     0.30831,     0.30931,     0.31031,     0.31131,\n",
       "           0.31231,     0.31331,     0.31431,     0.31532,     0.31632,     0.31732,     0.31832,     0.31932,     0.32032,     0.32132,     0.32232,     0.32332,     0.32432,     0.32533,     0.32633,     0.32733,     0.32833,     0.32933,     0.33033,     0.33133,     0.33233,     0.33333,     0.33433,     0.33534,\n",
       "           0.33634,     0.33734,     0.33834,     0.33934,     0.34034,     0.34134,     0.34234,     0.34334,     0.34434,     0.34535,     0.34635,     0.34735,     0.34835,     0.34935,     0.35035,     0.35135,     0.35235,     0.35335,     0.35435,     0.35536,     0.35636,     0.35736,     0.35836,     0.35936,\n",
       "           0.36036,     0.36136,     0.36236,     0.36336,     0.36436,     0.36537,     0.36637,     0.36737,     0.36837,     0.36937,     0.37037,     0.37137,     0.37237,     0.37337,     0.37437,     0.37538,     0.37638,     0.37738,     0.37838,     0.37938,     0.38038,     0.38138,     0.38238,     0.38338,\n",
       "           0.38438,     0.38539,     0.38639,     0.38739,     0.38839,     0.38939,     0.39039,     0.39139,     0.39239,     0.39339,     0.39439,      0.3954,      0.3964,      0.3974,      0.3984,      0.3994,      0.4004,      0.4014,      0.4024,      0.4034,      0.4044,     0.40541,     0.40641,     0.40741,\n",
       "           0.40841,     0.40941,     0.41041,     0.41141,     0.41241,     0.41341,     0.41441,     0.41542,     0.41642,     0.41742,     0.41842,     0.41942,     0.42042,     0.42142,     0.42242,     0.42342,     0.42442,     0.42543,     0.42643,     0.42743,     0.42843,     0.42943,     0.43043,     0.43143,\n",
       "           0.43243,     0.43343,     0.43443,     0.43544,     0.43644,     0.43744,     0.43844,     0.43944,     0.44044,     0.44144,     0.44244,     0.44344,     0.44444,     0.44545,     0.44645,     0.44745,     0.44845,     0.44945,     0.45045,     0.45145,     0.45245,     0.45345,     0.45445,     0.45546,\n",
       "           0.45646,     0.45746,     0.45846,     0.45946,     0.46046,     0.46146,     0.46246,     0.46346,     0.46446,     0.46547,     0.46647,     0.46747,     0.46847,     0.46947,     0.47047,     0.47147,     0.47247,     0.47347,     0.47447,     0.47548,     0.47648,     0.47748,     0.47848,     0.47948,\n",
       "           0.48048,     0.48148,     0.48248,     0.48348,     0.48448,     0.48549,     0.48649,     0.48749,     0.48849,     0.48949,     0.49049,     0.49149,     0.49249,     0.49349,     0.49449,      0.4955,      0.4965,      0.4975,      0.4985,      0.4995,      0.5005,      0.5015,      0.5025,      0.5035,\n",
       "            0.5045,     0.50551,     0.50651,     0.50751,     0.50851,     0.50951,     0.51051,     0.51151,     0.51251,     0.51351,     0.51451,     0.51552,     0.51652,     0.51752,     0.51852,     0.51952,     0.52052,     0.52152,     0.52252,     0.52352,     0.52452,     0.52553,     0.52653,     0.52753,\n",
       "           0.52853,     0.52953,     0.53053,     0.53153,     0.53253,     0.53353,     0.53453,     0.53554,     0.53654,     0.53754,     0.53854,     0.53954,     0.54054,     0.54154,     0.54254,     0.54354,     0.54454,     0.54555,     0.54655,     0.54755,     0.54855,     0.54955,     0.55055,     0.55155,\n",
       "           0.55255,     0.55355,     0.55455,     0.55556,     0.55656,     0.55756,     0.55856,     0.55956,     0.56056,     0.56156,     0.56256,     0.56356,     0.56456,     0.56557,     0.56657,     0.56757,     0.56857,     0.56957,     0.57057,     0.57157,     0.57257,     0.57357,     0.57457,     0.57558,\n",
       "           0.57658,     0.57758,     0.57858,     0.57958,     0.58058,     0.58158,     0.58258,     0.58358,     0.58458,     0.58559,     0.58659,     0.58759,     0.58859,     0.58959,     0.59059,     0.59159,     0.59259,     0.59359,     0.59459,      0.5956,      0.5966,      0.5976,      0.5986,      0.5996,\n",
       "            0.6006,      0.6016,      0.6026,      0.6036,      0.6046,     0.60561,     0.60661,     0.60761,     0.60861,     0.60961,     0.61061,     0.61161,     0.61261,     0.61361,     0.61461,     0.61562,     0.61662,     0.61762,     0.61862,     0.61962,     0.62062,     0.62162,     0.62262,     0.62362,\n",
       "           0.62462,     0.62563,     0.62663,     0.62763,     0.62863,     0.62963,     0.63063,     0.63163,     0.63263,     0.63363,     0.63463,     0.63564,     0.63664,     0.63764,     0.63864,     0.63964,     0.64064,     0.64164,     0.64264,     0.64364,     0.64464,     0.64565,     0.64665,     0.64765,\n",
       "           0.64865,     0.64965,     0.65065,     0.65165,     0.65265,     0.65365,     0.65465,     0.65566,     0.65666,     0.65766,     0.65866,     0.65966,     0.66066,     0.66166,     0.66266,     0.66366,     0.66466,     0.66567,     0.66667,     0.66767,     0.66867,     0.66967,     0.67067,     0.67167,\n",
       "           0.67267,     0.67367,     0.67467,     0.67568,     0.67668,     0.67768,     0.67868,     0.67968,     0.68068,     0.68168,     0.68268,     0.68368,     0.68468,     0.68569,     0.68669,     0.68769,     0.68869,     0.68969,     0.69069,     0.69169,     0.69269,     0.69369,     0.69469,      0.6957,\n",
       "            0.6967,      0.6977,      0.6987,      0.6997,      0.7007,      0.7017,      0.7027,      0.7037,      0.7047,     0.70571,     0.70671,     0.70771,     0.70871,     0.70971,     0.71071,     0.71171,     0.71271,     0.71371,     0.71471,     0.71572,     0.71672,     0.71772,     0.71872,     0.71972,\n",
       "           0.72072,     0.72172,     0.72272,     0.72372,     0.72472,     0.72573,     0.72673,     0.72773,     0.72873,     0.72973,     0.73073,     0.73173,     0.73273,     0.73373,     0.73473,     0.73574,     0.73674,     0.73774,     0.73874,     0.73974,     0.74074,     0.74174,     0.74274,     0.74374,\n",
       "           0.74474,     0.74575,     0.74675,     0.74775,     0.74875,     0.74975,     0.75075,     0.75175,     0.75275,     0.75375,     0.75475,     0.75576,     0.75676,     0.75776,     0.75876,     0.75976,     0.76076,     0.76176,     0.76276,     0.76376,     0.76476,     0.76577,     0.76677,     0.76777,\n",
       "           0.76877,     0.76977,     0.77077,     0.77177,     0.77277,     0.77377,     0.77477,     0.77578,     0.77678,     0.77778,     0.77878,     0.77978,     0.78078,     0.78178,     0.78278,     0.78378,     0.78478,     0.78579,     0.78679,     0.78779,     0.78879,     0.78979,     0.79079,     0.79179,\n",
       "           0.79279,     0.79379,     0.79479,      0.7958,      0.7968,      0.7978,      0.7988,      0.7998,      0.8008,      0.8018,      0.8028,      0.8038,      0.8048,     0.80581,     0.80681,     0.80781,     0.80881,     0.80981,     0.81081,     0.81181,     0.81281,     0.81381,     0.81481,     0.81582,\n",
       "           0.81682,     0.81782,     0.81882,     0.81982,     0.82082,     0.82182,     0.82282,     0.82382,     0.82482,     0.82583,     0.82683,     0.82783,     0.82883,     0.82983,     0.83083,     0.83183,     0.83283,     0.83383,     0.83483,     0.83584,     0.83684,     0.83784,     0.83884,     0.83984,\n",
       "           0.84084,     0.84184,     0.84284,     0.84384,     0.84484,     0.84585,     0.84685,     0.84785,     0.84885,     0.84985,     0.85085,     0.85185,     0.85285,     0.85385,     0.85485,     0.85586,     0.85686,     0.85786,     0.85886,     0.85986,     0.86086,     0.86186,     0.86286,     0.86386,\n",
       "           0.86486,     0.86587,     0.86687,     0.86787,     0.86887,     0.86987,     0.87087,     0.87187,     0.87287,     0.87387,     0.87487,     0.87588,     0.87688,     0.87788,     0.87888,     0.87988,     0.88088,     0.88188,     0.88288,     0.88388,     0.88488,     0.88589,     0.88689,     0.88789,\n",
       "           0.88889,     0.88989,     0.89089,     0.89189,     0.89289,     0.89389,     0.89489,      0.8959,      0.8969,      0.8979,      0.8989,      0.8999,      0.9009,      0.9019,      0.9029,      0.9039,      0.9049,     0.90591,     0.90691,     0.90791,     0.90891,     0.90991,     0.91091,     0.91191,\n",
       "           0.91291,     0.91391,     0.91491,     0.91592,     0.91692,     0.91792,     0.91892,     0.91992,     0.92092,     0.92192,     0.92292,     0.92392,     0.92492,     0.92593,     0.92693,     0.92793,     0.92893,     0.92993,     0.93093,     0.93193,     0.93293,     0.93393,     0.93493,     0.93594,\n",
       "           0.93694,     0.93794,     0.93894,     0.93994,     0.94094,     0.94194,     0.94294,     0.94394,     0.94494,     0.94595,     0.94695,     0.94795,     0.94895,     0.94995,     0.95095,     0.95195,     0.95295,     0.95395,     0.95495,     0.95596,     0.95696,     0.95796,     0.95896,     0.95996,\n",
       "           0.96096,     0.96196,     0.96296,     0.96396,     0.96496,     0.96597,     0.96697,     0.96797,     0.96897,     0.96997,     0.97097,     0.97197,     0.97297,     0.97397,     0.97497,     0.97598,     0.97698,     0.97798,     0.97898,     0.97998,     0.98098,     0.98198,     0.98298,     0.98398,\n",
       "           0.98498,     0.98599,     0.98699,     0.98799,     0.98899,     0.98999,     0.99099,     0.99199,     0.99299,     0.99399,     0.99499,       0.996,       0.997,       0.998,       0.999,           1]), array([[          1,           1,     0.83333, ...,           0,           0,           0],\n",
       "       [          1,           1,           1, ...,           0,           0,           0],\n",
       "       [          1,           1,           1, ...,           0,           0,           0],\n",
       "       ...,\n",
       "       [          1,           1,           1, ...,           0,           0,           0],\n",
       "       [          1,           1,           1, ...,           0,           0,           0],\n",
       "       [          1,           1,           1, ...,           0,           0,           0]], shape=(8, 1000)), 'Confidence', 'Recall']]\n",
       "fitness: np.float64(0.4248595883745637)\n",
       "keys: ['metrics/precision(B)', 'metrics/recall(B)', 'metrics/mAP50(B)', 'metrics/mAP50-95(B)']\n",
       "maps: array([    0.33789,     0.37561,      0.3115,     0.44775,     0.04975,     0.38614,      0.6965,     0.40678,     0.46337])\n",
       "names: {0: 'bottom', 1: 'dress', 2: 'ear ring', 3: 'glasses', 4: 'handbag', 5: 'jacket', 6: 'ring', 7: 'shoes', 8: 'top'}\n",
       "plot: True\n",
       "results_dict: {'metrics/precision(B)': np.float64(0.6275324735922262), 'metrics/recall(B)': np.float64(0.7472989666142731), 'metrics/mAP50(B)': np.float64(0.7733031261146781), 'metrics/mAP50-95(B)': np.float64(0.3861436397367732), 'fitness': np.float64(0.4248595883745637)}\n",
       "save_dir: WindowsPath('runs/detect/train4')\n",
       "speed: {'preprocess': 1.616595238114574, 'inference': 58.62260952389555, 'loss': 7.142842237261079e-05, 'postprocess': 1.304647619170802}\n",
       "task: 'detect'"
      ]
     },
     "execution_count": 11,
     "metadata": {},
     "output_type": "execute_result"
    }
   ],
   "source": [
    "model.train(data=\"Fashion.v12i.yolov8\\data.yaml\",epochs=50,imgsz=640)\n"
   ]
  },
  {
   "cell_type": "code",
   "execution_count": 15,
   "id": "1bad9152",
   "metadata": {},
   "outputs": [
    {
     "name": "stdout",
     "output_type": "stream",
     "text": [
      "\n"
     ]
    },
    {
     "name": "stdout",
     "output_type": "stream",
     "text": [
      "WARNING \n",
      "inference results will accumulate in RAM unless `stream=True` is passed, causing potential out-of-memory\n",
      "errors for large sources or long-running streams and videos. See https://docs.ultralytics.com/modes/predict/ for help.\n",
      "\n",
      "Example:\n",
      "    results = model(source=..., stream=True)  # generator of Results objects\n",
      "    for r in results:\n",
      "        boxes = r.boxes  # Boxes object for bbox outputs\n",
      "        masks = r.masks  # Masks object for segment masks outputs\n",
      "        probs = r.probs  # Class probabilities for classification outputs\n",
      "\n",
      "video 1/1 (frame 1/788) c:\\Users\\Upal Mazumder\\OneDrive\\Desktop\\flickd\\test_vid\\VID_20250604_121446_002.mp4: 640x384 2 dresss, 1 glasses, 3 shoess, 37.0ms\n",
      "video 1/1 (frame 2/788) c:\\Users\\Upal Mazumder\\OneDrive\\Desktop\\flickd\\test_vid\\VID_20250604_121446_002.mp4: 640x384 2 dresss, 1 glasses, 3 shoess, 30.4ms\n"
     ]
    },
    {
     "name": "stderr",
     "output_type": "stream",
     "text": [
      "<>:2: SyntaxWarning: invalid escape sequence '\\V'\n",
      "<>:2: SyntaxWarning: invalid escape sequence '\\V'\n",
      "C:\\Users\\Upal Mazumder\\AppData\\Local\\Temp\\ipykernel_24196\\1721072803.py:2: SyntaxWarning: invalid escape sequence '\\V'\n",
      "  source=\"test_vid\\VID_20250604_121446_002.mp4\",     # Input video path\n"
     ]
    },
    {
     "name": "stdout",
     "output_type": "stream",
     "text": [
      "video 1/1 (frame 3/788) c:\\Users\\Upal Mazumder\\OneDrive\\Desktop\\flickd\\test_vid\\VID_20250604_121446_002.mp4: 640x384 2 dresss, 1 glasses, 2 shoess, 30.1ms\n",
      "video 1/1 (frame 4/788) c:\\Users\\Upal Mazumder\\OneDrive\\Desktop\\flickd\\test_vid\\VID_20250604_121446_002.mp4: 640x384 2 dresss, 1 glasses, 2 shoess, 36.2ms\n",
      "video 1/1 (frame 5/788) c:\\Users\\Upal Mazumder\\OneDrive\\Desktop\\flickd\\test_vid\\VID_20250604_121446_002.mp4: 640x384 2 dresss, 1 glasses, 2 shoess, 29.8ms\n",
      "video 1/1 (frame 6/788) c:\\Users\\Upal Mazumder\\OneDrive\\Desktop\\flickd\\test_vid\\VID_20250604_121446_002.mp4: 640x384 2 dresss, 1 glasses, 2 shoess, 31.5ms\n",
      "video 1/1 (frame 7/788) c:\\Users\\Upal Mazumder\\OneDrive\\Desktop\\flickd\\test_vid\\VID_20250604_121446_002.mp4: 640x384 2 dresss, 1 glasses, 2 shoess, 27.6ms\n",
      "video 1/1 (frame 8/788) c:\\Users\\Upal Mazumder\\OneDrive\\Desktop\\flickd\\test_vid\\VID_20250604_121446_002.mp4: 640x384 2 dresss, 1 glasses, 3 shoess, 34.8ms\n",
      "video 1/1 (frame 9/788) c:\\Users\\Upal Mazumder\\OneDrive\\Desktop\\flickd\\test_vid\\VID_20250604_121446_002.mp4: 640x384 2 dresss, 1 glasses, 2 shoess, 30.2ms\n",
      "video 1/1 (frame 10/788) c:\\Users\\Upal Mazumder\\OneDrive\\Desktop\\flickd\\test_vid\\VID_20250604_121446_002.mp4: 640x384 2 dresss, 1 glasses, 2 shoess, 32.4ms\n",
      "video 1/1 (frame 11/788) c:\\Users\\Upal Mazumder\\OneDrive\\Desktop\\flickd\\test_vid\\VID_20250604_121446_002.mp4: 640x384 2 dresss, 1 glasses, 2 shoess, 32.2ms\n",
      "video 1/1 (frame 12/788) c:\\Users\\Upal Mazumder\\OneDrive\\Desktop\\flickd\\test_vid\\VID_20250604_121446_002.mp4: 640x384 2 dresss, 1 glasses, 2 shoess, 30.4ms\n",
      "video 1/1 (frame 13/788) c:\\Users\\Upal Mazumder\\OneDrive\\Desktop\\flickd\\test_vid\\VID_20250604_121446_002.mp4: 640x384 2 dresss, 1 shoes, 30.5ms\n",
      "video 1/1 (frame 14/788) c:\\Users\\Upal Mazumder\\OneDrive\\Desktop\\flickd\\test_vid\\VID_20250604_121446_002.mp4: 640x384 2 dresss, 1 glasses, 1 shoes, 27.6ms\n",
      "video 1/1 (frame 15/788) c:\\Users\\Upal Mazumder\\OneDrive\\Desktop\\flickd\\test_vid\\VID_20250604_121446_002.mp4: 640x384 1 dress, 1 shoes, 29.8ms\n",
      "video 1/1 (frame 16/788) c:\\Users\\Upal Mazumder\\OneDrive\\Desktop\\flickd\\test_vid\\VID_20250604_121446_002.mp4: 640x384 1 dress, 2 shoess, 28.9ms\n",
      "video 1/1 (frame 17/788) c:\\Users\\Upal Mazumder\\OneDrive\\Desktop\\flickd\\test_vid\\VID_20250604_121446_002.mp4: 640x384 1 dress, 1 glasses, 3 shoess, 1 top, 28.6ms\n",
      "video 1/1 (frame 18/788) c:\\Users\\Upal Mazumder\\OneDrive\\Desktop\\flickd\\test_vid\\VID_20250604_121446_002.mp4: 640x384 1 dress, 1 glasses, 2 shoess, 1 top, 30.7ms\n",
      "video 1/1 (frame 19/788) c:\\Users\\Upal Mazumder\\OneDrive\\Desktop\\flickd\\test_vid\\VID_20250604_121446_002.mp4: 640x384 1 dress, 1 shoes, 1 top, 29.5ms\n",
      "video 1/1 (frame 20/788) c:\\Users\\Upal Mazumder\\OneDrive\\Desktop\\flickd\\test_vid\\VID_20250604_121446_002.mp4: 640x384 1 dress, 3 shoess, 1 top, 33.5ms\n",
      "video 1/1 (frame 21/788) c:\\Users\\Upal Mazumder\\OneDrive\\Desktop\\flickd\\test_vid\\VID_20250604_121446_002.mp4: 640x384 1 dress, 4 shoess, 1 top, 34.4ms\n",
      "video 1/1 (frame 22/788) c:\\Users\\Upal Mazumder\\OneDrive\\Desktop\\flickd\\test_vid\\VID_20250604_121446_002.mp4: 640x384 1 dress, 3 shoess, 1 top, 33.0ms\n",
      "video 1/1 (frame 23/788) c:\\Users\\Upal Mazumder\\OneDrive\\Desktop\\flickd\\test_vid\\VID_20250604_121446_002.mp4: 640x384 1 dress, 4 shoess, 1 top, 29.7ms\n",
      "video 1/1 (frame 24/788) c:\\Users\\Upal Mazumder\\OneDrive\\Desktop\\flickd\\test_vid\\VID_20250604_121446_002.mp4: 640x384 4 shoess, 1 top, 29.8ms\n",
      "video 1/1 (frame 25/788) c:\\Users\\Upal Mazumder\\OneDrive\\Desktop\\flickd\\test_vid\\VID_20250604_121446_002.mp4: 640x384 3 shoess, 2 tops, 29.3ms\n",
      "video 1/1 (frame 26/788) c:\\Users\\Upal Mazumder\\OneDrive\\Desktop\\flickd\\test_vid\\VID_20250604_121446_002.mp4: 640x384 1 dress, 4 shoess, 1 top, 29.4ms\n",
      "video 1/1 (frame 27/788) c:\\Users\\Upal Mazumder\\OneDrive\\Desktop\\flickd\\test_vid\\VID_20250604_121446_002.mp4: 640x384 1 dress, 3 shoess, 1 top, 34.7ms\n",
      "video 1/1 (frame 28/788) c:\\Users\\Upal Mazumder\\OneDrive\\Desktop\\flickd\\test_vid\\VID_20250604_121446_002.mp4: 640x384 4 shoess, 1 top, 32.8ms\n",
      "video 1/1 (frame 29/788) c:\\Users\\Upal Mazumder\\OneDrive\\Desktop\\flickd\\test_vid\\VID_20250604_121446_002.mp4: 640x384 1 dress, 1 glasses, 3 shoess, 1 top, 29.5ms\n",
      "video 1/1 (frame 30/788) c:\\Users\\Upal Mazumder\\OneDrive\\Desktop\\flickd\\test_vid\\VID_20250604_121446_002.mp4: 640x384 1 glasses, 3 shoess, 2 tops, 31.9ms\n",
      "video 1/1 (frame 31/788) c:\\Users\\Upal Mazumder\\OneDrive\\Desktop\\flickd\\test_vid\\VID_20250604_121446_002.mp4: 640x384 1 glasses, 2 shoess, 1 top, 29.1ms\n",
      "video 1/1 (frame 32/788) c:\\Users\\Upal Mazumder\\OneDrive\\Desktop\\flickd\\test_vid\\VID_20250604_121446_002.mp4: 640x384 1 glasses, 1 shoes, 1 top, 55.2ms\n",
      "video 1/1 (frame 33/788) c:\\Users\\Upal Mazumder\\OneDrive\\Desktop\\flickd\\test_vid\\VID_20250604_121446_002.mp4: 640x384 1 shoes, 1 top, 31.8ms\n",
      "video 1/1 (frame 34/788) c:\\Users\\Upal Mazumder\\OneDrive\\Desktop\\flickd\\test_vid\\VID_20250604_121446_002.mp4: 640x384 1 shoes, 1 top, 31.8ms\n",
      "video 1/1 (frame 35/788) c:\\Users\\Upal Mazumder\\OneDrive\\Desktop\\flickd\\test_vid\\VID_20250604_121446_002.mp4: 640x384 2 shoess, 1 top, 28.8ms\n",
      "video 1/1 (frame 36/788) c:\\Users\\Upal Mazumder\\OneDrive\\Desktop\\flickd\\test_vid\\VID_20250604_121446_002.mp4: 640x384 2 shoess, 1 top, 28.3ms\n",
      "video 1/1 (frame 37/788) c:\\Users\\Upal Mazumder\\OneDrive\\Desktop\\flickd\\test_vid\\VID_20250604_121446_002.mp4: 640x384 1 shoes, 28.8ms\n",
      "video 1/1 (frame 38/788) c:\\Users\\Upal Mazumder\\OneDrive\\Desktop\\flickd\\test_vid\\VID_20250604_121446_002.mp4: 640x384 1 shoes, 1 top, 29.0ms\n",
      "video 1/1 (frame 39/788) c:\\Users\\Upal Mazumder\\OneDrive\\Desktop\\flickd\\test_vid\\VID_20250604_121446_002.mp4: 640x384 1 dress, 1 glasses, 2 shoess, 31.6ms\n",
      "video 1/1 (frame 40/788) c:\\Users\\Upal Mazumder\\OneDrive\\Desktop\\flickd\\test_vid\\VID_20250604_121446_002.mp4: 640x384 1 dress, 1 glasses, 2 shoess, 1 top, 28.9ms\n",
      "video 1/1 (frame 41/788) c:\\Users\\Upal Mazumder\\OneDrive\\Desktop\\flickd\\test_vid\\VID_20250604_121446_002.mp4: 640x384 1 glasses, 2 shoess, 29.7ms\n",
      "video 1/1 (frame 42/788) c:\\Users\\Upal Mazumder\\OneDrive\\Desktop\\flickd\\test_vid\\VID_20250604_121446_002.mp4: 640x384 1 glasses, 1 handbag, 3 shoess, 30.9ms\n",
      "video 1/1 (frame 43/788) c:\\Users\\Upal Mazumder\\OneDrive\\Desktop\\flickd\\test_vid\\VID_20250604_121446_002.mp4: 640x384 1 glasses, 1 handbag, 2 shoess, 1 top, 27.7ms\n",
      "video 1/1 (frame 44/788) c:\\Users\\Upal Mazumder\\OneDrive\\Desktop\\flickd\\test_vid\\VID_20250604_121446_002.mp4: 640x384 1 glasses, 1 handbag, 2 shoess, 1 top, 36.6ms\n",
      "video 1/1 (frame 45/788) c:\\Users\\Upal Mazumder\\OneDrive\\Desktop\\flickd\\test_vid\\VID_20250604_121446_002.mp4: 640x384 1 glasses, 1 handbag, 2 shoess, 1 top, 28.4ms\n",
      "video 1/1 (frame 46/788) c:\\Users\\Upal Mazumder\\OneDrive\\Desktop\\flickd\\test_vid\\VID_20250604_121446_002.mp4: 640x384 1 glasses, 1 handbag, 2 shoess, 1 top, 28.7ms\n",
      "video 1/1 (frame 47/788) c:\\Users\\Upal Mazumder\\OneDrive\\Desktop\\flickd\\test_vid\\VID_20250604_121446_002.mp4: 640x384 1 glasses, 1 handbag, 2 shoess, 1 top, 29.4ms\n",
      "video 1/1 (frame 48/788) c:\\Users\\Upal Mazumder\\OneDrive\\Desktop\\flickd\\test_vid\\VID_20250604_121446_002.mp4: 640x384 1 glasses, 1 handbag, 2 shoess, 1 top, 27.7ms\n",
      "video 1/1 (frame 49/788) c:\\Users\\Upal Mazumder\\OneDrive\\Desktop\\flickd\\test_vid\\VID_20250604_121446_002.mp4: 640x384 1 glasses, 1 handbag, 2 shoess, 1 top, 39.9ms\n",
      "video 1/1 (frame 50/788) c:\\Users\\Upal Mazumder\\OneDrive\\Desktop\\flickd\\test_vid\\VID_20250604_121446_002.mp4: 640x384 1 glasses, 1 handbag, 2 shoess, 1 top, 30.8ms\n",
      "video 1/1 (frame 51/788) c:\\Users\\Upal Mazumder\\OneDrive\\Desktop\\flickd\\test_vid\\VID_20250604_121446_002.mp4: 640x384 1 glasses, 1 handbag, 3 shoess, 1 top, 29.4ms\n",
      "video 1/1 (frame 52/788) c:\\Users\\Upal Mazumder\\OneDrive\\Desktop\\flickd\\test_vid\\VID_20250604_121446_002.mp4: 640x384 1 glasses, 1 handbag, 2 shoess, 1 top, 28.1ms\n",
      "video 1/1 (frame 53/788) c:\\Users\\Upal Mazumder\\OneDrive\\Desktop\\flickd\\test_vid\\VID_20250604_121446_002.mp4: 640x384 1 glasses, 1 handbag, 3 shoess, 1 top, 28.2ms\n",
      "video 1/1 (frame 54/788) c:\\Users\\Upal Mazumder\\OneDrive\\Desktop\\flickd\\test_vid\\VID_20250604_121446_002.mp4: 640x384 1 glasses, 1 handbag, 3 shoess, 1 top, 28.9ms\n",
      "video 1/1 (frame 55/788) c:\\Users\\Upal Mazumder\\OneDrive\\Desktop\\flickd\\test_vid\\VID_20250604_121446_002.mp4: 640x384 1 glasses, 1 handbag, 3 shoess, 1 top, 64.0ms\n",
      "video 1/1 (frame 56/788) c:\\Users\\Upal Mazumder\\OneDrive\\Desktop\\flickd\\test_vid\\VID_20250604_121446_002.mp4: 640x384 1 glasses, 1 handbag, 3 shoess, 1 top, 31.9ms\n",
      "video 1/1 (frame 57/788) c:\\Users\\Upal Mazumder\\OneDrive\\Desktop\\flickd\\test_vid\\VID_20250604_121446_002.mp4: 640x384 1 glasses, 1 handbag, 3 shoess, 1 top, 28.3ms\n",
      "video 1/1 (frame 58/788) c:\\Users\\Upal Mazumder\\OneDrive\\Desktop\\flickd\\test_vid\\VID_20250604_121446_002.mp4: 640x384 1 glasses, 1 handbag, 3 shoess, 29.0ms\n",
      "video 1/1 (frame 59/788) c:\\Users\\Upal Mazumder\\OneDrive\\Desktop\\flickd\\test_vid\\VID_20250604_121446_002.mp4: 640x384 1 glasses, 1 handbag, 3 shoess, 28.7ms\n",
      "video 1/1 (frame 60/788) c:\\Users\\Upal Mazumder\\OneDrive\\Desktop\\flickd\\test_vid\\VID_20250604_121446_002.mp4: 640x384 1 glasses, 1 handbag, 3 shoess, 27.7ms\n",
      "video 1/1 (frame 61/788) c:\\Users\\Upal Mazumder\\OneDrive\\Desktop\\flickd\\test_vid\\VID_20250604_121446_002.mp4: 640x384 1 glasses, 1 handbag, 3 shoess, 28.0ms\n",
      "video 1/1 (frame 62/788) c:\\Users\\Upal Mazumder\\OneDrive\\Desktop\\flickd\\test_vid\\VID_20250604_121446_002.mp4: 640x384 2 glassess, 1 handbag, 3 shoess, 1 top, 28.7ms\n",
      "video 1/1 (frame 63/788) c:\\Users\\Upal Mazumder\\OneDrive\\Desktop\\flickd\\test_vid\\VID_20250604_121446_002.mp4: 640x384 1 bottom, 1 glasses, 1 handbag, 3 shoess, 1 top, 28.8ms\n",
      "video 1/1 (frame 64/788) c:\\Users\\Upal Mazumder\\OneDrive\\Desktop\\flickd\\test_vid\\VID_20250604_121446_002.mp4: 640x384 1 bottom, 1 glasses, 1 handbag, 3 shoess, 1 top, 34.0ms\n",
      "video 1/1 (frame 65/788) c:\\Users\\Upal Mazumder\\OneDrive\\Desktop\\flickd\\test_vid\\VID_20250604_121446_002.mp4: 640x384 1 bottom, 1 top, 28.8ms\n",
      "video 1/1 (frame 66/788) c:\\Users\\Upal Mazumder\\OneDrive\\Desktop\\flickd\\test_vid\\VID_20250604_121446_002.mp4: 640x384 1 bottom, 1 top, 29.8ms\n",
      "video 1/1 (frame 67/788) c:\\Users\\Upal Mazumder\\OneDrive\\Desktop\\flickd\\test_vid\\VID_20250604_121446_002.mp4: 640x384 1 bottom, 1 top, 28.3ms\n",
      "video 1/1 (frame 68/788) c:\\Users\\Upal Mazumder\\OneDrive\\Desktop\\flickd\\test_vid\\VID_20250604_121446_002.mp4: 640x384 1 bottom, 1 top, 31.5ms\n",
      "video 1/1 (frame 69/788) c:\\Users\\Upal Mazumder\\OneDrive\\Desktop\\flickd\\test_vid\\VID_20250604_121446_002.mp4: 640x384 1 bottom, 1 top, 29.5ms\n",
      "video 1/1 (frame 70/788) c:\\Users\\Upal Mazumder\\OneDrive\\Desktop\\flickd\\test_vid\\VID_20250604_121446_002.mp4: 640x384 1 bottom, 1 top, 27.5ms\n",
      "video 1/1 (frame 71/788) c:\\Users\\Upal Mazumder\\OneDrive\\Desktop\\flickd\\test_vid\\VID_20250604_121446_002.mp4: 640x384 1 bottom, 1 top, 35.2ms\n",
      "video 1/1 (frame 72/788) c:\\Users\\Upal Mazumder\\OneDrive\\Desktop\\flickd\\test_vid\\VID_20250604_121446_002.mp4: 640x384 1 bottom, 2 tops, 31.1ms\n",
      "video 1/1 (frame 73/788) c:\\Users\\Upal Mazumder\\OneDrive\\Desktop\\flickd\\test_vid\\VID_20250604_121446_002.mp4: 640x384 1 bottom, 1 top, 31.3ms\n",
      "video 1/1 (frame 74/788) c:\\Users\\Upal Mazumder\\OneDrive\\Desktop\\flickd\\test_vid\\VID_20250604_121446_002.mp4: 640x384 1 bottom, 1 top, 30.3ms\n",
      "video 1/1 (frame 75/788) c:\\Users\\Upal Mazumder\\OneDrive\\Desktop\\flickd\\test_vid\\VID_20250604_121446_002.mp4: 640x384 1 bottom, 1 top, 27.4ms\n",
      "video 1/1 (frame 76/788) c:\\Users\\Upal Mazumder\\OneDrive\\Desktop\\flickd\\test_vid\\VID_20250604_121446_002.mp4: 640x384 1 bottom, 1 top, 28.5ms\n",
      "video 1/1 (frame 77/788) c:\\Users\\Upal Mazumder\\OneDrive\\Desktop\\flickd\\test_vid\\VID_20250604_121446_002.mp4: 640x384 1 bottom, 1 top, 29.4ms\n",
      "video 1/1 (frame 78/788) c:\\Users\\Upal Mazumder\\OneDrive\\Desktop\\flickd\\test_vid\\VID_20250604_121446_002.mp4: 640x384 1 bottom, 2 tops, 28.5ms\n",
      "video 1/1 (frame 79/788) c:\\Users\\Upal Mazumder\\OneDrive\\Desktop\\flickd\\test_vid\\VID_20250604_121446_002.mp4: 640x384 1 bottom, 2 tops, 30.5ms\n",
      "video 1/1 (frame 80/788) c:\\Users\\Upal Mazumder\\OneDrive\\Desktop\\flickd\\test_vid\\VID_20250604_121446_002.mp4: 640x384 1 bottom, 1 top, 27.7ms\n",
      "video 1/1 (frame 81/788) c:\\Users\\Upal Mazumder\\OneDrive\\Desktop\\flickd\\test_vid\\VID_20250604_121446_002.mp4: 640x384 1 bottom, 1 top, 28.3ms\n",
      "video 1/1 (frame 82/788) c:\\Users\\Upal Mazumder\\OneDrive\\Desktop\\flickd\\test_vid\\VID_20250604_121446_002.mp4: 640x384 1 bottom, 1 top, 28.7ms\n",
      "video 1/1 (frame 83/788) c:\\Users\\Upal Mazumder\\OneDrive\\Desktop\\flickd\\test_vid\\VID_20250604_121446_002.mp4: 640x384 1 bottom, 1 top, 28.7ms\n",
      "video 1/1 (frame 84/788) c:\\Users\\Upal Mazumder\\OneDrive\\Desktop\\flickd\\test_vid\\VID_20250604_121446_002.mp4: 640x384 1 bottom, 1 top, 29.1ms\n",
      "video 1/1 (frame 85/788) c:\\Users\\Upal Mazumder\\OneDrive\\Desktop\\flickd\\test_vid\\VID_20250604_121446_002.mp4: 640x384 1 bottom, 1 top, 31.1ms\n",
      "video 1/1 (frame 86/788) c:\\Users\\Upal Mazumder\\OneDrive\\Desktop\\flickd\\test_vid\\VID_20250604_121446_002.mp4: 640x384 1 bottom, 1 top, 28.4ms\n",
      "video 1/1 (frame 87/788) c:\\Users\\Upal Mazumder\\OneDrive\\Desktop\\flickd\\test_vid\\VID_20250604_121446_002.mp4: 640x384 1 bottom, 1 top, 28.0ms\n",
      "video 1/1 (frame 88/788) c:\\Users\\Upal Mazumder\\OneDrive\\Desktop\\flickd\\test_vid\\VID_20250604_121446_002.mp4: 640x384 1 bottom, 1 top, 28.4ms\n",
      "video 1/1 (frame 89/788) c:\\Users\\Upal Mazumder\\OneDrive\\Desktop\\flickd\\test_vid\\VID_20250604_121446_002.mp4: 640x384 1 bottom, 1 handbag, 1 top, 27.6ms\n",
      "video 1/1 (frame 90/788) c:\\Users\\Upal Mazumder\\OneDrive\\Desktop\\flickd\\test_vid\\VID_20250604_121446_002.mp4: 640x384 1 bottom, 1 top, 29.7ms\n",
      "video 1/1 (frame 91/788) c:\\Users\\Upal Mazumder\\OneDrive\\Desktop\\flickd\\test_vid\\VID_20250604_121446_002.mp4: 640x384 1 bottom, 1 top, 32.1ms\n",
      "video 1/1 (frame 92/788) c:\\Users\\Upal Mazumder\\OneDrive\\Desktop\\flickd\\test_vid\\VID_20250604_121446_002.mp4: 640x384 1 bottom, 1 top, 31.5ms\n",
      "video 1/1 (frame 93/788) c:\\Users\\Upal Mazumder\\OneDrive\\Desktop\\flickd\\test_vid\\VID_20250604_121446_002.mp4: 640x384 1 bottom, 1 top, 29.2ms\n",
      "video 1/1 (frame 94/788) c:\\Users\\Upal Mazumder\\OneDrive\\Desktop\\flickd\\test_vid\\VID_20250604_121446_002.mp4: 640x384 1 bottom, 1 top, 27.1ms\n",
      "video 1/1 (frame 95/788) c:\\Users\\Upal Mazumder\\OneDrive\\Desktop\\flickd\\test_vid\\VID_20250604_121446_002.mp4: 640x384 1 bottom, 1 top, 27.4ms\n",
      "video 1/1 (frame 96/788) c:\\Users\\Upal Mazumder\\OneDrive\\Desktop\\flickd\\test_vid\\VID_20250604_121446_002.mp4: 640x384 1 bottom, 1 top, 31.0ms\n",
      "video 1/1 (frame 97/788) c:\\Users\\Upal Mazumder\\OneDrive\\Desktop\\flickd\\test_vid\\VID_20250604_121446_002.mp4: 640x384 1 bottom, 1 top, 28.9ms\n",
      "video 1/1 (frame 98/788) c:\\Users\\Upal Mazumder\\OneDrive\\Desktop\\flickd\\test_vid\\VID_20250604_121446_002.mp4: 640x384 1 top, 30.7ms\n",
      "video 1/1 (frame 99/788) c:\\Users\\Upal Mazumder\\OneDrive\\Desktop\\flickd\\test_vid\\VID_20250604_121446_002.mp4: 640x384 1 top, 29.8ms\n",
      "video 1/1 (frame 100/788) c:\\Users\\Upal Mazumder\\OneDrive\\Desktop\\flickd\\test_vid\\VID_20250604_121446_002.mp4: 640x384 1 top, 30.5ms\n",
      "video 1/1 (frame 101/788) c:\\Users\\Upal Mazumder\\OneDrive\\Desktop\\flickd\\test_vid\\VID_20250604_121446_002.mp4: 640x384 1 top, 29.5ms\n",
      "video 1/1 (frame 102/788) c:\\Users\\Upal Mazumder\\OneDrive\\Desktop\\flickd\\test_vid\\VID_20250604_121446_002.mp4: 640x384 1 top, 29.3ms\n",
      "video 1/1 (frame 103/788) c:\\Users\\Upal Mazumder\\OneDrive\\Desktop\\flickd\\test_vid\\VID_20250604_121446_002.mp4: 640x384 1 top, 30.9ms\n",
      "video 1/1 (frame 104/788) c:\\Users\\Upal Mazumder\\OneDrive\\Desktop\\flickd\\test_vid\\VID_20250604_121446_002.mp4: 640x384 1 top, 28.2ms\n",
      "video 1/1 (frame 105/788) c:\\Users\\Upal Mazumder\\OneDrive\\Desktop\\flickd\\test_vid\\VID_20250604_121446_002.mp4: 640x384 1 top, 29.4ms\n",
      "video 1/1 (frame 106/788) c:\\Users\\Upal Mazumder\\OneDrive\\Desktop\\flickd\\test_vid\\VID_20250604_121446_002.mp4: 640x384 1 top, 27.4ms\n",
      "video 1/1 (frame 107/788) c:\\Users\\Upal Mazumder\\OneDrive\\Desktop\\flickd\\test_vid\\VID_20250604_121446_002.mp4: 640x384 1 top, 31.7ms\n",
      "video 1/1 (frame 108/788) c:\\Users\\Upal Mazumder\\OneDrive\\Desktop\\flickd\\test_vid\\VID_20250604_121446_002.mp4: 640x384 1 top, 32.2ms\n",
      "video 1/1 (frame 109/788) c:\\Users\\Upal Mazumder\\OneDrive\\Desktop\\flickd\\test_vid\\VID_20250604_121446_002.mp4: 640x384 1 top, 30.2ms\n",
      "video 1/1 (frame 110/788) c:\\Users\\Upal Mazumder\\OneDrive\\Desktop\\flickd\\test_vid\\VID_20250604_121446_002.mp4: 640x384 1 top, 28.1ms\n",
      "video 1/1 (frame 111/788) c:\\Users\\Upal Mazumder\\OneDrive\\Desktop\\flickd\\test_vid\\VID_20250604_121446_002.mp4: 640x384 1 top, 34.4ms\n",
      "video 1/1 (frame 112/788) c:\\Users\\Upal Mazumder\\OneDrive\\Desktop\\flickd\\test_vid\\VID_20250604_121446_002.mp4: 640x384 1 top, 29.7ms\n",
      "video 1/1 (frame 113/788) c:\\Users\\Upal Mazumder\\OneDrive\\Desktop\\flickd\\test_vid\\VID_20250604_121446_002.mp4: 640x384 1 top, 28.0ms\n",
      "video 1/1 (frame 114/788) c:\\Users\\Upal Mazumder\\OneDrive\\Desktop\\flickd\\test_vid\\VID_20250604_121446_002.mp4: 640x384 1 top, 29.4ms\n",
      "video 1/1 (frame 115/788) c:\\Users\\Upal Mazumder\\OneDrive\\Desktop\\flickd\\test_vid\\VID_20250604_121446_002.mp4: 640x384 1 top, 28.1ms\n",
      "video 1/1 (frame 116/788) c:\\Users\\Upal Mazumder\\OneDrive\\Desktop\\flickd\\test_vid\\VID_20250604_121446_002.mp4: 640x384 1 top, 29.0ms\n",
      "video 1/1 (frame 117/788) c:\\Users\\Upal Mazumder\\OneDrive\\Desktop\\flickd\\test_vid\\VID_20250604_121446_002.mp4: 640x384 1 top, 31.0ms\n",
      "video 1/1 (frame 118/788) c:\\Users\\Upal Mazumder\\OneDrive\\Desktop\\flickd\\test_vid\\VID_20250604_121446_002.mp4: 640x384 1 top, 31.3ms\n",
      "video 1/1 (frame 119/788) c:\\Users\\Upal Mazumder\\OneDrive\\Desktop\\flickd\\test_vid\\VID_20250604_121446_002.mp4: 640x384 1 top, 29.2ms\n",
      "video 1/1 (frame 120/788) c:\\Users\\Upal Mazumder\\OneDrive\\Desktop\\flickd\\test_vid\\VID_20250604_121446_002.mp4: 640x384 1 top, 28.5ms\n",
      "video 1/1 (frame 121/788) c:\\Users\\Upal Mazumder\\OneDrive\\Desktop\\flickd\\test_vid\\VID_20250604_121446_002.mp4: 640x384 1 top, 28.2ms\n",
      "video 1/1 (frame 122/788) c:\\Users\\Upal Mazumder\\OneDrive\\Desktop\\flickd\\test_vid\\VID_20250604_121446_002.mp4: 640x384 1 top, 28.5ms\n",
      "video 1/1 (frame 123/788) c:\\Users\\Upal Mazumder\\OneDrive\\Desktop\\flickd\\test_vid\\VID_20250604_121446_002.mp4: 640x384 1 top, 28.6ms\n",
      "video 1/1 (frame 124/788) c:\\Users\\Upal Mazumder\\OneDrive\\Desktop\\flickd\\test_vid\\VID_20250604_121446_002.mp4: 640x384 1 top, 27.5ms\n",
      "video 1/1 (frame 125/788) c:\\Users\\Upal Mazumder\\OneDrive\\Desktop\\flickd\\test_vid\\VID_20250604_121446_002.mp4: 640x384 1 top, 34.4ms\n",
      "video 1/1 (frame 126/788) c:\\Users\\Upal Mazumder\\OneDrive\\Desktop\\flickd\\test_vid\\VID_20250604_121446_002.mp4: 640x384 1 top, 29.6ms\n",
      "video 1/1 (frame 127/788) c:\\Users\\Upal Mazumder\\OneDrive\\Desktop\\flickd\\test_vid\\VID_20250604_121446_002.mp4: 640x384 1 top, 29.8ms\n",
      "video 1/1 (frame 128/788) c:\\Users\\Upal Mazumder\\OneDrive\\Desktop\\flickd\\test_vid\\VID_20250604_121446_002.mp4: 640x384 1 top, 28.8ms\n",
      "video 1/1 (frame 129/788) c:\\Users\\Upal Mazumder\\OneDrive\\Desktop\\flickd\\test_vid\\VID_20250604_121446_002.mp4: 640x384 1 top, 29.8ms\n",
      "video 1/1 (frame 130/788) c:\\Users\\Upal Mazumder\\OneDrive\\Desktop\\flickd\\test_vid\\VID_20250604_121446_002.mp4: 640x384 1 top, 28.3ms\n",
      "video 1/1 (frame 131/788) c:\\Users\\Upal Mazumder\\OneDrive\\Desktop\\flickd\\test_vid\\VID_20250604_121446_002.mp4: 640x384 1 top, 30.4ms\n",
      "video 1/1 (frame 132/788) c:\\Users\\Upal Mazumder\\OneDrive\\Desktop\\flickd\\test_vid\\VID_20250604_121446_002.mp4: 640x384 1 top, 28.6ms\n",
      "video 1/1 (frame 133/788) c:\\Users\\Upal Mazumder\\OneDrive\\Desktop\\flickd\\test_vid\\VID_20250604_121446_002.mp4: 640x384 1 top, 28.3ms\n",
      "video 1/1 (frame 134/788) c:\\Users\\Upal Mazumder\\OneDrive\\Desktop\\flickd\\test_vid\\VID_20250604_121446_002.mp4: 640x384 1 top, 28.4ms\n",
      "video 1/1 (frame 135/788) c:\\Users\\Upal Mazumder\\OneDrive\\Desktop\\flickd\\test_vid\\VID_20250604_121446_002.mp4: 640x384 1 bottom, 1 ear ring, 1 top, 29.8ms\n",
      "video 1/1 (frame 136/788) c:\\Users\\Upal Mazumder\\OneDrive\\Desktop\\flickd\\test_vid\\VID_20250604_121446_002.mp4: 640x384 1 bottom, 1 top, 28.3ms\n",
      "video 1/1 (frame 137/788) c:\\Users\\Upal Mazumder\\OneDrive\\Desktop\\flickd\\test_vid\\VID_20250604_121446_002.mp4: 640x384 1 bottom, 1 top, 29.6ms\n",
      "video 1/1 (frame 138/788) c:\\Users\\Upal Mazumder\\OneDrive\\Desktop\\flickd\\test_vid\\VID_20250604_121446_002.mp4: 640x384 1 bottom, 1 ear ring, 1 top, 28.8ms\n",
      "video 1/1 (frame 139/788) c:\\Users\\Upal Mazumder\\OneDrive\\Desktop\\flickd\\test_vid\\VID_20250604_121446_002.mp4: 640x384 1 bottom, 1 top, 38.0ms\n",
      "video 1/1 (frame 140/788) c:\\Users\\Upal Mazumder\\OneDrive\\Desktop\\flickd\\test_vid\\VID_20250604_121446_002.mp4: 640x384 1 bottom, 1 top, 29.8ms\n",
      "video 1/1 (frame 141/788) c:\\Users\\Upal Mazumder\\OneDrive\\Desktop\\flickd\\test_vid\\VID_20250604_121446_002.mp4: 640x384 1 ear ring, 1 top, 26.7ms\n",
      "video 1/1 (frame 142/788) c:\\Users\\Upal Mazumder\\OneDrive\\Desktop\\flickd\\test_vid\\VID_20250604_121446_002.mp4: 640x384 1 ear ring, 1 top, 28.1ms\n",
      "video 1/1 (frame 143/788) c:\\Users\\Upal Mazumder\\OneDrive\\Desktop\\flickd\\test_vid\\VID_20250604_121446_002.mp4: 640x384 1 ear ring, 1 top, 29.2ms\n",
      "video 1/1 (frame 144/788) c:\\Users\\Upal Mazumder\\OneDrive\\Desktop\\flickd\\test_vid\\VID_20250604_121446_002.mp4: 640x384 1 bottom, 1 ear ring, 1 top, 32.8ms\n",
      "video 1/1 (frame 145/788) c:\\Users\\Upal Mazumder\\OneDrive\\Desktop\\flickd\\test_vid\\VID_20250604_121446_002.mp4: 640x384 1 bottom, 1 top, 30.1ms\n",
      "video 1/1 (frame 146/788) c:\\Users\\Upal Mazumder\\OneDrive\\Desktop\\flickd\\test_vid\\VID_20250604_121446_002.mp4: 640x384 1 bottom, 1 top, 29.6ms\n",
      "video 1/1 (frame 147/788) c:\\Users\\Upal Mazumder\\OneDrive\\Desktop\\flickd\\test_vid\\VID_20250604_121446_002.mp4: 640x384 1 bottom, 1 top, 30.6ms\n",
      "video 1/1 (frame 148/788) c:\\Users\\Upal Mazumder\\OneDrive\\Desktop\\flickd\\test_vid\\VID_20250604_121446_002.mp4: 640x384 1 bottom, 1 top, 39.1ms\n",
      "video 1/1 (frame 149/788) c:\\Users\\Upal Mazumder\\OneDrive\\Desktop\\flickd\\test_vid\\VID_20250604_121446_002.mp4: 640x384 1 bottom, 1 top, 29.0ms\n",
      "video 1/1 (frame 150/788) c:\\Users\\Upal Mazumder\\OneDrive\\Desktop\\flickd\\test_vid\\VID_20250604_121446_002.mp4: 640x384 1 bottom, 1 top, 29.2ms\n",
      "video 1/1 (frame 151/788) c:\\Users\\Upal Mazumder\\OneDrive\\Desktop\\flickd\\test_vid\\VID_20250604_121446_002.mp4: 640x384 1 bottom, 1 top, 29.8ms\n",
      "video 1/1 (frame 152/788) c:\\Users\\Upal Mazumder\\OneDrive\\Desktop\\flickd\\test_vid\\VID_20250604_121446_002.mp4: 640x384 1 bottom, 1 top, 28.9ms\n",
      "video 1/1 (frame 153/788) c:\\Users\\Upal Mazumder\\OneDrive\\Desktop\\flickd\\test_vid\\VID_20250604_121446_002.mp4: 640x384 1 bottom, 1 top, 28.6ms\n",
      "video 1/1 (frame 154/788) c:\\Users\\Upal Mazumder\\OneDrive\\Desktop\\flickd\\test_vid\\VID_20250604_121446_002.mp4: 640x384 1 bottom, 1 top, 32.6ms\n",
      "video 1/1 (frame 155/788) c:\\Users\\Upal Mazumder\\OneDrive\\Desktop\\flickd\\test_vid\\VID_20250604_121446_002.mp4: 640x384 1 top, 28.6ms\n",
      "video 1/1 (frame 156/788) c:\\Users\\Upal Mazumder\\OneDrive\\Desktop\\flickd\\test_vid\\VID_20250604_121446_002.mp4: 640x384 1 bottom, 1 top, 28.8ms\n",
      "video 1/1 (frame 157/788) c:\\Users\\Upal Mazumder\\OneDrive\\Desktop\\flickd\\test_vid\\VID_20250604_121446_002.mp4: 640x384 1 bottom, 1 top, 28.5ms\n",
      "video 1/1 (frame 158/788) c:\\Users\\Upal Mazumder\\OneDrive\\Desktop\\flickd\\test_vid\\VID_20250604_121446_002.mp4: 640x384 1 bottom, 1 top, 28.6ms\n",
      "video 1/1 (frame 159/788) c:\\Users\\Upal Mazumder\\OneDrive\\Desktop\\flickd\\test_vid\\VID_20250604_121446_002.mp4: 640x384 1 bottom, 1 ear ring, 1 top, 29.3ms\n",
      "video 1/1 (frame 160/788) c:\\Users\\Upal Mazumder\\OneDrive\\Desktop\\flickd\\test_vid\\VID_20250604_121446_002.mp4: 640x384 1 bottom, 1 top, 29.3ms\n",
      "video 1/1 (frame 161/788) c:\\Users\\Upal Mazumder\\OneDrive\\Desktop\\flickd\\test_vid\\VID_20250604_121446_002.mp4: 640x384 1 bottom, 1 top, 32.9ms\n",
      "video 1/1 (frame 162/788) c:\\Users\\Upal Mazumder\\OneDrive\\Desktop\\flickd\\test_vid\\VID_20250604_121446_002.mp4: 640x384 1 bottom, 1 top, 32.9ms\n",
      "video 1/1 (frame 163/788) c:\\Users\\Upal Mazumder\\OneDrive\\Desktop\\flickd\\test_vid\\VID_20250604_121446_002.mp4: 640x384 1 bottom, 1 top, 34.7ms\n",
      "video 1/1 (frame 164/788) c:\\Users\\Upal Mazumder\\OneDrive\\Desktop\\flickd\\test_vid\\VID_20250604_121446_002.mp4: 640x384 1 top, 33.7ms\n",
      "video 1/1 (frame 165/788) c:\\Users\\Upal Mazumder\\OneDrive\\Desktop\\flickd\\test_vid\\VID_20250604_121446_002.mp4: 640x384 1 top, 33.6ms\n",
      "video 1/1 (frame 166/788) c:\\Users\\Upal Mazumder\\OneDrive\\Desktop\\flickd\\test_vid\\VID_20250604_121446_002.mp4: 640x384 1 bottom, 1 top, 36.6ms\n",
      "video 1/1 (frame 167/788) c:\\Users\\Upal Mazumder\\OneDrive\\Desktop\\flickd\\test_vid\\VID_20250604_121446_002.mp4: 640x384 1 bottom, 1 top, 35.8ms\n",
      "video 1/1 (frame 168/788) c:\\Users\\Upal Mazumder\\OneDrive\\Desktop\\flickd\\test_vid\\VID_20250604_121446_002.mp4: 640x384 1 bottom, 1 top, 34.2ms\n",
      "video 1/1 (frame 169/788) c:\\Users\\Upal Mazumder\\OneDrive\\Desktop\\flickd\\test_vid\\VID_20250604_121446_002.mp4: 640x384 (no detections), 29.6ms\n",
      "video 1/1 (frame 170/788) c:\\Users\\Upal Mazumder\\OneDrive\\Desktop\\flickd\\test_vid\\VID_20250604_121446_002.mp4: 640x384 1 bottom, 28.8ms\n",
      "video 1/1 (frame 171/788) c:\\Users\\Upal Mazumder\\OneDrive\\Desktop\\flickd\\test_vid\\VID_20250604_121446_002.mp4: 640x384 (no detections), 31.8ms\n",
      "video 1/1 (frame 172/788) c:\\Users\\Upal Mazumder\\OneDrive\\Desktop\\flickd\\test_vid\\VID_20250604_121446_002.mp4: 640x384 1 jacket, 29.4ms\n",
      "video 1/1 (frame 173/788) c:\\Users\\Upal Mazumder\\OneDrive\\Desktop\\flickd\\test_vid\\VID_20250604_121446_002.mp4: 640x384 1 top, 31.3ms\n",
      "video 1/1 (frame 174/788) c:\\Users\\Upal Mazumder\\OneDrive\\Desktop\\flickd\\test_vid\\VID_20250604_121446_002.mp4: 640x384 1 bottom, 1 top, 32.1ms\n",
      "video 1/1 (frame 175/788) c:\\Users\\Upal Mazumder\\OneDrive\\Desktop\\flickd\\test_vid\\VID_20250604_121446_002.mp4: 640x384 1 top, 30.8ms\n",
      "video 1/1 (frame 176/788) c:\\Users\\Upal Mazumder\\OneDrive\\Desktop\\flickd\\test_vid\\VID_20250604_121446_002.mp4: 640x384 1 top, 32.0ms\n",
      "video 1/1 (frame 177/788) c:\\Users\\Upal Mazumder\\OneDrive\\Desktop\\flickd\\test_vid\\VID_20250604_121446_002.mp4: 640x384 1 top, 30.3ms\n",
      "video 1/1 (frame 178/788) c:\\Users\\Upal Mazumder\\OneDrive\\Desktop\\flickd\\test_vid\\VID_20250604_121446_002.mp4: 640x384 1 top, 31.6ms\n",
      "video 1/1 (frame 179/788) c:\\Users\\Upal Mazumder\\OneDrive\\Desktop\\flickd\\test_vid\\VID_20250604_121446_002.mp4: 640x384 1 bottom, 1 top, 31.9ms\n",
      "video 1/1 (frame 180/788) c:\\Users\\Upal Mazumder\\OneDrive\\Desktop\\flickd\\test_vid\\VID_20250604_121446_002.mp4: 640x384 1 top, 33.7ms\n",
      "video 1/1 (frame 181/788) c:\\Users\\Upal Mazumder\\OneDrive\\Desktop\\flickd\\test_vid\\VID_20250604_121446_002.mp4: 640x384 1 top, 30.0ms\n",
      "video 1/1 (frame 182/788) c:\\Users\\Upal Mazumder\\OneDrive\\Desktop\\flickd\\test_vid\\VID_20250604_121446_002.mp4: 640x384 1 top, 31.2ms\n",
      "video 1/1 (frame 183/788) c:\\Users\\Upal Mazumder\\OneDrive\\Desktop\\flickd\\test_vid\\VID_20250604_121446_002.mp4: 640x384 1 top, 32.2ms\n",
      "video 1/1 (frame 184/788) c:\\Users\\Upal Mazumder\\OneDrive\\Desktop\\flickd\\test_vid\\VID_20250604_121446_002.mp4: 640x384 1 top, 28.9ms\n",
      "video 1/1 (frame 185/788) c:\\Users\\Upal Mazumder\\OneDrive\\Desktop\\flickd\\test_vid\\VID_20250604_121446_002.mp4: 640x384 1 top, 31.1ms\n",
      "video 1/1 (frame 186/788) c:\\Users\\Upal Mazumder\\OneDrive\\Desktop\\flickd\\test_vid\\VID_20250604_121446_002.mp4: 640x384 1 top, 65.1ms\n",
      "video 1/1 (frame 187/788) c:\\Users\\Upal Mazumder\\OneDrive\\Desktop\\flickd\\test_vid\\VID_20250604_121446_002.mp4: 640x384 1 bottom, 1 glasses, 1 handbag, 1 top, 34.9ms\n",
      "video 1/1 (frame 188/788) c:\\Users\\Upal Mazumder\\OneDrive\\Desktop\\flickd\\test_vid\\VID_20250604_121446_002.mp4: 640x384 1 bottom, 1 glasses, 1 handbag, 1 top, 33.9ms\n",
      "video 1/1 (frame 189/788) c:\\Users\\Upal Mazumder\\OneDrive\\Desktop\\flickd\\test_vid\\VID_20250604_121446_002.mp4: 640x384 1 bottom, 1 glasses, 1 handbag, 1 top, 29.8ms\n",
      "video 1/1 (frame 190/788) c:\\Users\\Upal Mazumder\\OneDrive\\Desktop\\flickd\\test_vid\\VID_20250604_121446_002.mp4: 640x384 1 bottom, 1 glasses, 1 handbag, 1 top, 32.5ms\n",
      "video 1/1 (frame 191/788) c:\\Users\\Upal Mazumder\\OneDrive\\Desktop\\flickd\\test_vid\\VID_20250604_121446_002.mp4: 640x384 1 bottom, 1 glasses, 1 handbag, 1 top, 31.3ms\n",
      "video 1/1 (frame 192/788) c:\\Users\\Upal Mazumder\\OneDrive\\Desktop\\flickd\\test_vid\\VID_20250604_121446_002.mp4: 640x384 1 bottom, 1 glasses, 1 handbag, 1 top, 31.6ms\n",
      "video 1/1 (frame 193/788) c:\\Users\\Upal Mazumder\\OneDrive\\Desktop\\flickd\\test_vid\\VID_20250604_121446_002.mp4: 640x384 1 bottom, 1 glasses, 1 handbag, 1 top, 34.3ms\n",
      "video 1/1 (frame 194/788) c:\\Users\\Upal Mazumder\\OneDrive\\Desktop\\flickd\\test_vid\\VID_20250604_121446_002.mp4: 640x384 1 bottom, 1 glasses, 1 handbag, 1 top, 31.4ms\n",
      "video 1/1 (frame 195/788) c:\\Users\\Upal Mazumder\\OneDrive\\Desktop\\flickd\\test_vid\\VID_20250604_121446_002.mp4: 640x384 1 bottom, 1 glasses, 1 handbag, 1 top, 31.4ms\n",
      "video 1/1 (frame 196/788) c:\\Users\\Upal Mazumder\\OneDrive\\Desktop\\flickd\\test_vid\\VID_20250604_121446_002.mp4: 640x384 1 bottom, 1 glasses, 1 handbag, 1 top, 30.7ms\n",
      "video 1/1 (frame 197/788) c:\\Users\\Upal Mazumder\\OneDrive\\Desktop\\flickd\\test_vid\\VID_20250604_121446_002.mp4: 640x384 1 bottom, 1 glasses, 1 handbag, 1 top, 30.4ms\n",
      "video 1/1 (frame 198/788) c:\\Users\\Upal Mazumder\\OneDrive\\Desktop\\flickd\\test_vid\\VID_20250604_121446_002.mp4: 640x384 1 bottom, 1 glasses, 1 handbag, 1 top, 31.1ms\n",
      "video 1/1 (frame 199/788) c:\\Users\\Upal Mazumder\\OneDrive\\Desktop\\flickd\\test_vid\\VID_20250604_121446_002.mp4: 640x384 1 bottom, 1 glasses, 1 handbag, 1 top, 32.1ms\n",
      "video 1/1 (frame 200/788) c:\\Users\\Upal Mazumder\\OneDrive\\Desktop\\flickd\\test_vid\\VID_20250604_121446_002.mp4: 640x384 1 bottom, 1 glasses, 1 handbag, 1 top, 31.5ms\n",
      "video 1/1 (frame 201/788) c:\\Users\\Upal Mazumder\\OneDrive\\Desktop\\flickd\\test_vid\\VID_20250604_121446_002.mp4: 640x384 1 bottom, 1 glasses, 1 handbag, 1 top, 31.9ms\n",
      "video 1/1 (frame 202/788) c:\\Users\\Upal Mazumder\\OneDrive\\Desktop\\flickd\\test_vid\\VID_20250604_121446_002.mp4: 640x384 1 bottom, 1 glasses, 1 handbag, 1 top, 31.3ms\n",
      "video 1/1 (frame 203/788) c:\\Users\\Upal Mazumder\\OneDrive\\Desktop\\flickd\\test_vid\\VID_20250604_121446_002.mp4: 640x384 1 bottom, 1 glasses, 1 handbag, 1 top, 31.0ms\n",
      "video 1/1 (frame 204/788) c:\\Users\\Upal Mazumder\\OneDrive\\Desktop\\flickd\\test_vid\\VID_20250604_121446_002.mp4: 640x384 1 bottom, 1 glasses, 1 handbag, 1 top, 29.3ms\n",
      "video 1/1 (frame 205/788) c:\\Users\\Upal Mazumder\\OneDrive\\Desktop\\flickd\\test_vid\\VID_20250604_121446_002.mp4: 640x384 1 bottom, 1 glasses, 1 handbag, 1 top, 30.9ms\n",
      "video 1/1 (frame 206/788) c:\\Users\\Upal Mazumder\\OneDrive\\Desktop\\flickd\\test_vid\\VID_20250604_121446_002.mp4: 640x384 1 bottom, 1 glasses, 1 handbag, 1 top, 32.0ms\n",
      "video 1/1 (frame 207/788) c:\\Users\\Upal Mazumder\\OneDrive\\Desktop\\flickd\\test_vid\\VID_20250604_121446_002.mp4: 640x384 1 bottom, 1 glasses, 1 handbag, 1 top, 33.4ms\n",
      "video 1/1 (frame 208/788) c:\\Users\\Upal Mazumder\\OneDrive\\Desktop\\flickd\\test_vid\\VID_20250604_121446_002.mp4: 640x384 1 bottom, 1 glasses, 1 handbag, 1 top, 31.9ms\n",
      "video 1/1 (frame 209/788) c:\\Users\\Upal Mazumder\\OneDrive\\Desktop\\flickd\\test_vid\\VID_20250604_121446_002.mp4: 640x384 1 bottom, 1 glasses, 1 handbag, 1 top, 38.9ms\n",
      "video 1/1 (frame 210/788) c:\\Users\\Upal Mazumder\\OneDrive\\Desktop\\flickd\\test_vid\\VID_20250604_121446_002.mp4: 640x384 1 bottom, 1 glasses, 1 handbag, 1 top, 31.8ms\n",
      "video 1/1 (frame 211/788) c:\\Users\\Upal Mazumder\\OneDrive\\Desktop\\flickd\\test_vid\\VID_20250604_121446_002.mp4: 640x384 1 bottom, 1 glasses, 1 handbag, 1 top, 33.0ms\n",
      "video 1/1 (frame 212/788) c:\\Users\\Upal Mazumder\\OneDrive\\Desktop\\flickd\\test_vid\\VID_20250604_121446_002.mp4: 640x384 1 bottom, 1 glasses, 1 handbag, 1 top, 48.7ms\n",
      "video 1/1 (frame 213/788) c:\\Users\\Upal Mazumder\\OneDrive\\Desktop\\flickd\\test_vid\\VID_20250604_121446_002.mp4: 640x384 1 bottom, 1 glasses, 1 handbag, 1 top, 31.0ms\n",
      "video 1/1 (frame 214/788) c:\\Users\\Upal Mazumder\\OneDrive\\Desktop\\flickd\\test_vid\\VID_20250604_121446_002.mp4: 640x384 1 bottom, 1 glasses, 1 handbag, 1 top, 31.8ms\n",
      "video 1/1 (frame 215/788) c:\\Users\\Upal Mazumder\\OneDrive\\Desktop\\flickd\\test_vid\\VID_20250604_121446_002.mp4: 640x384 1 bottom, 1 glasses, 1 handbag, 1 top, 31.8ms\n",
      "video 1/1 (frame 216/788) c:\\Users\\Upal Mazumder\\OneDrive\\Desktop\\flickd\\test_vid\\VID_20250604_121446_002.mp4: 640x384 1 bottom, 1 glasses, 1 handbag, 1 top, 31.0ms\n",
      "video 1/1 (frame 217/788) c:\\Users\\Upal Mazumder\\OneDrive\\Desktop\\flickd\\test_vid\\VID_20250604_121446_002.mp4: 640x384 1 bottom, 1 glasses, 1 handbag, 1 top, 36.7ms\n",
      "video 1/1 (frame 218/788) c:\\Users\\Upal Mazumder\\OneDrive\\Desktop\\flickd\\test_vid\\VID_20250604_121446_002.mp4: 640x384 1 bottom, 1 glasses, 1 handbag, 1 top, 30.7ms\n",
      "video 1/1 (frame 219/788) c:\\Users\\Upal Mazumder\\OneDrive\\Desktop\\flickd\\test_vid\\VID_20250604_121446_002.mp4: 640x384 1 bottom, 1 glasses, 1 handbag, 1 top, 35.5ms\n",
      "video 1/1 (frame 220/788) c:\\Users\\Upal Mazumder\\OneDrive\\Desktop\\flickd\\test_vid\\VID_20250604_121446_002.mp4: 640x384 1 bottom, 1 top, 30.5ms\n",
      "video 1/1 (frame 221/788) c:\\Users\\Upal Mazumder\\OneDrive\\Desktop\\flickd\\test_vid\\VID_20250604_121446_002.mp4: 640x384 1 bottom, 1 top, 37.0ms\n",
      "video 1/1 (frame 222/788) c:\\Users\\Upal Mazumder\\OneDrive\\Desktop\\flickd\\test_vid\\VID_20250604_121446_002.mp4: 640x384 1 bottom, 1 top, 39.0ms\n",
      "video 1/1 (frame 223/788) c:\\Users\\Upal Mazumder\\OneDrive\\Desktop\\flickd\\test_vid\\VID_20250604_121446_002.mp4: 640x384 1 bottom, 1 top, 37.8ms\n",
      "video 1/1 (frame 224/788) c:\\Users\\Upal Mazumder\\OneDrive\\Desktop\\flickd\\test_vid\\VID_20250604_121446_002.mp4: 640x384 1 bottom, 1 top, 40.2ms\n",
      "video 1/1 (frame 225/788) c:\\Users\\Upal Mazumder\\OneDrive\\Desktop\\flickd\\test_vid\\VID_20250604_121446_002.mp4: 640x384 1 bottom, 1 top, 37.4ms\n",
      "video 1/1 (frame 226/788) c:\\Users\\Upal Mazumder\\OneDrive\\Desktop\\flickd\\test_vid\\VID_20250604_121446_002.mp4: 640x384 1 bottom, 1 top, 40.1ms\n",
      "video 1/1 (frame 227/788) c:\\Users\\Upal Mazumder\\OneDrive\\Desktop\\flickd\\test_vid\\VID_20250604_121446_002.mp4: 640x384 1 bottom, 1 top, 45.8ms\n",
      "video 1/1 (frame 228/788) c:\\Users\\Upal Mazumder\\OneDrive\\Desktop\\flickd\\test_vid\\VID_20250604_121446_002.mp4: 640x384 1 bottom, 1 top, 39.5ms\n",
      "video 1/1 (frame 229/788) c:\\Users\\Upal Mazumder\\OneDrive\\Desktop\\flickd\\test_vid\\VID_20250604_121446_002.mp4: 640x384 1 bottom, 1 top, 41.4ms\n",
      "video 1/1 (frame 230/788) c:\\Users\\Upal Mazumder\\OneDrive\\Desktop\\flickd\\test_vid\\VID_20250604_121446_002.mp4: 640x384 1 bottom, 1 top, 37.5ms\n",
      "video 1/1 (frame 231/788) c:\\Users\\Upal Mazumder\\OneDrive\\Desktop\\flickd\\test_vid\\VID_20250604_121446_002.mp4: 640x384 1 bottom, 1 top, 37.8ms\n",
      "video 1/1 (frame 232/788) c:\\Users\\Upal Mazumder\\OneDrive\\Desktop\\flickd\\test_vid\\VID_20250604_121446_002.mp4: 640x384 1 bottom, 1 top, 42.8ms\n",
      "video 1/1 (frame 233/788) c:\\Users\\Upal Mazumder\\OneDrive\\Desktop\\flickd\\test_vid\\VID_20250604_121446_002.mp4: 640x384 1 bottom, 1 top, 38.3ms\n",
      "video 1/1 (frame 234/788) c:\\Users\\Upal Mazumder\\OneDrive\\Desktop\\flickd\\test_vid\\VID_20250604_121446_002.mp4: 640x384 1 bottom, 1 top, 33.1ms\n",
      "video 1/1 (frame 235/788) c:\\Users\\Upal Mazumder\\OneDrive\\Desktop\\flickd\\test_vid\\VID_20250604_121446_002.mp4: 640x384 1 bottom, 1 top, 28.3ms\n",
      "video 1/1 (frame 236/788) c:\\Users\\Upal Mazumder\\OneDrive\\Desktop\\flickd\\test_vid\\VID_20250604_121446_002.mp4: 640x384 1 bottom, 1 top, 32.2ms\n",
      "video 1/1 (frame 237/788) c:\\Users\\Upal Mazumder\\OneDrive\\Desktop\\flickd\\test_vid\\VID_20250604_121446_002.mp4: 640x384 1 bottom, 1 top, 35.8ms\n",
      "video 1/1 (frame 238/788) c:\\Users\\Upal Mazumder\\OneDrive\\Desktop\\flickd\\test_vid\\VID_20250604_121446_002.mp4: 640x384 1 bottom, 1 top, 35.4ms\n",
      "video 1/1 (frame 239/788) c:\\Users\\Upal Mazumder\\OneDrive\\Desktop\\flickd\\test_vid\\VID_20250604_121446_002.mp4: 640x384 1 bottom, 1 top, 30.9ms\n",
      "video 1/1 (frame 240/788) c:\\Users\\Upal Mazumder\\OneDrive\\Desktop\\flickd\\test_vid\\VID_20250604_121446_002.mp4: 640x384 1 bottom, 1 top, 35.6ms\n",
      "video 1/1 (frame 241/788) c:\\Users\\Upal Mazumder\\OneDrive\\Desktop\\flickd\\test_vid\\VID_20250604_121446_002.mp4: 640x384 1 bottom, 1 top, 33.2ms\n",
      "video 1/1 (frame 242/788) c:\\Users\\Upal Mazumder\\OneDrive\\Desktop\\flickd\\test_vid\\VID_20250604_121446_002.mp4: 640x384 1 bottom, 1 top, 33.8ms\n",
      "video 1/1 (frame 243/788) c:\\Users\\Upal Mazumder\\OneDrive\\Desktop\\flickd\\test_vid\\VID_20250604_121446_002.mp4: 640x384 1 bottom, 1 top, 36.1ms\n",
      "video 1/1 (frame 244/788) c:\\Users\\Upal Mazumder\\OneDrive\\Desktop\\flickd\\test_vid\\VID_20250604_121446_002.mp4: 640x384 1 bottom, 1 top, 32.3ms\n",
      "video 1/1 (frame 245/788) c:\\Users\\Upal Mazumder\\OneDrive\\Desktop\\flickd\\test_vid\\VID_20250604_121446_002.mp4: 640x384 1 bottom, 1 top, 32.9ms\n",
      "video 1/1 (frame 246/788) c:\\Users\\Upal Mazumder\\OneDrive\\Desktop\\flickd\\test_vid\\VID_20250604_121446_002.mp4: 640x384 1 bottom, 1 top, 32.6ms\n",
      "video 1/1 (frame 247/788) c:\\Users\\Upal Mazumder\\OneDrive\\Desktop\\flickd\\test_vid\\VID_20250604_121446_002.mp4: 640x384 1 bottom, 1 top, 36.2ms\n",
      "video 1/1 (frame 248/788) c:\\Users\\Upal Mazumder\\OneDrive\\Desktop\\flickd\\test_vid\\VID_20250604_121446_002.mp4: 640x384 1 bottom, 1 top, 35.1ms\n",
      "video 1/1 (frame 249/788) c:\\Users\\Upal Mazumder\\OneDrive\\Desktop\\flickd\\test_vid\\VID_20250604_121446_002.mp4: 640x384 1 bottom, 1 top, 37.8ms\n",
      "video 1/1 (frame 250/788) c:\\Users\\Upal Mazumder\\OneDrive\\Desktop\\flickd\\test_vid\\VID_20250604_121446_002.mp4: 640x384 1 bottom, 1 top, 32.3ms\n",
      "video 1/1 (frame 251/788) c:\\Users\\Upal Mazumder\\OneDrive\\Desktop\\flickd\\test_vid\\VID_20250604_121446_002.mp4: 640x384 1 bottom, 1 top, 40.5ms\n",
      "video 1/1 (frame 252/788) c:\\Users\\Upal Mazumder\\OneDrive\\Desktop\\flickd\\test_vid\\VID_20250604_121446_002.mp4: 640x384 1 bottom, 1 top, 38.3ms\n",
      "video 1/1 (frame 253/788) c:\\Users\\Upal Mazumder\\OneDrive\\Desktop\\flickd\\test_vid\\VID_20250604_121446_002.mp4: 640x384 1 bottom, 1 top, 30.3ms\n",
      "video 1/1 (frame 254/788) c:\\Users\\Upal Mazumder\\OneDrive\\Desktop\\flickd\\test_vid\\VID_20250604_121446_002.mp4: 640x384 1 bottom, 1 top, 30.9ms\n",
      "video 1/1 (frame 255/788) c:\\Users\\Upal Mazumder\\OneDrive\\Desktop\\flickd\\test_vid\\VID_20250604_121446_002.mp4: 640x384 1 bottom, 1 top, 31.9ms\n",
      "video 1/1 (frame 256/788) c:\\Users\\Upal Mazumder\\OneDrive\\Desktop\\flickd\\test_vid\\VID_20250604_121446_002.mp4: 640x384 1 top, 31.2ms\n",
      "video 1/1 (frame 257/788) c:\\Users\\Upal Mazumder\\OneDrive\\Desktop\\flickd\\test_vid\\VID_20250604_121446_002.mp4: 640x384 1 top, 31.6ms\n",
      "video 1/1 (frame 258/788) c:\\Users\\Upal Mazumder\\OneDrive\\Desktop\\flickd\\test_vid\\VID_20250604_121446_002.mp4: 640x384 1 top, 28.4ms\n",
      "video 1/1 (frame 259/788) c:\\Users\\Upal Mazumder\\OneDrive\\Desktop\\flickd\\test_vid\\VID_20250604_121446_002.mp4: 640x384 1 bottom, 1 top, 31.7ms\n",
      "video 1/1 (frame 260/788) c:\\Users\\Upal Mazumder\\OneDrive\\Desktop\\flickd\\test_vid\\VID_20250604_121446_002.mp4: 640x384 1 bottom, 1 top, 29.2ms\n",
      "video 1/1 (frame 261/788) c:\\Users\\Upal Mazumder\\OneDrive\\Desktop\\flickd\\test_vid\\VID_20250604_121446_002.mp4: 640x384 1 bottom, 1 top, 31.6ms\n",
      "video 1/1 (frame 262/788) c:\\Users\\Upal Mazumder\\OneDrive\\Desktop\\flickd\\test_vid\\VID_20250604_121446_002.mp4: 640x384 1 bottom, 1 top, 32.2ms\n",
      "video 1/1 (frame 263/788) c:\\Users\\Upal Mazumder\\OneDrive\\Desktop\\flickd\\test_vid\\VID_20250604_121446_002.mp4: 640x384 1 bottom, 1 top, 30.8ms\n",
      "video 1/1 (frame 264/788) c:\\Users\\Upal Mazumder\\OneDrive\\Desktop\\flickd\\test_vid\\VID_20250604_121446_002.mp4: 640x384 (no detections), 30.5ms\n",
      "video 1/1 (frame 265/788) c:\\Users\\Upal Mazumder\\OneDrive\\Desktop\\flickd\\test_vid\\VID_20250604_121446_002.mp4: 640x384 (no detections), 31.0ms\n",
      "video 1/1 (frame 266/788) c:\\Users\\Upal Mazumder\\OneDrive\\Desktop\\flickd\\test_vid\\VID_20250604_121446_002.mp4: 640x384 (no detections), 30.6ms\n",
      "video 1/1 (frame 267/788) c:\\Users\\Upal Mazumder\\OneDrive\\Desktop\\flickd\\test_vid\\VID_20250604_121446_002.mp4: 640x384 (no detections), 29.8ms\n",
      "video 1/1 (frame 268/788) c:\\Users\\Upal Mazumder\\OneDrive\\Desktop\\flickd\\test_vid\\VID_20250604_121446_002.mp4: 640x384 1 top, 37.6ms\n",
      "video 1/1 (frame 269/788) c:\\Users\\Upal Mazumder\\OneDrive\\Desktop\\flickd\\test_vid\\VID_20250604_121446_002.mp4: 640x384 1 dress, 1 handbag, 1 shoes, 33.6ms\n",
      "video 1/1 (frame 270/788) c:\\Users\\Upal Mazumder\\OneDrive\\Desktop\\flickd\\test_vid\\VID_20250604_121446_002.mp4: 640x384 1 dress, 1 handbag, 1 shoes, 32.1ms\n",
      "video 1/1 (frame 271/788) c:\\Users\\Upal Mazumder\\OneDrive\\Desktop\\flickd\\test_vid\\VID_20250604_121446_002.mp4: 640x384 1 dress, 1 shoes, 30.4ms\n",
      "video 1/1 (frame 272/788) c:\\Users\\Upal Mazumder\\OneDrive\\Desktop\\flickd\\test_vid\\VID_20250604_121446_002.mp4: 640x384 1 dress, 1 shoes, 32.8ms\n",
      "video 1/1 (frame 273/788) c:\\Users\\Upal Mazumder\\OneDrive\\Desktop\\flickd\\test_vid\\VID_20250604_121446_002.mp4: 640x384 1 dress, 1 shoes, 29.0ms\n",
      "video 1/1 (frame 274/788) c:\\Users\\Upal Mazumder\\OneDrive\\Desktop\\flickd\\test_vid\\VID_20250604_121446_002.mp4: 640x384 1 top, 30.6ms\n",
      "video 1/1 (frame 275/788) c:\\Users\\Upal Mazumder\\OneDrive\\Desktop\\flickd\\test_vid\\VID_20250604_121446_002.mp4: 640x384 1 top, 31.2ms\n",
      "video 1/1 (frame 276/788) c:\\Users\\Upal Mazumder\\OneDrive\\Desktop\\flickd\\test_vid\\VID_20250604_121446_002.mp4: 640x384 1 top, 29.6ms\n",
      "video 1/1 (frame 277/788) c:\\Users\\Upal Mazumder\\OneDrive\\Desktop\\flickd\\test_vid\\VID_20250604_121446_002.mp4: 640x384 1 top, 31.1ms\n",
      "video 1/1 (frame 278/788) c:\\Users\\Upal Mazumder\\OneDrive\\Desktop\\flickd\\test_vid\\VID_20250604_121446_002.mp4: 640x384 1 top, 31.6ms\n",
      "video 1/1 (frame 279/788) c:\\Users\\Upal Mazumder\\OneDrive\\Desktop\\flickd\\test_vid\\VID_20250604_121446_002.mp4: 640x384 1 top, 30.7ms\n",
      "video 1/1 (frame 280/788) c:\\Users\\Upal Mazumder\\OneDrive\\Desktop\\flickd\\test_vid\\VID_20250604_121446_002.mp4: 640x384 1 top, 32.0ms\n",
      "video 1/1 (frame 281/788) c:\\Users\\Upal Mazumder\\OneDrive\\Desktop\\flickd\\test_vid\\VID_20250604_121446_002.mp4: 640x384 1 top, 31.3ms\n",
      "video 1/1 (frame 282/788) c:\\Users\\Upal Mazumder\\OneDrive\\Desktop\\flickd\\test_vid\\VID_20250604_121446_002.mp4: 640x384 1 top, 30.9ms\n",
      "video 1/1 (frame 283/788) c:\\Users\\Upal Mazumder\\OneDrive\\Desktop\\flickd\\test_vid\\VID_20250604_121446_002.mp4: 640x384 1 top, 31.3ms\n",
      "video 1/1 (frame 284/788) c:\\Users\\Upal Mazumder\\OneDrive\\Desktop\\flickd\\test_vid\\VID_20250604_121446_002.mp4: 640x384 1 top, 28.4ms\n",
      "video 1/1 (frame 285/788) c:\\Users\\Upal Mazumder\\OneDrive\\Desktop\\flickd\\test_vid\\VID_20250604_121446_002.mp4: 640x384 1 top, 30.7ms\n",
      "video 1/1 (frame 286/788) c:\\Users\\Upal Mazumder\\OneDrive\\Desktop\\flickd\\test_vid\\VID_20250604_121446_002.mp4: 640x384 1 top, 31.7ms\n",
      "video 1/1 (frame 287/788) c:\\Users\\Upal Mazumder\\OneDrive\\Desktop\\flickd\\test_vid\\VID_20250604_121446_002.mp4: 640x384 1 top, 30.5ms\n",
      "video 1/1 (frame 288/788) c:\\Users\\Upal Mazumder\\OneDrive\\Desktop\\flickd\\test_vid\\VID_20250604_121446_002.mp4: 640x384 1 top, 33.5ms\n",
      "video 1/1 (frame 289/788) c:\\Users\\Upal Mazumder\\OneDrive\\Desktop\\flickd\\test_vid\\VID_20250604_121446_002.mp4: 640x384 1 top, 33.6ms\n",
      "video 1/1 (frame 290/788) c:\\Users\\Upal Mazumder\\OneDrive\\Desktop\\flickd\\test_vid\\VID_20250604_121446_002.mp4: 640x384 1 top, 31.3ms\n",
      "video 1/1 (frame 291/788) c:\\Users\\Upal Mazumder\\OneDrive\\Desktop\\flickd\\test_vid\\VID_20250604_121446_002.mp4: 640x384 1 bottom, 1 top, 32.1ms\n",
      "video 1/1 (frame 292/788) c:\\Users\\Upal Mazumder\\OneDrive\\Desktop\\flickd\\test_vid\\VID_20250604_121446_002.mp4: 640x384 1 bottom, 1 top, 31.3ms\n",
      "video 1/1 (frame 293/788) c:\\Users\\Upal Mazumder\\OneDrive\\Desktop\\flickd\\test_vid\\VID_20250604_121446_002.mp4: 640x384 1 bottom, 1 top, 30.6ms\n",
      "video 1/1 (frame 294/788) c:\\Users\\Upal Mazumder\\OneDrive\\Desktop\\flickd\\test_vid\\VID_20250604_121446_002.mp4: 640x384 1 bottom, 1 top, 30.1ms\n",
      "video 1/1 (frame 295/788) c:\\Users\\Upal Mazumder\\OneDrive\\Desktop\\flickd\\test_vid\\VID_20250604_121446_002.mp4: 640x384 1 bottom, 1 top, 31.5ms\n",
      "video 1/1 (frame 296/788) c:\\Users\\Upal Mazumder\\OneDrive\\Desktop\\flickd\\test_vid\\VID_20250604_121446_002.mp4: 640x384 1 bottom, 1 top, 30.7ms\n",
      "video 1/1 (frame 297/788) c:\\Users\\Upal Mazumder\\OneDrive\\Desktop\\flickd\\test_vid\\VID_20250604_121446_002.mp4: 640x384 1 bottom, 1 top, 29.4ms\n",
      "video 1/1 (frame 298/788) c:\\Users\\Upal Mazumder\\OneDrive\\Desktop\\flickd\\test_vid\\VID_20250604_121446_002.mp4: 640x384 1 bottom, 1 top, 26.5ms\n",
      "video 1/1 (frame 299/788) c:\\Users\\Upal Mazumder\\OneDrive\\Desktop\\flickd\\test_vid\\VID_20250604_121446_002.mp4: 640x384 1 bottom, 1 top, 28.5ms\n",
      "video 1/1 (frame 300/788) c:\\Users\\Upal Mazumder\\OneDrive\\Desktop\\flickd\\test_vid\\VID_20250604_121446_002.mp4: 640x384 1 bottom, 1 top, 27.9ms\n",
      "video 1/1 (frame 301/788) c:\\Users\\Upal Mazumder\\OneDrive\\Desktop\\flickd\\test_vid\\VID_20250604_121446_002.mp4: 640x384 1 bottom, 1 top, 27.3ms\n",
      "video 1/1 (frame 302/788) c:\\Users\\Upal Mazumder\\OneDrive\\Desktop\\flickd\\test_vid\\VID_20250604_121446_002.mp4: 640x384 1 bottom, 1 top, 27.6ms\n",
      "video 1/1 (frame 303/788) c:\\Users\\Upal Mazumder\\OneDrive\\Desktop\\flickd\\test_vid\\VID_20250604_121446_002.mp4: 640x384 1 bottom, 1 top, 27.2ms\n",
      "video 1/1 (frame 304/788) c:\\Users\\Upal Mazumder\\OneDrive\\Desktop\\flickd\\test_vid\\VID_20250604_121446_002.mp4: 640x384 1 bottom, 1 top, 27.7ms\n",
      "video 1/1 (frame 305/788) c:\\Users\\Upal Mazumder\\OneDrive\\Desktop\\flickd\\test_vid\\VID_20250604_121446_002.mp4: 640x384 1 bottom, 1 top, 27.3ms\n",
      "video 1/1 (frame 306/788) c:\\Users\\Upal Mazumder\\OneDrive\\Desktop\\flickd\\test_vid\\VID_20250604_121446_002.mp4: 640x384 1 bottom, 1 top, 31.2ms\n",
      "video 1/1 (frame 307/788) c:\\Users\\Upal Mazumder\\OneDrive\\Desktop\\flickd\\test_vid\\VID_20250604_121446_002.mp4: 640x384 1 bottom, 1 ear ring, 1 top, 26.7ms\n",
      "video 1/1 (frame 308/788) c:\\Users\\Upal Mazumder\\OneDrive\\Desktop\\flickd\\test_vid\\VID_20250604_121446_002.mp4: 640x384 1 bottom, 1 top, 35.0ms\n",
      "video 1/1 (frame 309/788) c:\\Users\\Upal Mazumder\\OneDrive\\Desktop\\flickd\\test_vid\\VID_20250604_121446_002.mp4: 640x384 1 bottom, 1 top, 27.8ms\n",
      "video 1/1 (frame 310/788) c:\\Users\\Upal Mazumder\\OneDrive\\Desktop\\flickd\\test_vid\\VID_20250604_121446_002.mp4: 640x384 1 bottom, 1 ear ring, 1 top, 28.3ms\n",
      "video 1/1 (frame 311/788) c:\\Users\\Upal Mazumder\\OneDrive\\Desktop\\flickd\\test_vid\\VID_20250604_121446_002.mp4: 640x384 1 bottom, 1 ear ring, 1 top, 28.2ms\n",
      "video 1/1 (frame 312/788) c:\\Users\\Upal Mazumder\\OneDrive\\Desktop\\flickd\\test_vid\\VID_20250604_121446_002.mp4: 640x384 1 bottom, 1 ear ring, 1 top, 29.5ms\n",
      "video 1/1 (frame 313/788) c:\\Users\\Upal Mazumder\\OneDrive\\Desktop\\flickd\\test_vid\\VID_20250604_121446_002.mp4: 640x384 1 bottom, 1 ear ring, 1 top, 34.2ms\n",
      "video 1/1 (frame 314/788) c:\\Users\\Upal Mazumder\\OneDrive\\Desktop\\flickd\\test_vid\\VID_20250604_121446_002.mp4: 640x384 1 bottom, 1 ear ring, 1 top, 32.9ms\n",
      "video 1/1 (frame 315/788) c:\\Users\\Upal Mazumder\\OneDrive\\Desktop\\flickd\\test_vid\\VID_20250604_121446_002.mp4: 640x384 1 bottom, 1 ear ring, 1 top, 31.0ms\n",
      "video 1/1 (frame 316/788) c:\\Users\\Upal Mazumder\\OneDrive\\Desktop\\flickd\\test_vid\\VID_20250604_121446_002.mp4: 640x384 1 bottom, 1 ear ring, 1 top, 29.8ms\n",
      "video 1/1 (frame 317/788) c:\\Users\\Upal Mazumder\\OneDrive\\Desktop\\flickd\\test_vid\\VID_20250604_121446_002.mp4: 640x384 1 bottom, 2 shoess, 1 top, 31.2ms\n",
      "video 1/1 (frame 318/788) c:\\Users\\Upal Mazumder\\OneDrive\\Desktop\\flickd\\test_vid\\VID_20250604_121446_002.mp4: 640x384 1 bottom, 1 glasses, 2 shoess, 1 top, 30.0ms\n",
      "video 1/1 (frame 319/788) c:\\Users\\Upal Mazumder\\OneDrive\\Desktop\\flickd\\test_vid\\VID_20250604_121446_002.mp4: 640x384 1 bottom, 1 glasses, 2 shoess, 1 top, 35.9ms\n",
      "video 1/1 (frame 320/788) c:\\Users\\Upal Mazumder\\OneDrive\\Desktop\\flickd\\test_vid\\VID_20250604_121446_002.mp4: 640x384 1 bottom, 1 shoes, 1 top, 30.6ms\n",
      "video 1/1 (frame 321/788) c:\\Users\\Upal Mazumder\\OneDrive\\Desktop\\flickd\\test_vid\\VID_20250604_121446_002.mp4: 640x384 1 bottom, 1 shoes, 1 top, 29.4ms\n",
      "video 1/1 (frame 322/788) c:\\Users\\Upal Mazumder\\OneDrive\\Desktop\\flickd\\test_vid\\VID_20250604_121446_002.mp4: 640x384 1 bottom, 1 glasses, 1 top, 31.9ms\n",
      "video 1/1 (frame 323/788) c:\\Users\\Upal Mazumder\\OneDrive\\Desktop\\flickd\\test_vid\\VID_20250604_121446_002.mp4: 640x384 1 bottom, 1 top, 31.5ms\n",
      "video 1/1 (frame 324/788) c:\\Users\\Upal Mazumder\\OneDrive\\Desktop\\flickd\\test_vid\\VID_20250604_121446_002.mp4: 640x384 1 bottom, 1 top, 31.6ms\n",
      "video 1/1 (frame 325/788) c:\\Users\\Upal Mazumder\\OneDrive\\Desktop\\flickd\\test_vid\\VID_20250604_121446_002.mp4: 640x384 1 bottom, 1 top, 30.8ms\n",
      "video 1/1 (frame 326/788) c:\\Users\\Upal Mazumder\\OneDrive\\Desktop\\flickd\\test_vid\\VID_20250604_121446_002.mp4: 640x384 1 bottom, 1 top, 32.3ms\n",
      "video 1/1 (frame 327/788) c:\\Users\\Upal Mazumder\\OneDrive\\Desktop\\flickd\\test_vid\\VID_20250604_121446_002.mp4: 640x384 1 bottom, 1 top, 32.0ms\n",
      "video 1/1 (frame 328/788) c:\\Users\\Upal Mazumder\\OneDrive\\Desktop\\flickd\\test_vid\\VID_20250604_121446_002.mp4: 640x384 1 bottom, 1 top, 66.5ms\n",
      "video 1/1 (frame 329/788) c:\\Users\\Upal Mazumder\\OneDrive\\Desktop\\flickd\\test_vid\\VID_20250604_121446_002.mp4: 640x384 1 bottom, 1 shoes, 1 top, 31.8ms\n",
      "video 1/1 (frame 330/788) c:\\Users\\Upal Mazumder\\OneDrive\\Desktop\\flickd\\test_vid\\VID_20250604_121446_002.mp4: 640x384 1 bottom, 1 shoes, 1 top, 31.5ms\n",
      "video 1/1 (frame 331/788) c:\\Users\\Upal Mazumder\\OneDrive\\Desktop\\flickd\\test_vid\\VID_20250604_121446_002.mp4: 640x384 1 bottom, 1 top, 32.8ms\n",
      "video 1/1 (frame 332/788) c:\\Users\\Upal Mazumder\\OneDrive\\Desktop\\flickd\\test_vid\\VID_20250604_121446_002.mp4: 640x384 1 bottom, 1 shoes, 1 top, 30.0ms\n",
      "video 1/1 (frame 333/788) c:\\Users\\Upal Mazumder\\OneDrive\\Desktop\\flickd\\test_vid\\VID_20250604_121446_002.mp4: 640x384 1 bottom, 1 shoes, 1 top, 31.9ms\n",
      "video 1/1 (frame 334/788) c:\\Users\\Upal Mazumder\\OneDrive\\Desktop\\flickd\\test_vid\\VID_20250604_121446_002.mp4: 640x384 3 dresss, 3 shoess, 32.5ms\n",
      "video 1/1 (frame 335/788) c:\\Users\\Upal Mazumder\\OneDrive\\Desktop\\flickd\\test_vid\\VID_20250604_121446_002.mp4: 640x384 3 dresss, 3 shoess, 33.6ms\n",
      "video 1/1 (frame 336/788) c:\\Users\\Upal Mazumder\\OneDrive\\Desktop\\flickd\\test_vid\\VID_20250604_121446_002.mp4: 640x384 3 dresss, 3 shoess, 30.7ms\n",
      "video 1/1 (frame 337/788) c:\\Users\\Upal Mazumder\\OneDrive\\Desktop\\flickd\\test_vid\\VID_20250604_121446_002.mp4: 640x384 3 dresss, 3 shoess, 30.6ms\n",
      "video 1/1 (frame 338/788) c:\\Users\\Upal Mazumder\\OneDrive\\Desktop\\flickd\\test_vid\\VID_20250604_121446_002.mp4: 640x384 4 dresss, 3 shoess, 33.1ms\n",
      "video 1/1 (frame 339/788) c:\\Users\\Upal Mazumder\\OneDrive\\Desktop\\flickd\\test_vid\\VID_20250604_121446_002.mp4: 640x384 4 dresss, 3 shoess, 32.2ms\n",
      "video 1/1 (frame 340/788) c:\\Users\\Upal Mazumder\\OneDrive\\Desktop\\flickd\\test_vid\\VID_20250604_121446_002.mp4: 640x384 4 dresss, 3 shoess, 34.8ms\n",
      "video 1/1 (frame 341/788) c:\\Users\\Upal Mazumder\\OneDrive\\Desktop\\flickd\\test_vid\\VID_20250604_121446_002.mp4: 640x384 4 dresss, 3 shoess, 37.0ms\n",
      "video 1/1 (frame 342/788) c:\\Users\\Upal Mazumder\\OneDrive\\Desktop\\flickd\\test_vid\\VID_20250604_121446_002.mp4: 640x384 4 dresss, 4 shoess, 37.6ms\n",
      "video 1/1 (frame 343/788) c:\\Users\\Upal Mazumder\\OneDrive\\Desktop\\flickd\\test_vid\\VID_20250604_121446_002.mp4: 640x384 4 dresss, 3 shoess, 38.9ms\n",
      "video 1/1 (frame 344/788) c:\\Users\\Upal Mazumder\\OneDrive\\Desktop\\flickd\\test_vid\\VID_20250604_121446_002.mp4: 640x384 4 dresss, 3 shoess, 41.7ms\n",
      "video 1/1 (frame 345/788) c:\\Users\\Upal Mazumder\\OneDrive\\Desktop\\flickd\\test_vid\\VID_20250604_121446_002.mp4: 640x384 4 dresss, 3 shoess, 39.1ms\n",
      "video 1/1 (frame 346/788) c:\\Users\\Upal Mazumder\\OneDrive\\Desktop\\flickd\\test_vid\\VID_20250604_121446_002.mp4: 640x384 3 dresss, 3 shoess, 33.7ms\n",
      "video 1/1 (frame 347/788) c:\\Users\\Upal Mazumder\\OneDrive\\Desktop\\flickd\\test_vid\\VID_20250604_121446_002.mp4: 640x384 3 dresss, 3 shoess, 31.7ms\n",
      "video 1/1 (frame 348/788) c:\\Users\\Upal Mazumder\\OneDrive\\Desktop\\flickd\\test_vid\\VID_20250604_121446_002.mp4: 640x384 3 dresss, 3 shoess, 33.0ms\n",
      "video 1/1 (frame 349/788) c:\\Users\\Upal Mazumder\\OneDrive\\Desktop\\flickd\\test_vid\\VID_20250604_121446_002.mp4: 640x384 3 dresss, 4 shoess, 39.4ms\n",
      "video 1/1 (frame 350/788) c:\\Users\\Upal Mazumder\\OneDrive\\Desktop\\flickd\\test_vid\\VID_20250604_121446_002.mp4: 640x384 3 dresss, 3 shoess, 35.4ms\n",
      "video 1/1 (frame 351/788) c:\\Users\\Upal Mazumder\\OneDrive\\Desktop\\flickd\\test_vid\\VID_20250604_121446_002.mp4: 640x384 3 dresss, 3 shoess, 29.7ms\n",
      "video 1/1 (frame 352/788) c:\\Users\\Upal Mazumder\\OneDrive\\Desktop\\flickd\\test_vid\\VID_20250604_121446_002.mp4: 640x384 3 dresss, 1 glasses, 3 shoess, 31.4ms\n",
      "video 1/1 (frame 353/788) c:\\Users\\Upal Mazumder\\OneDrive\\Desktop\\flickd\\test_vid\\VID_20250604_121446_002.mp4: 640x384 3 dresss, 3 shoess, 31.8ms\n",
      "video 1/1 (frame 354/788) c:\\Users\\Upal Mazumder\\OneDrive\\Desktop\\flickd\\test_vid\\VID_20250604_121446_002.mp4: 640x384 4 dresss, 3 shoess, 31.5ms\n",
      "video 1/1 (frame 355/788) c:\\Users\\Upal Mazumder\\OneDrive\\Desktop\\flickd\\test_vid\\VID_20250604_121446_002.mp4: 640x384 3 dresss, 2 shoess, 30.9ms\n",
      "video 1/1 (frame 356/788) c:\\Users\\Upal Mazumder\\OneDrive\\Desktop\\flickd\\test_vid\\VID_20250604_121446_002.mp4: 640x384 4 dresss, 3 shoess, 32.1ms\n",
      "video 1/1 (frame 357/788) c:\\Users\\Upal Mazumder\\OneDrive\\Desktop\\flickd\\test_vid\\VID_20250604_121446_002.mp4: 640x384 4 dresss, 1 glasses, 3 shoess, 30.9ms\n",
      "video 1/1 (frame 358/788) c:\\Users\\Upal Mazumder\\OneDrive\\Desktop\\flickd\\test_vid\\VID_20250604_121446_002.mp4: 640x384 4 dresss, 1 glasses, 2 shoess, 31.7ms\n",
      "video 1/1 (frame 359/788) c:\\Users\\Upal Mazumder\\OneDrive\\Desktop\\flickd\\test_vid\\VID_20250604_121446_002.mp4: 640x384 4 dresss, 2 shoess, 32.3ms\n",
      "video 1/1 (frame 360/788) c:\\Users\\Upal Mazumder\\OneDrive\\Desktop\\flickd\\test_vid\\VID_20250604_121446_002.mp4: 640x384 4 dresss, 2 shoess, 29.6ms\n",
      "video 1/1 (frame 361/788) c:\\Users\\Upal Mazumder\\OneDrive\\Desktop\\flickd\\test_vid\\VID_20250604_121446_002.mp4: 640x384 3 dresss, 2 shoess, 31.2ms\n",
      "video 1/1 (frame 362/788) c:\\Users\\Upal Mazumder\\OneDrive\\Desktop\\flickd\\test_vid\\VID_20250604_121446_002.mp4: 640x384 4 dresss, 2 shoess, 37.5ms\n",
      "video 1/1 (frame 363/788) c:\\Users\\Upal Mazumder\\OneDrive\\Desktop\\flickd\\test_vid\\VID_20250604_121446_002.mp4: 640x384 3 dresss, 2 shoess, 32.6ms\n",
      "video 1/1 (frame 364/788) c:\\Users\\Upal Mazumder\\OneDrive\\Desktop\\flickd\\test_vid\\VID_20250604_121446_002.mp4: 640x384 1 bottom, 2 tops, 29.3ms\n",
      "video 1/1 (frame 365/788) c:\\Users\\Upal Mazumder\\OneDrive\\Desktop\\flickd\\test_vid\\VID_20250604_121446_002.mp4: 640x384 1 bottom, 1 top, 31.7ms\n",
      "video 1/1 (frame 366/788) c:\\Users\\Upal Mazumder\\OneDrive\\Desktop\\flickd\\test_vid\\VID_20250604_121446_002.mp4: 640x384 1 bottom, 1 top, 31.5ms\n",
      "video 1/1 (frame 367/788) c:\\Users\\Upal Mazumder\\OneDrive\\Desktop\\flickd\\test_vid\\VID_20250604_121446_002.mp4: 640x384 1 bottom, 1 top, 31.8ms\n",
      "video 1/1 (frame 368/788) c:\\Users\\Upal Mazumder\\OneDrive\\Desktop\\flickd\\test_vid\\VID_20250604_121446_002.mp4: 640x384 1 bottom, 1 top, 36.4ms\n",
      "video 1/1 (frame 369/788) c:\\Users\\Upal Mazumder\\OneDrive\\Desktop\\flickd\\test_vid\\VID_20250604_121446_002.mp4: 640x384 1 bottom, 1 top, 29.9ms\n",
      "video 1/1 (frame 370/788) c:\\Users\\Upal Mazumder\\OneDrive\\Desktop\\flickd\\test_vid\\VID_20250604_121446_002.mp4: 640x384 1 bottom, 1 top, 32.4ms\n",
      "video 1/1 (frame 371/788) c:\\Users\\Upal Mazumder\\OneDrive\\Desktop\\flickd\\test_vid\\VID_20250604_121446_002.mp4: 640x384 1 bottom, 1 top, 31.0ms\n",
      "video 1/1 (frame 372/788) c:\\Users\\Upal Mazumder\\OneDrive\\Desktop\\flickd\\test_vid\\VID_20250604_121446_002.mp4: 640x384 1 bottom, 1 top, 31.7ms\n",
      "video 1/1 (frame 373/788) c:\\Users\\Upal Mazumder\\OneDrive\\Desktop\\flickd\\test_vid\\VID_20250604_121446_002.mp4: 640x384 1 bottom, 1 top, 31.4ms\n",
      "video 1/1 (frame 374/788) c:\\Users\\Upal Mazumder\\OneDrive\\Desktop\\flickd\\test_vid\\VID_20250604_121446_002.mp4: 640x384 1 bottom, 1 top, 31.6ms\n",
      "video 1/1 (frame 375/788) c:\\Users\\Upal Mazumder\\OneDrive\\Desktop\\flickd\\test_vid\\VID_20250604_121446_002.mp4: 640x384 1 bottom, 1 top, 29.9ms\n",
      "video 1/1 (frame 376/788) c:\\Users\\Upal Mazumder\\OneDrive\\Desktop\\flickd\\test_vid\\VID_20250604_121446_002.mp4: 640x384 1 bottom, 1 top, 36.4ms\n",
      "video 1/1 (frame 377/788) c:\\Users\\Upal Mazumder\\OneDrive\\Desktop\\flickd\\test_vid\\VID_20250604_121446_002.mp4: 640x384 1 bottom, 1 top, 31.1ms\n",
      "video 1/1 (frame 378/788) c:\\Users\\Upal Mazumder\\OneDrive\\Desktop\\flickd\\test_vid\\VID_20250604_121446_002.mp4: 640x384 1 bottom, 1 top, 32.1ms\n",
      "video 1/1 (frame 379/788) c:\\Users\\Upal Mazumder\\OneDrive\\Desktop\\flickd\\test_vid\\VID_20250604_121446_002.mp4: 640x384 1 bottom, 1 top, 33.3ms\n",
      "video 1/1 (frame 380/788) c:\\Users\\Upal Mazumder\\OneDrive\\Desktop\\flickd\\test_vid\\VID_20250604_121446_002.mp4: 640x384 1 bottom, 29.5ms\n",
      "video 1/1 (frame 381/788) c:\\Users\\Upal Mazumder\\OneDrive\\Desktop\\flickd\\test_vid\\VID_20250604_121446_002.mp4: 640x384 1 bottom, 32.0ms\n",
      "video 1/1 (frame 382/788) c:\\Users\\Upal Mazumder\\OneDrive\\Desktop\\flickd\\test_vid\\VID_20250604_121446_002.mp4: 640x384 1 bottom, 1 dress, 31.4ms\n",
      "video 1/1 (frame 383/788) c:\\Users\\Upal Mazumder\\OneDrive\\Desktop\\flickd\\test_vid\\VID_20250604_121446_002.mp4: 640x384 1 top, 30.7ms\n",
      "video 1/1 (frame 384/788) c:\\Users\\Upal Mazumder\\OneDrive\\Desktop\\flickd\\test_vid\\VID_20250604_121446_002.mp4: 640x384 1 top, 50.5ms\n",
      "video 1/1 (frame 385/788) c:\\Users\\Upal Mazumder\\OneDrive\\Desktop\\flickd\\test_vid\\VID_20250604_121446_002.mp4: 640x384 1 top, 36.7ms\n",
      "video 1/1 (frame 386/788) c:\\Users\\Upal Mazumder\\OneDrive\\Desktop\\flickd\\test_vid\\VID_20250604_121446_002.mp4: 640x384 1 top, 33.0ms\n",
      "video 1/1 (frame 387/788) c:\\Users\\Upal Mazumder\\OneDrive\\Desktop\\flickd\\test_vid\\VID_20250604_121446_002.mp4: 640x384 1 top, 34.3ms\n",
      "video 1/1 (frame 388/788) c:\\Users\\Upal Mazumder\\OneDrive\\Desktop\\flickd\\test_vid\\VID_20250604_121446_002.mp4: 640x384 1 top, 29.7ms\n",
      "video 1/1 (frame 389/788) c:\\Users\\Upal Mazumder\\OneDrive\\Desktop\\flickd\\test_vid\\VID_20250604_121446_002.mp4: 640x384 1 top, 33.3ms\n",
      "video 1/1 (frame 390/788) c:\\Users\\Upal Mazumder\\OneDrive\\Desktop\\flickd\\test_vid\\VID_20250604_121446_002.mp4: 640x384 1 top, 31.4ms\n",
      "video 1/1 (frame 391/788) c:\\Users\\Upal Mazumder\\OneDrive\\Desktop\\flickd\\test_vid\\VID_20250604_121446_002.mp4: 640x384 1 top, 30.1ms\n",
      "video 1/1 (frame 392/788) c:\\Users\\Upal Mazumder\\OneDrive\\Desktop\\flickd\\test_vid\\VID_20250604_121446_002.mp4: 640x384 1 top, 29.1ms\n",
      "video 1/1 (frame 393/788) c:\\Users\\Upal Mazumder\\OneDrive\\Desktop\\flickd\\test_vid\\VID_20250604_121446_002.mp4: 640x384 1 top, 30.1ms\n",
      "video 1/1 (frame 394/788) c:\\Users\\Upal Mazumder\\OneDrive\\Desktop\\flickd\\test_vid\\VID_20250604_121446_002.mp4: 640x384 1 top, 31.5ms\n",
      "video 1/1 (frame 395/788) c:\\Users\\Upal Mazumder\\OneDrive\\Desktop\\flickd\\test_vid\\VID_20250604_121446_002.mp4: 640x384 1 top, 33.0ms\n",
      "video 1/1 (frame 396/788) c:\\Users\\Upal Mazumder\\OneDrive\\Desktop\\flickd\\test_vid\\VID_20250604_121446_002.mp4: 640x384 1 top, 31.5ms\n",
      "video 1/1 (frame 397/788) c:\\Users\\Upal Mazumder\\OneDrive\\Desktop\\flickd\\test_vid\\VID_20250604_121446_002.mp4: 640x384 1 top, 32.8ms\n",
      "video 1/1 (frame 398/788) c:\\Users\\Upal Mazumder\\OneDrive\\Desktop\\flickd\\test_vid\\VID_20250604_121446_002.mp4: 640x384 1 top, 31.7ms\n",
      "video 1/1 (frame 399/788) c:\\Users\\Upal Mazumder\\OneDrive\\Desktop\\flickd\\test_vid\\VID_20250604_121446_002.mp4: 640x384 1 top, 33.2ms\n",
      "video 1/1 (frame 400/788) c:\\Users\\Upal Mazumder\\OneDrive\\Desktop\\flickd\\test_vid\\VID_20250604_121446_002.mp4: 640x384 1 top, 29.8ms\n",
      "video 1/1 (frame 401/788) c:\\Users\\Upal Mazumder\\OneDrive\\Desktop\\flickd\\test_vid\\VID_20250604_121446_002.mp4: 640x384 1 top, 29.8ms\n",
      "video 1/1 (frame 402/788) c:\\Users\\Upal Mazumder\\OneDrive\\Desktop\\flickd\\test_vid\\VID_20250604_121446_002.mp4: 640x384 1 top, 33.3ms\n",
      "video 1/1 (frame 403/788) c:\\Users\\Upal Mazumder\\OneDrive\\Desktop\\flickd\\test_vid\\VID_20250604_121446_002.mp4: 640x384 1 bottom, 1 shoes, 1 top, 32.3ms\n",
      "video 1/1 (frame 404/788) c:\\Users\\Upal Mazumder\\OneDrive\\Desktop\\flickd\\test_vid\\VID_20250604_121446_002.mp4: 640x384 1 bottom, 1 top, 29.4ms\n",
      "video 1/1 (frame 405/788) c:\\Users\\Upal Mazumder\\OneDrive\\Desktop\\flickd\\test_vid\\VID_20250604_121446_002.mp4: 640x384 1 bottom, 1 top, 41.4ms\n",
      "video 1/1 (frame 406/788) c:\\Users\\Upal Mazumder\\OneDrive\\Desktop\\flickd\\test_vid\\VID_20250604_121446_002.mp4: 640x384 1 bottom, 1 top, 47.8ms\n",
      "video 1/1 (frame 407/788) c:\\Users\\Upal Mazumder\\OneDrive\\Desktop\\flickd\\test_vid\\VID_20250604_121446_002.mp4: 640x384 1 bottom, 1 top, 37.9ms\n",
      "video 1/1 (frame 408/788) c:\\Users\\Upal Mazumder\\OneDrive\\Desktop\\flickd\\test_vid\\VID_20250604_121446_002.mp4: 640x384 1 bottom, 1 top, 39.4ms\n",
      "video 1/1 (frame 409/788) c:\\Users\\Upal Mazumder\\OneDrive\\Desktop\\flickd\\test_vid\\VID_20250604_121446_002.mp4: 640x384 1 bottom, 1 shoes, 1 top, 40.3ms\n",
      "video 1/1 (frame 410/788) c:\\Users\\Upal Mazumder\\OneDrive\\Desktop\\flickd\\test_vid\\VID_20250604_121446_002.mp4: 640x384 1 bottom, 1 top, 35.0ms\n",
      "video 1/1 (frame 411/788) c:\\Users\\Upal Mazumder\\OneDrive\\Desktop\\flickd\\test_vid\\VID_20250604_121446_002.mp4: 640x384 1 bottom, 1 top, 31.4ms\n",
      "video 1/1 (frame 412/788) c:\\Users\\Upal Mazumder\\OneDrive\\Desktop\\flickd\\test_vid\\VID_20250604_121446_002.mp4: 640x384 1 bottom, 1 glasses, 1 top, 36.9ms\n",
      "video 1/1 (frame 413/788) c:\\Users\\Upal Mazumder\\OneDrive\\Desktop\\flickd\\test_vid\\VID_20250604_121446_002.mp4: 640x384 1 bottom, 1 top, 38.1ms\n",
      "video 1/1 (frame 414/788) c:\\Users\\Upal Mazumder\\OneDrive\\Desktop\\flickd\\test_vid\\VID_20250604_121446_002.mp4: 640x384 1 bottom, 1 glasses, 1 top, 30.4ms\n",
      "video 1/1 (frame 415/788) c:\\Users\\Upal Mazumder\\OneDrive\\Desktop\\flickd\\test_vid\\VID_20250604_121446_002.mp4: 640x384 1 bottom, 1 glasses, 1 top, 34.7ms\n",
      "video 1/1 (frame 416/788) c:\\Users\\Upal Mazumder\\OneDrive\\Desktop\\flickd\\test_vid\\VID_20250604_121446_002.mp4: 640x384 1 bottom, 1 glasses, 1 shoes, 1 top, 29.5ms\n",
      "video 1/1 (frame 417/788) c:\\Users\\Upal Mazumder\\OneDrive\\Desktop\\flickd\\test_vid\\VID_20250604_121446_002.mp4: 640x384 1 bottom, 1 glasses, 1 top, 33.8ms\n",
      "video 1/1 (frame 418/788) c:\\Users\\Upal Mazumder\\OneDrive\\Desktop\\flickd\\test_vid\\VID_20250604_121446_002.mp4: 640x384 1 bottom, 1 glasses, 1 shoes, 1 top, 37.8ms\n",
      "video 1/1 (frame 419/788) c:\\Users\\Upal Mazumder\\OneDrive\\Desktop\\flickd\\test_vid\\VID_20250604_121446_002.mp4: 640x384 1 bottom, 1 glasses, 1 top, 33.8ms\n",
      "video 1/1 (frame 420/788) c:\\Users\\Upal Mazumder\\OneDrive\\Desktop\\flickd\\test_vid\\VID_20250604_121446_002.mp4: 640x384 1 bottom, 1 top, 38.2ms\n",
      "video 1/1 (frame 421/788) c:\\Users\\Upal Mazumder\\OneDrive\\Desktop\\flickd\\test_vid\\VID_20250604_121446_002.mp4: 640x384 1 bottom, 1 glasses, 1 top, 37.0ms\n",
      "video 1/1 (frame 422/788) c:\\Users\\Upal Mazumder\\OneDrive\\Desktop\\flickd\\test_vid\\VID_20250604_121446_002.mp4: 640x384 1 bottom, 1 glasses, 1 top, 31.9ms\n",
      "video 1/1 (frame 423/788) c:\\Users\\Upal Mazumder\\OneDrive\\Desktop\\flickd\\test_vid\\VID_20250604_121446_002.mp4: 640x384 1 bottom, 1 glasses, 1 top, 38.5ms\n",
      "video 1/1 (frame 424/788) c:\\Users\\Upal Mazumder\\OneDrive\\Desktop\\flickd\\test_vid\\VID_20250604_121446_002.mp4: 640x384 1 bottom, 1 glasses, 1 top, 35.1ms\n",
      "video 1/1 (frame 425/788) c:\\Users\\Upal Mazumder\\OneDrive\\Desktop\\flickd\\test_vid\\VID_20250604_121446_002.mp4: 640x384 1 bottom, 1 glasses, 1 top, 33.9ms\n",
      "video 1/1 (frame 426/788) c:\\Users\\Upal Mazumder\\OneDrive\\Desktop\\flickd\\test_vid\\VID_20250604_121446_002.mp4: 640x384 1 bottom, 1 top, 41.9ms\n",
      "video 1/1 (frame 427/788) c:\\Users\\Upal Mazumder\\OneDrive\\Desktop\\flickd\\test_vid\\VID_20250604_121446_002.mp4: 640x384 1 bottom, 1 top, 37.2ms\n",
      "video 1/1 (frame 428/788) c:\\Users\\Upal Mazumder\\OneDrive\\Desktop\\flickd\\test_vid\\VID_20250604_121446_002.mp4: 640x384 1 bottom, 1 top, 37.2ms\n",
      "video 1/1 (frame 429/788) c:\\Users\\Upal Mazumder\\OneDrive\\Desktop\\flickd\\test_vid\\VID_20250604_121446_002.mp4: 640x384 1 bottom, 1 top, 35.2ms\n",
      "video 1/1 (frame 430/788) c:\\Users\\Upal Mazumder\\OneDrive\\Desktop\\flickd\\test_vid\\VID_20250604_121446_002.mp4: 640x384 1 bottom, 1 top, 34.4ms\n",
      "video 1/1 (frame 431/788) c:\\Users\\Upal Mazumder\\OneDrive\\Desktop\\flickd\\test_vid\\VID_20250604_121446_002.mp4: 640x384 1 bottom, 1 top, 30.4ms\n",
      "video 1/1 (frame 432/788) c:\\Users\\Upal Mazumder\\OneDrive\\Desktop\\flickd\\test_vid\\VID_20250604_121446_002.mp4: 640x384 1 bottom, 1 top, 36.1ms\n",
      "video 1/1 (frame 433/788) c:\\Users\\Upal Mazumder\\OneDrive\\Desktop\\flickd\\test_vid\\VID_20250604_121446_002.mp4: 640x384 1 bottom, 1 top, 34.8ms\n",
      "video 1/1 (frame 434/788) c:\\Users\\Upal Mazumder\\OneDrive\\Desktop\\flickd\\test_vid\\VID_20250604_121446_002.mp4: 640x384 1 bottom, 1 top, 42.1ms\n",
      "video 1/1 (frame 435/788) c:\\Users\\Upal Mazumder\\OneDrive\\Desktop\\flickd\\test_vid\\VID_20250604_121446_002.mp4: 640x384 1 bottom, 1 top, 30.8ms\n",
      "video 1/1 (frame 436/788) c:\\Users\\Upal Mazumder\\OneDrive\\Desktop\\flickd\\test_vid\\VID_20250604_121446_002.mp4: 640x384 1 bottom, 1 top, 29.8ms\n",
      "video 1/1 (frame 437/788) c:\\Users\\Upal Mazumder\\OneDrive\\Desktop\\flickd\\test_vid\\VID_20250604_121446_002.mp4: 640x384 1 bottom, 1 top, 29.6ms\n",
      "video 1/1 (frame 438/788) c:\\Users\\Upal Mazumder\\OneDrive\\Desktop\\flickd\\test_vid\\VID_20250604_121446_002.mp4: 640x384 1 bottom, 1 top, 28.1ms\n",
      "video 1/1 (frame 439/788) c:\\Users\\Upal Mazumder\\OneDrive\\Desktop\\flickd\\test_vid\\VID_20250604_121446_002.mp4: 640x384 1 bottom, 1 top, 30.8ms\n",
      "video 1/1 (frame 440/788) c:\\Users\\Upal Mazumder\\OneDrive\\Desktop\\flickd\\test_vid\\VID_20250604_121446_002.mp4: 640x384 1 top, 35.0ms\n",
      "video 1/1 (frame 441/788) c:\\Users\\Upal Mazumder\\OneDrive\\Desktop\\flickd\\test_vid\\VID_20250604_121446_002.mp4: 640x384 1 bottom, 1 top, 37.9ms\n",
      "video 1/1 (frame 442/788) c:\\Users\\Upal Mazumder\\OneDrive\\Desktop\\flickd\\test_vid\\VID_20250604_121446_002.mp4: 640x384 1 dress, 1 top, 38.4ms\n",
      "video 1/1 (frame 443/788) c:\\Users\\Upal Mazumder\\OneDrive\\Desktop\\flickd\\test_vid\\VID_20250604_121446_002.mp4: 640x384 1 bottom, 1 top, 34.8ms\n",
      "video 1/1 (frame 444/788) c:\\Users\\Upal Mazumder\\OneDrive\\Desktop\\flickd\\test_vid\\VID_20250604_121446_002.mp4: 640x384 1 top, 40.2ms\n",
      "video 1/1 (frame 445/788) c:\\Users\\Upal Mazumder\\OneDrive\\Desktop\\flickd\\test_vid\\VID_20250604_121446_002.mp4: 640x384 1 bottom, 2 tops, 42.1ms\n",
      "video 1/1 (frame 446/788) c:\\Users\\Upal Mazumder\\OneDrive\\Desktop\\flickd\\test_vid\\VID_20250604_121446_002.mp4: 640x384 2 bottoms, 1 top, 37.0ms\n",
      "video 1/1 (frame 447/788) c:\\Users\\Upal Mazumder\\OneDrive\\Desktop\\flickd\\test_vid\\VID_20250604_121446_002.mp4: 640x384 1 bottom, 1 top, 30.0ms\n",
      "video 1/1 (frame 448/788) c:\\Users\\Upal Mazumder\\OneDrive\\Desktop\\flickd\\test_vid\\VID_20250604_121446_002.mp4: 640x384 1 bottom, 1 top, 33.5ms\n",
      "video 1/1 (frame 449/788) c:\\Users\\Upal Mazumder\\OneDrive\\Desktop\\flickd\\test_vid\\VID_20250604_121446_002.mp4: 640x384 1 bottom, 2 tops, 29.2ms\n",
      "video 1/1 (frame 450/788) c:\\Users\\Upal Mazumder\\OneDrive\\Desktop\\flickd\\test_vid\\VID_20250604_121446_002.mp4: 640x384 1 bottom, 1 top, 29.2ms\n",
      "video 1/1 (frame 451/788) c:\\Users\\Upal Mazumder\\OneDrive\\Desktop\\flickd\\test_vid\\VID_20250604_121446_002.mp4: 640x384 1 bottom, 1 top, 65.6ms\n",
      "video 1/1 (frame 452/788) c:\\Users\\Upal Mazumder\\OneDrive\\Desktop\\flickd\\test_vid\\VID_20250604_121446_002.mp4: 640x384 1 bottom, 1 glasses, 1 top, 30.3ms\n",
      "video 1/1 (frame 453/788) c:\\Users\\Upal Mazumder\\OneDrive\\Desktop\\flickd\\test_vid\\VID_20250604_121446_002.mp4: 640x384 1 bottom, 1 glasses, 1 top, 30.4ms\n",
      "video 1/1 (frame 454/788) c:\\Users\\Upal Mazumder\\OneDrive\\Desktop\\flickd\\test_vid\\VID_20250604_121446_002.mp4: 640x384 1 bottom, 1 glasses, 1 top, 32.8ms\n",
      "video 1/1 (frame 455/788) c:\\Users\\Upal Mazumder\\OneDrive\\Desktop\\flickd\\test_vid\\VID_20250604_121446_002.mp4: 640x384 1 bottom, 1 glasses, 1 top, 30.7ms\n",
      "video 1/1 (frame 456/788) c:\\Users\\Upal Mazumder\\OneDrive\\Desktop\\flickd\\test_vid\\VID_20250604_121446_002.mp4: 640x384 1 bottom, 1 glasses, 1 top, 27.8ms\n",
      "video 1/1 (frame 457/788) c:\\Users\\Upal Mazumder\\OneDrive\\Desktop\\flickd\\test_vid\\VID_20250604_121446_002.mp4: 640x384 1 bottom, 1 glasses, 1 top, 33.2ms\n",
      "video 1/1 (frame 458/788) c:\\Users\\Upal Mazumder\\OneDrive\\Desktop\\flickd\\test_vid\\VID_20250604_121446_002.mp4: 640x384 1 bottom, 1 glasses, 1 top, 33.5ms\n",
      "video 1/1 (frame 459/788) c:\\Users\\Upal Mazumder\\OneDrive\\Desktop\\flickd\\test_vid\\VID_20250604_121446_002.mp4: 640x384 1 bottom, 1 glasses, 1 top, 32.0ms\n",
      "video 1/1 (frame 460/788) c:\\Users\\Upal Mazumder\\OneDrive\\Desktop\\flickd\\test_vid\\VID_20250604_121446_002.mp4: 640x384 1 bottom, 1 glasses, 1 top, 34.6ms\n",
      "video 1/1 (frame 461/788) c:\\Users\\Upal Mazumder\\OneDrive\\Desktop\\flickd\\test_vid\\VID_20250604_121446_002.mp4: 640x384 1 bottom, 1 glasses, 1 top, 34.3ms\n",
      "video 1/1 (frame 462/788) c:\\Users\\Upal Mazumder\\OneDrive\\Desktop\\flickd\\test_vid\\VID_20250604_121446_002.mp4: 640x384 1 bottom, 1 glasses, 1 handbag, 1 top, 30.1ms\n",
      "video 1/1 (frame 463/788) c:\\Users\\Upal Mazumder\\OneDrive\\Desktop\\flickd\\test_vid\\VID_20250604_121446_002.mp4: 640x384 1 bottom, 1 glasses, 1 top, 30.5ms\n",
      "video 1/1 (frame 464/788) c:\\Users\\Upal Mazumder\\OneDrive\\Desktop\\flickd\\test_vid\\VID_20250604_121446_002.mp4: 640x384 1 bottom, 1 glasses, 1 top, 29.2ms\n",
      "video 1/1 (frame 465/788) c:\\Users\\Upal Mazumder\\OneDrive\\Desktop\\flickd\\test_vid\\VID_20250604_121446_002.mp4: 640x384 1 bottom, 1 glasses, 1 top, 30.1ms\n",
      "video 1/1 (frame 466/788) c:\\Users\\Upal Mazumder\\OneDrive\\Desktop\\flickd\\test_vid\\VID_20250604_121446_002.mp4: 640x384 1 bottom, 1 glasses, 1 top, 29.8ms\n",
      "video 1/1 (frame 467/788) c:\\Users\\Upal Mazumder\\OneDrive\\Desktop\\flickd\\test_vid\\VID_20250604_121446_002.mp4: 640x384 1 bottom, 1 glasses, 1 top, 30.2ms\n",
      "video 1/1 (frame 468/788) c:\\Users\\Upal Mazumder\\OneDrive\\Desktop\\flickd\\test_vid\\VID_20250604_121446_002.mp4: 640x384 1 bottom, 1 glasses, 1 top, 27.6ms\n",
      "video 1/1 (frame 469/788) c:\\Users\\Upal Mazumder\\OneDrive\\Desktop\\flickd\\test_vid\\VID_20250604_121446_002.mp4: 640x384 1 bottom, 1 glasses, 1 top, 30.4ms\n",
      "video 1/1 (frame 470/788) c:\\Users\\Upal Mazumder\\OneDrive\\Desktop\\flickd\\test_vid\\VID_20250604_121446_002.mp4: 640x384 1 bottom, 1 glasses, 1 top, 35.0ms\n",
      "video 1/1 (frame 471/788) c:\\Users\\Upal Mazumder\\OneDrive\\Desktop\\flickd\\test_vid\\VID_20250604_121446_002.mp4: 640x384 1 glasses, 1 top, 28.0ms\n",
      "video 1/1 (frame 472/788) c:\\Users\\Upal Mazumder\\OneDrive\\Desktop\\flickd\\test_vid\\VID_20250604_121446_002.mp4: 640x384 1 glasses, 1 top, 28.9ms\n",
      "video 1/1 (frame 473/788) c:\\Users\\Upal Mazumder\\OneDrive\\Desktop\\flickd\\test_vid\\VID_20250604_121446_002.mp4: 640x384 1 bottom, 1 glasses, 1 top, 28.1ms\n",
      "video 1/1 (frame 474/788) c:\\Users\\Upal Mazumder\\OneDrive\\Desktop\\flickd\\test_vid\\VID_20250604_121446_002.mp4: 640x384 1 bottom, 1 glasses, 1 top, 29.6ms\n",
      "video 1/1 (frame 475/788) c:\\Users\\Upal Mazumder\\OneDrive\\Desktop\\flickd\\test_vid\\VID_20250604_121446_002.mp4: 640x384 1 bottom, 1 glasses, 1 top, 28.3ms\n",
      "video 1/1 (frame 476/788) c:\\Users\\Upal Mazumder\\OneDrive\\Desktop\\flickd\\test_vid\\VID_20250604_121446_002.mp4: 640x384 1 glasses, 1 top, 27.6ms\n",
      "video 1/1 (frame 477/788) c:\\Users\\Upal Mazumder\\OneDrive\\Desktop\\flickd\\test_vid\\VID_20250604_121446_002.mp4: 640x384 1 glasses, 1 top, 28.4ms\n",
      "video 1/1 (frame 478/788) c:\\Users\\Upal Mazumder\\OneDrive\\Desktop\\flickd\\test_vid\\VID_20250604_121446_002.mp4: 640x384 1 bottom, 1 ear ring, 2 tops, 27.8ms\n",
      "video 1/1 (frame 479/788) c:\\Users\\Upal Mazumder\\OneDrive\\Desktop\\flickd\\test_vid\\VID_20250604_121446_002.mp4: 640x384 1 ear ring, 1 top, 27.5ms\n",
      "video 1/1 (frame 480/788) c:\\Users\\Upal Mazumder\\OneDrive\\Desktop\\flickd\\test_vid\\VID_20250604_121446_002.mp4: 640x384 1 ear ring, 1 top, 27.1ms\n",
      "video 1/1 (frame 481/788) c:\\Users\\Upal Mazumder\\OneDrive\\Desktop\\flickd\\test_vid\\VID_20250604_121446_002.mp4: 640x384 1 handbag, 1 top, 28.0ms\n",
      "video 1/1 (frame 482/788) c:\\Users\\Upal Mazumder\\OneDrive\\Desktop\\flickd\\test_vid\\VID_20250604_121446_002.mp4: 640x384 1 ear ring, 1 top, 27.6ms\n",
      "video 1/1 (frame 483/788) c:\\Users\\Upal Mazumder\\OneDrive\\Desktop\\flickd\\test_vid\\VID_20250604_121446_002.mp4: 640x384 1 top, 28.8ms\n",
      "video 1/1 (frame 484/788) c:\\Users\\Upal Mazumder\\OneDrive\\Desktop\\flickd\\test_vid\\VID_20250604_121446_002.mp4: 640x384 1 top, 28.1ms\n",
      "video 1/1 (frame 485/788) c:\\Users\\Upal Mazumder\\OneDrive\\Desktop\\flickd\\test_vid\\VID_20250604_121446_002.mp4: 640x384 1 top, 34.8ms\n",
      "video 1/1 (frame 486/788) c:\\Users\\Upal Mazumder\\OneDrive\\Desktop\\flickd\\test_vid\\VID_20250604_121446_002.mp4: 640x384 1 bottom, 1 top, 30.4ms\n",
      "video 1/1 (frame 487/788) c:\\Users\\Upal Mazumder\\OneDrive\\Desktop\\flickd\\test_vid\\VID_20250604_121446_002.mp4: 640x384 1 bottom, 28.0ms\n",
      "video 1/1 (frame 488/788) c:\\Users\\Upal Mazumder\\OneDrive\\Desktop\\flickd\\test_vid\\VID_20250604_121446_002.mp4: 640x384 1 bottom, 1 top, 28.3ms\n",
      "video 1/1 (frame 489/788) c:\\Users\\Upal Mazumder\\OneDrive\\Desktop\\flickd\\test_vid\\VID_20250604_121446_002.mp4: 640x384 1 bottom, 1 glasses, 27.8ms\n",
      "video 1/1 (frame 490/788) c:\\Users\\Upal Mazumder\\OneDrive\\Desktop\\flickd\\test_vid\\VID_20250604_121446_002.mp4: 640x384 1 bottom, 1 ear ring, 1 glasses, 1 top, 33.2ms\n",
      "video 1/1 (frame 491/788) c:\\Users\\Upal Mazumder\\OneDrive\\Desktop\\flickd\\test_vid\\VID_20250604_121446_002.mp4: 640x384 1 bottom, 1 glasses, 1 top, 28.4ms\n",
      "video 1/1 (frame 492/788) c:\\Users\\Upal Mazumder\\OneDrive\\Desktop\\flickd\\test_vid\\VID_20250604_121446_002.mp4: 640x384 1 bottom, 1 top, 29.0ms\n",
      "video 1/1 (frame 493/788) c:\\Users\\Upal Mazumder\\OneDrive\\Desktop\\flickd\\test_vid\\VID_20250604_121446_002.mp4: 640x384 1 bottom, 1 top, 33.4ms\n",
      "video 1/1 (frame 494/788) c:\\Users\\Upal Mazumder\\OneDrive\\Desktop\\flickd\\test_vid\\VID_20250604_121446_002.mp4: 640x384 1 bottom, 1 top, 27.2ms\n",
      "video 1/1 (frame 495/788) c:\\Users\\Upal Mazumder\\OneDrive\\Desktop\\flickd\\test_vid\\VID_20250604_121446_002.mp4: 640x384 1 bottom, 1 handbag, 1 top, 31.0ms\n",
      "video 1/1 (frame 496/788) c:\\Users\\Upal Mazumder\\OneDrive\\Desktop\\flickd\\test_vid\\VID_20250604_121446_002.mp4: 640x384 1 bottom, 1 ear ring, 1 top, 27.5ms\n",
      "video 1/1 (frame 497/788) c:\\Users\\Upal Mazumder\\OneDrive\\Desktop\\flickd\\test_vid\\VID_20250604_121446_002.mp4: 640x384 1 bottom, 1 top, 33.2ms\n",
      "video 1/1 (frame 498/788) c:\\Users\\Upal Mazumder\\OneDrive\\Desktop\\flickd\\test_vid\\VID_20250604_121446_002.mp4: 640x384 1 bottom, 1 ear ring, 1 top, 36.6ms\n",
      "video 1/1 (frame 499/788) c:\\Users\\Upal Mazumder\\OneDrive\\Desktop\\flickd\\test_vid\\VID_20250604_121446_002.mp4: 640x384 1 bottom, 1 top, 27.9ms\n",
      "video 1/1 (frame 500/788) c:\\Users\\Upal Mazumder\\OneDrive\\Desktop\\flickd\\test_vid\\VID_20250604_121446_002.mp4: 640x384 1 bottom, 1 top, 27.9ms\n",
      "video 1/1 (frame 501/788) c:\\Users\\Upal Mazumder\\OneDrive\\Desktop\\flickd\\test_vid\\VID_20250604_121446_002.mp4: 640x384 1 bottom, 1 top, 28.1ms\n",
      "video 1/1 (frame 502/788) c:\\Users\\Upal Mazumder\\OneDrive\\Desktop\\flickd\\test_vid\\VID_20250604_121446_002.mp4: 640x384 1 bottom, 1 glasses, 1 top, 29.6ms\n",
      "video 1/1 (frame 503/788) c:\\Users\\Upal Mazumder\\OneDrive\\Desktop\\flickd\\test_vid\\VID_20250604_121446_002.mp4: 640x384 1 bottom, 1 glasses, 1 top, 28.0ms\n",
      "video 1/1 (frame 504/788) c:\\Users\\Upal Mazumder\\OneDrive\\Desktop\\flickd\\test_vid\\VID_20250604_121446_002.mp4: 640x384 1 ear ring, 1 glasses, 1 top, 38.0ms\n",
      "video 1/1 (frame 505/788) c:\\Users\\Upal Mazumder\\OneDrive\\Desktop\\flickd\\test_vid\\VID_20250604_121446_002.mp4: 640x384 1 glasses, 1 top, 29.8ms\n",
      "video 1/1 (frame 506/788) c:\\Users\\Upal Mazumder\\OneDrive\\Desktop\\flickd\\test_vid\\VID_20250604_121446_002.mp4: 640x384 1 glasses, 1 top, 27.7ms\n",
      "video 1/1 (frame 507/788) c:\\Users\\Upal Mazumder\\OneDrive\\Desktop\\flickd\\test_vid\\VID_20250604_121446_002.mp4: 640x384 1 glasses, 1 top, 28.1ms\n",
      "video 1/1 (frame 508/788) c:\\Users\\Upal Mazumder\\OneDrive\\Desktop\\flickd\\test_vid\\VID_20250604_121446_002.mp4: 640x384 1 glasses, 28.4ms\n",
      "video 1/1 (frame 509/788) c:\\Users\\Upal Mazumder\\OneDrive\\Desktop\\flickd\\test_vid\\VID_20250604_121446_002.mp4: 640x384 1 glasses, 1 top, 36.7ms\n",
      "video 1/1 (frame 510/788) c:\\Users\\Upal Mazumder\\OneDrive\\Desktop\\flickd\\test_vid\\VID_20250604_121446_002.mp4: 640x384 1 glasses, 1 top, 29.7ms\n",
      "video 1/1 (frame 511/788) c:\\Users\\Upal Mazumder\\OneDrive\\Desktop\\flickd\\test_vid\\VID_20250604_121446_002.mp4: 640x384 1 glasses, 27.3ms\n",
      "video 1/1 (frame 512/788) c:\\Users\\Upal Mazumder\\OneDrive\\Desktop\\flickd\\test_vid\\VID_20250604_121446_002.mp4: 640x384 1 ear ring, 1 glasses, 1 top, 28.0ms\n",
      "video 1/1 (frame 513/788) c:\\Users\\Upal Mazumder\\OneDrive\\Desktop\\flickd\\test_vid\\VID_20250604_121446_002.mp4: 640x384 1 glasses, 1 top, 27.8ms\n",
      "video 1/1 (frame 514/788) c:\\Users\\Upal Mazumder\\OneDrive\\Desktop\\flickd\\test_vid\\VID_20250604_121446_002.mp4: 640x384 1 glasses, 27.3ms\n",
      "video 1/1 (frame 515/788) c:\\Users\\Upal Mazumder\\OneDrive\\Desktop\\flickd\\test_vid\\VID_20250604_121446_002.mp4: 640x384 1 glasses, 27.3ms\n",
      "video 1/1 (frame 516/788) c:\\Users\\Upal Mazumder\\OneDrive\\Desktop\\flickd\\test_vid\\VID_20250604_121446_002.mp4: 640x384 1 glasses, 2 tops, 28.3ms\n",
      "video 1/1 (frame 517/788) c:\\Users\\Upal Mazumder\\OneDrive\\Desktop\\flickd\\test_vid\\VID_20250604_121446_002.mp4: 640x384 1 glasses, 1 top, 26.6ms\n",
      "video 1/1 (frame 518/788) c:\\Users\\Upal Mazumder\\OneDrive\\Desktop\\flickd\\test_vid\\VID_20250604_121446_002.mp4: 640x384 1 glasses, 1 top, 27.4ms\n",
      "video 1/1 (frame 519/788) c:\\Users\\Upal Mazumder\\OneDrive\\Desktop\\flickd\\test_vid\\VID_20250604_121446_002.mp4: 640x384 1 glasses, 1 top, 26.3ms\n",
      "video 1/1 (frame 520/788) c:\\Users\\Upal Mazumder\\OneDrive\\Desktop\\flickd\\test_vid\\VID_20250604_121446_002.mp4: 640x384 1 glasses, 1 top, 28.5ms\n",
      "video 1/1 (frame 521/788) c:\\Users\\Upal Mazumder\\OneDrive\\Desktop\\flickd\\test_vid\\VID_20250604_121446_002.mp4: 640x384 1 ear ring, 1 glasses, 1 top, 28.3ms\n",
      "video 1/1 (frame 522/788) c:\\Users\\Upal Mazumder\\OneDrive\\Desktop\\flickd\\test_vid\\VID_20250604_121446_002.mp4: 640x384 1 dress, 1 glasses, 1 top, 27.1ms\n",
      "video 1/1 (frame 523/788) c:\\Users\\Upal Mazumder\\OneDrive\\Desktop\\flickd\\test_vid\\VID_20250604_121446_002.mp4: 640x384 1 bottom, 1 top, 28.6ms\n",
      "video 1/1 (frame 524/788) c:\\Users\\Upal Mazumder\\OneDrive\\Desktop\\flickd\\test_vid\\VID_20250604_121446_002.mp4: 640x384 1 bottom, 1 top, 27.4ms\n",
      "video 1/1 (frame 525/788) c:\\Users\\Upal Mazumder\\OneDrive\\Desktop\\flickd\\test_vid\\VID_20250604_121446_002.mp4: 640x384 1 bottom, 1 top, 28.6ms\n",
      "video 1/1 (frame 526/788) c:\\Users\\Upal Mazumder\\OneDrive\\Desktop\\flickd\\test_vid\\VID_20250604_121446_002.mp4: 640x384 1 bottom, 1 top, 29.1ms\n",
      "video 1/1 (frame 527/788) c:\\Users\\Upal Mazumder\\OneDrive\\Desktop\\flickd\\test_vid\\VID_20250604_121446_002.mp4: 640x384 1 bottom, 1 top, 31.0ms\n",
      "video 1/1 (frame 528/788) c:\\Users\\Upal Mazumder\\OneDrive\\Desktop\\flickd\\test_vid\\VID_20250604_121446_002.mp4: 640x384 1 bottom, 1 top, 27.0ms\n",
      "video 1/1 (frame 529/788) c:\\Users\\Upal Mazumder\\OneDrive\\Desktop\\flickd\\test_vid\\VID_20250604_121446_002.mp4: 640x384 1 bottom, 1 top, 31.1ms\n",
      "video 1/1 (frame 530/788) c:\\Users\\Upal Mazumder\\OneDrive\\Desktop\\flickd\\test_vid\\VID_20250604_121446_002.mp4: 640x384 1 bottom, 1 top, 31.0ms\n",
      "video 1/1 (frame 531/788) c:\\Users\\Upal Mazumder\\OneDrive\\Desktop\\flickd\\test_vid\\VID_20250604_121446_002.mp4: 640x384 1 bottom, 1 top, 28.2ms\n",
      "video 1/1 (frame 532/788) c:\\Users\\Upal Mazumder\\OneDrive\\Desktop\\flickd\\test_vid\\VID_20250604_121446_002.mp4: 640x384 1 bottom, 1 top, 34.4ms\n",
      "video 1/1 (frame 533/788) c:\\Users\\Upal Mazumder\\OneDrive\\Desktop\\flickd\\test_vid\\VID_20250604_121446_002.mp4: 640x384 1 bottom, 1 top, 28.1ms\n",
      "video 1/1 (frame 534/788) c:\\Users\\Upal Mazumder\\OneDrive\\Desktop\\flickd\\test_vid\\VID_20250604_121446_002.mp4: 640x384 1 bottom, 1 top, 29.2ms\n",
      "video 1/1 (frame 535/788) c:\\Users\\Upal Mazumder\\OneDrive\\Desktop\\flickd\\test_vid\\VID_20250604_121446_002.mp4: 640x384 1 bottom, 1 top, 26.7ms\n",
      "video 1/1 (frame 536/788) c:\\Users\\Upal Mazumder\\OneDrive\\Desktop\\flickd\\test_vid\\VID_20250604_121446_002.mp4: 640x384 1 bottom, 1 top, 28.4ms\n",
      "video 1/1 (frame 537/788) c:\\Users\\Upal Mazumder\\OneDrive\\Desktop\\flickd\\test_vid\\VID_20250604_121446_002.mp4: 640x384 1 bottom, 1 top, 27.0ms\n",
      "video 1/1 (frame 538/788) c:\\Users\\Upal Mazumder\\OneDrive\\Desktop\\flickd\\test_vid\\VID_20250604_121446_002.mp4: 640x384 1 bottom, 1 top, 27.8ms\n",
      "video 1/1 (frame 539/788) c:\\Users\\Upal Mazumder\\OneDrive\\Desktop\\flickd\\test_vid\\VID_20250604_121446_002.mp4: 640x384 1 bottom, 1 top, 28.9ms\n",
      "video 1/1 (frame 540/788) c:\\Users\\Upal Mazumder\\OneDrive\\Desktop\\flickd\\test_vid\\VID_20250604_121446_002.mp4: 640x384 1 bottom, 1 top, 29.3ms\n",
      "video 1/1 (frame 541/788) c:\\Users\\Upal Mazumder\\OneDrive\\Desktop\\flickd\\test_vid\\VID_20250604_121446_002.mp4: 640x384 1 ear ring, 27.5ms\n",
      "video 1/1 (frame 542/788) c:\\Users\\Upal Mazumder\\OneDrive\\Desktop\\flickd\\test_vid\\VID_20250604_121446_002.mp4: 640x384 (no detections), 27.3ms\n",
      "video 1/1 (frame 543/788) c:\\Users\\Upal Mazumder\\OneDrive\\Desktop\\flickd\\test_vid\\VID_20250604_121446_002.mp4: 640x384 (no detections), 26.3ms\n",
      "video 1/1 (frame 544/788) c:\\Users\\Upal Mazumder\\OneDrive\\Desktop\\flickd\\test_vid\\VID_20250604_121446_002.mp4: 640x384 1 ear ring, 27.6ms\n",
      "video 1/1 (frame 545/788) c:\\Users\\Upal Mazumder\\OneDrive\\Desktop\\flickd\\test_vid\\VID_20250604_121446_002.mp4: 640x384 1 dress, 1 ear ring, 27.5ms\n",
      "video 1/1 (frame 546/788) c:\\Users\\Upal Mazumder\\OneDrive\\Desktop\\flickd\\test_vid\\VID_20250604_121446_002.mp4: 640x384 1 ear ring, 28.8ms\n",
      "video 1/1 (frame 547/788) c:\\Users\\Upal Mazumder\\OneDrive\\Desktop\\flickd\\test_vid\\VID_20250604_121446_002.mp4: 640x384 1 ear ring, 27.6ms\n",
      "video 1/1 (frame 548/788) c:\\Users\\Upal Mazumder\\OneDrive\\Desktop\\flickd\\test_vid\\VID_20250604_121446_002.mp4: 640x384 (no detections), 29.3ms\n",
      "video 1/1 (frame 549/788) c:\\Users\\Upal Mazumder\\OneDrive\\Desktop\\flickd\\test_vid\\VID_20250604_121446_002.mp4: 640x384 (no detections), 29.2ms\n",
      "video 1/1 (frame 550/788) c:\\Users\\Upal Mazumder\\OneDrive\\Desktop\\flickd\\test_vid\\VID_20250604_121446_002.mp4: 640x384 (no detections), 28.0ms\n",
      "video 1/1 (frame 551/788) c:\\Users\\Upal Mazumder\\OneDrive\\Desktop\\flickd\\test_vid\\VID_20250604_121446_002.mp4: 640x384 1 ear ring, 27.4ms\n",
      "video 1/1 (frame 552/788) c:\\Users\\Upal Mazumder\\OneDrive\\Desktop\\flickd\\test_vid\\VID_20250604_121446_002.mp4: 640x384 1 ear ring, 27.6ms\n",
      "video 1/1 (frame 553/788) c:\\Users\\Upal Mazumder\\OneDrive\\Desktop\\flickd\\test_vid\\VID_20250604_121446_002.mp4: 640x384 (no detections), 28.5ms\n",
      "video 1/1 (frame 554/788) c:\\Users\\Upal Mazumder\\OneDrive\\Desktop\\flickd\\test_vid\\VID_20250604_121446_002.mp4: 640x384 (no detections), 36.6ms\n",
      "video 1/1 (frame 555/788) c:\\Users\\Upal Mazumder\\OneDrive\\Desktop\\flickd\\test_vid\\VID_20250604_121446_002.mp4: 640x384 (no detections), 33.6ms\n",
      "video 1/1 (frame 556/788) c:\\Users\\Upal Mazumder\\OneDrive\\Desktop\\flickd\\test_vid\\VID_20250604_121446_002.mp4: 640x384 1 bottom, 32.3ms\n",
      "video 1/1 (frame 557/788) c:\\Users\\Upal Mazumder\\OneDrive\\Desktop\\flickd\\test_vid\\VID_20250604_121446_002.mp4: 640x384 (no detections), 32.7ms\n",
      "video 1/1 (frame 558/788) c:\\Users\\Upal Mazumder\\OneDrive\\Desktop\\flickd\\test_vid\\VID_20250604_121446_002.mp4: 640x384 (no detections), 27.8ms\n",
      "video 1/1 (frame 559/788) c:\\Users\\Upal Mazumder\\OneDrive\\Desktop\\flickd\\test_vid\\VID_20250604_121446_002.mp4: 640x384 (no detections), 28.0ms\n",
      "video 1/1 (frame 560/788) c:\\Users\\Upal Mazumder\\OneDrive\\Desktop\\flickd\\test_vid\\VID_20250604_121446_002.mp4: 640x384 (no detections), 27.3ms\n",
      "video 1/1 (frame 561/788) c:\\Users\\Upal Mazumder\\OneDrive\\Desktop\\flickd\\test_vid\\VID_20250604_121446_002.mp4: 640x384 (no detections), 35.4ms\n",
      "video 1/1 (frame 562/788) c:\\Users\\Upal Mazumder\\OneDrive\\Desktop\\flickd\\test_vid\\VID_20250604_121446_002.mp4: 640x384 (no detections), 27.2ms\n",
      "video 1/1 (frame 563/788) c:\\Users\\Upal Mazumder\\OneDrive\\Desktop\\flickd\\test_vid\\VID_20250604_121446_002.mp4: 640x384 (no detections), 30.2ms\n",
      "video 1/1 (frame 564/788) c:\\Users\\Upal Mazumder\\OneDrive\\Desktop\\flickd\\test_vid\\VID_20250604_121446_002.mp4: 640x384 (no detections), 27.8ms\n",
      "video 1/1 (frame 565/788) c:\\Users\\Upal Mazumder\\OneDrive\\Desktop\\flickd\\test_vid\\VID_20250604_121446_002.mp4: 640x384 (no detections), 28.1ms\n",
      "video 1/1 (frame 566/788) c:\\Users\\Upal Mazumder\\OneDrive\\Desktop\\flickd\\test_vid\\VID_20250604_121446_002.mp4: 640x384 1 bottom, 1 handbag, 1 shoes, 27.0ms\n",
      "video 1/1 (frame 567/788) c:\\Users\\Upal Mazumder\\OneDrive\\Desktop\\flickd\\test_vid\\VID_20250604_121446_002.mp4: 640x384 1 bottom, 1 shoes, 1 top, 29.0ms\n",
      "video 1/1 (frame 568/788) c:\\Users\\Upal Mazumder\\OneDrive\\Desktop\\flickd\\test_vid\\VID_20250604_121446_002.mp4: 640x384 1 bottom, 1 top, 29.1ms\n",
      "video 1/1 (frame 569/788) c:\\Users\\Upal Mazumder\\OneDrive\\Desktop\\flickd\\test_vid\\VID_20250604_121446_002.mp4: 640x384 1 bottom, 1 shoes, 1 top, 27.4ms\n",
      "video 1/1 (frame 570/788) c:\\Users\\Upal Mazumder\\OneDrive\\Desktop\\flickd\\test_vid\\VID_20250604_121446_002.mp4: 640x384 1 bottom, 1 shoes, 1 top, 27.4ms\n",
      "video 1/1 (frame 571/788) c:\\Users\\Upal Mazumder\\OneDrive\\Desktop\\flickd\\test_vid\\VID_20250604_121446_002.mp4: 640x384 1 bottom, 1 shoes, 1 top, 56.2ms\n",
      "video 1/1 (frame 572/788) c:\\Users\\Upal Mazumder\\OneDrive\\Desktop\\flickd\\test_vid\\VID_20250604_121446_002.mp4: 640x384 1 bottom, 1 top, 27.0ms\n",
      "video 1/1 (frame 573/788) c:\\Users\\Upal Mazumder\\OneDrive\\Desktop\\flickd\\test_vid\\VID_20250604_121446_002.mp4: 640x384 1 bottom, 1 shoes, 1 top, 26.6ms\n",
      "video 1/1 (frame 574/788) c:\\Users\\Upal Mazumder\\OneDrive\\Desktop\\flickd\\test_vid\\VID_20250604_121446_002.mp4: 640x384 1 bottom, 1 shoes, 1 top, 27.8ms\n",
      "video 1/1 (frame 575/788) c:\\Users\\Upal Mazumder\\OneDrive\\Desktop\\flickd\\test_vid\\VID_20250604_121446_002.mp4: 640x384 1 bottom, 1 shoes, 1 top, 33.1ms\n",
      "video 1/1 (frame 576/788) c:\\Users\\Upal Mazumder\\OneDrive\\Desktop\\flickd\\test_vid\\VID_20250604_121446_002.mp4: 640x384 1 bottom, 1 shoes, 1 top, 26.2ms\n",
      "video 1/1 (frame 577/788) c:\\Users\\Upal Mazumder\\OneDrive\\Desktop\\flickd\\test_vid\\VID_20250604_121446_002.mp4: 640x384 1 bottom, 1 shoes, 1 top, 27.4ms\n",
      "video 1/1 (frame 578/788) c:\\Users\\Upal Mazumder\\OneDrive\\Desktop\\flickd\\test_vid\\VID_20250604_121446_002.mp4: 640x384 1 bottom, 1 shoes, 2 tops, 28.3ms\n",
      "video 1/1 (frame 579/788) c:\\Users\\Upal Mazumder\\OneDrive\\Desktop\\flickd\\test_vid\\VID_20250604_121446_002.mp4: 640x384 1 bottom, 1 shoes, 1 top, 30.1ms\n",
      "video 1/1 (frame 580/788) c:\\Users\\Upal Mazumder\\OneDrive\\Desktop\\flickd\\test_vid\\VID_20250604_121446_002.mp4: 640x384 1 bottom, 1 shoes, 1 top, 28.1ms\n",
      "video 1/1 (frame 581/788) c:\\Users\\Upal Mazumder\\OneDrive\\Desktop\\flickd\\test_vid\\VID_20250604_121446_002.mp4: 640x384 1 bottom, 1 shoes, 1 top, 27.6ms\n",
      "video 1/1 (frame 582/788) c:\\Users\\Upal Mazumder\\OneDrive\\Desktop\\flickd\\test_vid\\VID_20250604_121446_002.mp4: 640x384 1 bottom, 2 tops, 29.6ms\n",
      "video 1/1 (frame 583/788) c:\\Users\\Upal Mazumder\\OneDrive\\Desktop\\flickd\\test_vid\\VID_20250604_121446_002.mp4: 640x384 1 bottom, 1 top, 27.4ms\n",
      "video 1/1 (frame 584/788) c:\\Users\\Upal Mazumder\\OneDrive\\Desktop\\flickd\\test_vid\\VID_20250604_121446_002.mp4: 640x384 1 bottom, 27.3ms\n",
      "video 1/1 (frame 585/788) c:\\Users\\Upal Mazumder\\OneDrive\\Desktop\\flickd\\test_vid\\VID_20250604_121446_002.mp4: 640x384 1 bottom, 2 shoess, 28.3ms\n",
      "video 1/1 (frame 586/788) c:\\Users\\Upal Mazumder\\OneDrive\\Desktop\\flickd\\test_vid\\VID_20250604_121446_002.mp4: 640x384 1 bottom, 2 shoess, 29.0ms\n",
      "video 1/1 (frame 587/788) c:\\Users\\Upal Mazumder\\OneDrive\\Desktop\\flickd\\test_vid\\VID_20250604_121446_002.mp4: 640x384 1 bottom, 2 shoess, 1 top, 27.3ms\n",
      "video 1/1 (frame 588/788) c:\\Users\\Upal Mazumder\\OneDrive\\Desktop\\flickd\\test_vid\\VID_20250604_121446_002.mp4: 640x384 1 bottom, 2 shoess, 1 top, 30.8ms\n",
      "video 1/1 (frame 589/788) c:\\Users\\Upal Mazumder\\OneDrive\\Desktop\\flickd\\test_vid\\VID_20250604_121446_002.mp4: 640x384 1 bottom, 1 shoes, 1 top, 27.8ms\n",
      "video 1/1 (frame 590/788) c:\\Users\\Upal Mazumder\\OneDrive\\Desktop\\flickd\\test_vid\\VID_20250604_121446_002.mp4: 640x384 1 bottom, 1 shoes, 1 top, 30.5ms\n",
      "video 1/1 (frame 591/788) c:\\Users\\Upal Mazumder\\OneDrive\\Desktop\\flickd\\test_vid\\VID_20250604_121446_002.mp4: 640x384 1 bottom, 1 shoes, 1 top, 40.8ms\n",
      "video 1/1 (frame 592/788) c:\\Users\\Upal Mazumder\\OneDrive\\Desktop\\flickd\\test_vid\\VID_20250604_121446_002.mp4: 640x384 1 bottom, 1 shoes, 1 top, 37.2ms\n",
      "video 1/1 (frame 593/788) c:\\Users\\Upal Mazumder\\OneDrive\\Desktop\\flickd\\test_vid\\VID_20250604_121446_002.mp4: 640x384 1 bottom, 1 top, 36.3ms\n",
      "video 1/1 (frame 594/788) c:\\Users\\Upal Mazumder\\OneDrive\\Desktop\\flickd\\test_vid\\VID_20250604_121446_002.mp4: 640x384 1 bottom, 1 shoes, 1 top, 34.3ms\n",
      "video 1/1 (frame 595/788) c:\\Users\\Upal Mazumder\\OneDrive\\Desktop\\flickd\\test_vid\\VID_20250604_121446_002.mp4: 640x384 1 bottom, 1 shoes, 1 top, 38.2ms\n",
      "video 1/1 (frame 596/788) c:\\Users\\Upal Mazumder\\OneDrive\\Desktop\\flickd\\test_vid\\VID_20250604_121446_002.mp4: 640x384 1 bottom, 1 shoes, 1 top, 28.8ms\n",
      "video 1/1 (frame 597/788) c:\\Users\\Upal Mazumder\\OneDrive\\Desktop\\flickd\\test_vid\\VID_20250604_121446_002.mp4: 640x384 1 bottom, 1 shoes, 1 top, 29.1ms\n",
      "video 1/1 (frame 598/788) c:\\Users\\Upal Mazumder\\OneDrive\\Desktop\\flickd\\test_vid\\VID_20250604_121446_002.mp4: 640x384 1 bottom, 1 shoes, 1 top, 29.7ms\n",
      "video 1/1 (frame 599/788) c:\\Users\\Upal Mazumder\\OneDrive\\Desktop\\flickd\\test_vid\\VID_20250604_121446_002.mp4: 640x384 1 bottom, 1 shoes, 1 top, 27.7ms\n",
      "video 1/1 (frame 600/788) c:\\Users\\Upal Mazumder\\OneDrive\\Desktop\\flickd\\test_vid\\VID_20250604_121446_002.mp4: 640x384 1 bottom, 1 shoes, 1 top, 27.2ms\n",
      "video 1/1 (frame 601/788) c:\\Users\\Upal Mazumder\\OneDrive\\Desktop\\flickd\\test_vid\\VID_20250604_121446_002.mp4: 640x384 1 bottom, 1 shoes, 1 top, 28.2ms\n",
      "video 1/1 (frame 602/788) c:\\Users\\Upal Mazumder\\OneDrive\\Desktop\\flickd\\test_vid\\VID_20250604_121446_002.mp4: 640x384 1 bottom, 1 top, 27.8ms\n",
      "video 1/1 (frame 603/788) c:\\Users\\Upal Mazumder\\OneDrive\\Desktop\\flickd\\test_vid\\VID_20250604_121446_002.mp4: 640x384 (no detections), 28.9ms\n",
      "video 1/1 (frame 604/788) c:\\Users\\Upal Mazumder\\OneDrive\\Desktop\\flickd\\test_vid\\VID_20250604_121446_002.mp4: 640x384 1 bottom, 27.9ms\n",
      "video 1/1 (frame 605/788) c:\\Users\\Upal Mazumder\\OneDrive\\Desktop\\flickd\\test_vid\\VID_20250604_121446_002.mp4: 640x384 1 bottom, 25.5ms\n",
      "video 1/1 (frame 606/788) c:\\Users\\Upal Mazumder\\OneDrive\\Desktop\\flickd\\test_vid\\VID_20250604_121446_002.mp4: 640x384 (no detections), 27.8ms\n",
      "video 1/1 (frame 607/788) c:\\Users\\Upal Mazumder\\OneDrive\\Desktop\\flickd\\test_vid\\VID_20250604_121446_002.mp4: 640x384 (no detections), 28.3ms\n",
      "video 1/1 (frame 608/788) c:\\Users\\Upal Mazumder\\OneDrive\\Desktop\\flickd\\test_vid\\VID_20250604_121446_002.mp4: 640x384 (no detections), 37.2ms\n",
      "video 1/1 (frame 609/788) c:\\Users\\Upal Mazumder\\OneDrive\\Desktop\\flickd\\test_vid\\VID_20250604_121446_002.mp4: 640x384 (no detections), 36.7ms\n",
      "video 1/1 (frame 610/788) c:\\Users\\Upal Mazumder\\OneDrive\\Desktop\\flickd\\test_vid\\VID_20250604_121446_002.mp4: 640x384 (no detections), 34.4ms\n",
      "video 1/1 (frame 611/788) c:\\Users\\Upal Mazumder\\OneDrive\\Desktop\\flickd\\test_vid\\VID_20250604_121446_002.mp4: 640x384 2 tops, 37.9ms\n",
      "video 1/1 (frame 612/788) c:\\Users\\Upal Mazumder\\OneDrive\\Desktop\\flickd\\test_vid\\VID_20250604_121446_002.mp4: 640x384 1 top, 37.5ms\n",
      "video 1/1 (frame 613/788) c:\\Users\\Upal Mazumder\\OneDrive\\Desktop\\flickd\\test_vid\\VID_20250604_121446_002.mp4: 640x384 2 tops, 36.5ms\n",
      "video 1/1 (frame 614/788) c:\\Users\\Upal Mazumder\\OneDrive\\Desktop\\flickd\\test_vid\\VID_20250604_121446_002.mp4: 640x384 1 glasses, 2 tops, 35.6ms\n",
      "video 1/1 (frame 615/788) c:\\Users\\Upal Mazumder\\OneDrive\\Desktop\\flickd\\test_vid\\VID_20250604_121446_002.mp4: 640x384 1 dress, 1 shoes, 43.8ms\n",
      "video 1/1 (frame 616/788) c:\\Users\\Upal Mazumder\\OneDrive\\Desktop\\flickd\\test_vid\\VID_20250604_121446_002.mp4: 640x384 1 dress, 1 shoes, 36.6ms\n",
      "video 1/1 (frame 617/788) c:\\Users\\Upal Mazumder\\OneDrive\\Desktop\\flickd\\test_vid\\VID_20250604_121446_002.mp4: 640x384 1 bottom, 1 dress, 1 shoes, 34.7ms\n",
      "video 1/1 (frame 618/788) c:\\Users\\Upal Mazumder\\OneDrive\\Desktop\\flickd\\test_vid\\VID_20250604_121446_002.mp4: 640x384 1 shoes, 27.7ms\n",
      "video 1/1 (frame 619/788) c:\\Users\\Upal Mazumder\\OneDrive\\Desktop\\flickd\\test_vid\\VID_20250604_121446_002.mp4: 640x384 1 shoes, 27.1ms\n",
      "video 1/1 (frame 620/788) c:\\Users\\Upal Mazumder\\OneDrive\\Desktop\\flickd\\test_vid\\VID_20250604_121446_002.mp4: 640x384 1 shoes, 27.7ms\n",
      "video 1/1 (frame 621/788) c:\\Users\\Upal Mazumder\\OneDrive\\Desktop\\flickd\\test_vid\\VID_20250604_121446_002.mp4: 640x384 1 shoes, 26.6ms\n",
      "video 1/1 (frame 622/788) c:\\Users\\Upal Mazumder\\OneDrive\\Desktop\\flickd\\test_vid\\VID_20250604_121446_002.mp4: 640x384 (no detections), 27.3ms\n",
      "video 1/1 (frame 623/788) c:\\Users\\Upal Mazumder\\OneDrive\\Desktop\\flickd\\test_vid\\VID_20250604_121446_002.mp4: 640x384 (no detections), 27.5ms\n",
      "video 1/1 (frame 624/788) c:\\Users\\Upal Mazumder\\OneDrive\\Desktop\\flickd\\test_vid\\VID_20250604_121446_002.mp4: 640x384 1 bottom, 1 dress, 1 shoes, 28.0ms\n",
      "video 1/1 (frame 625/788) c:\\Users\\Upal Mazumder\\OneDrive\\Desktop\\flickd\\test_vid\\VID_20250604_121446_002.mp4: 640x384 1 dress, 1 shoes, 26.5ms\n",
      "video 1/1 (frame 626/788) c:\\Users\\Upal Mazumder\\OneDrive\\Desktop\\flickd\\test_vid\\VID_20250604_121446_002.mp4: 640x384 1 dress, 28.8ms\n",
      "video 1/1 (frame 627/788) c:\\Users\\Upal Mazumder\\OneDrive\\Desktop\\flickd\\test_vid\\VID_20250604_121446_002.mp4: 640x384 1 dress, 28.1ms\n",
      "video 1/1 (frame 628/788) c:\\Users\\Upal Mazumder\\OneDrive\\Desktop\\flickd\\test_vid\\VID_20250604_121446_002.mp4: 640x384 (no detections), 27.4ms\n",
      "video 1/1 (frame 629/788) c:\\Users\\Upal Mazumder\\OneDrive\\Desktop\\flickd\\test_vid\\VID_20250604_121446_002.mp4: 640x384 1 shoes, 29.1ms\n",
      "video 1/1 (frame 630/788) c:\\Users\\Upal Mazumder\\OneDrive\\Desktop\\flickd\\test_vid\\VID_20250604_121446_002.mp4: 640x384 (no detections), 27.6ms\n",
      "video 1/1 (frame 631/788) c:\\Users\\Upal Mazumder\\OneDrive\\Desktop\\flickd\\test_vid\\VID_20250604_121446_002.mp4: 640x384 (no detections), 30.2ms\n",
      "video 1/1 (frame 632/788) c:\\Users\\Upal Mazumder\\OneDrive\\Desktop\\flickd\\test_vid\\VID_20250604_121446_002.mp4: 640x384 (no detections), 28.5ms\n",
      "video 1/1 (frame 633/788) c:\\Users\\Upal Mazumder\\OneDrive\\Desktop\\flickd\\test_vid\\VID_20250604_121446_002.mp4: 640x384 (no detections), 30.1ms\n",
      "video 1/1 (frame 634/788) c:\\Users\\Upal Mazumder\\OneDrive\\Desktop\\flickd\\test_vid\\VID_20250604_121446_002.mp4: 640x384 (no detections), 33.0ms\n",
      "video 1/1 (frame 635/788) c:\\Users\\Upal Mazumder\\OneDrive\\Desktop\\flickd\\test_vid\\VID_20250604_121446_002.mp4: 640x384 1 shoes, 30.3ms\n",
      "video 1/1 (frame 636/788) c:\\Users\\Upal Mazumder\\OneDrive\\Desktop\\flickd\\test_vid\\VID_20250604_121446_002.mp4: 640x384 1 shoes, 26.0ms\n",
      "video 1/1 (frame 637/788) c:\\Users\\Upal Mazumder\\OneDrive\\Desktop\\flickd\\test_vid\\VID_20250604_121446_002.mp4: 640x384 1 shoes, 28.2ms\n",
      "video 1/1 (frame 638/788) c:\\Users\\Upal Mazumder\\OneDrive\\Desktop\\flickd\\test_vid\\VID_20250604_121446_002.mp4: 640x384 1 shoes, 27.9ms\n",
      "video 1/1 (frame 639/788) c:\\Users\\Upal Mazumder\\OneDrive\\Desktop\\flickd\\test_vid\\VID_20250604_121446_002.mp4: 640x384 (no detections), 28.8ms\n",
      "video 1/1 (frame 640/788) c:\\Users\\Upal Mazumder\\OneDrive\\Desktop\\flickd\\test_vid\\VID_20250604_121446_002.mp4: 640x384 1 top, 28.2ms\n",
      "video 1/1 (frame 641/788) c:\\Users\\Upal Mazumder\\OneDrive\\Desktop\\flickd\\test_vid\\VID_20250604_121446_002.mp4: 640x384 1 top, 27.0ms\n",
      "video 1/1 (frame 642/788) c:\\Users\\Upal Mazumder\\OneDrive\\Desktop\\flickd\\test_vid\\VID_20250604_121446_002.mp4: 640x384 1 top, 32.5ms\n",
      "video 1/1 (frame 643/788) c:\\Users\\Upal Mazumder\\OneDrive\\Desktop\\flickd\\test_vid\\VID_20250604_121446_002.mp4: 640x384 1 top, 35.1ms\n",
      "video 1/1 (frame 644/788) c:\\Users\\Upal Mazumder\\OneDrive\\Desktop\\flickd\\test_vid\\VID_20250604_121446_002.mp4: 640x384 (no detections), 36.3ms\n",
      "video 1/1 (frame 645/788) c:\\Users\\Upal Mazumder\\OneDrive\\Desktop\\flickd\\test_vid\\VID_20250604_121446_002.mp4: 640x384 (no detections), 36.0ms\n",
      "video 1/1 (frame 646/788) c:\\Users\\Upal Mazumder\\OneDrive\\Desktop\\flickd\\test_vid\\VID_20250604_121446_002.mp4: 640x384 (no detections), 35.2ms\n",
      "video 1/1 (frame 647/788) c:\\Users\\Upal Mazumder\\OneDrive\\Desktop\\flickd\\test_vid\\VID_20250604_121446_002.mp4: 640x384 (no detections), 35.1ms\n",
      "video 1/1 (frame 648/788) c:\\Users\\Upal Mazumder\\OneDrive\\Desktop\\flickd\\test_vid\\VID_20250604_121446_002.mp4: 640x384 (no detections), 34.6ms\n",
      "video 1/1 (frame 649/788) c:\\Users\\Upal Mazumder\\OneDrive\\Desktop\\flickd\\test_vid\\VID_20250604_121446_002.mp4: 640x384 (no detections), 36.9ms\n",
      "video 1/1 (frame 650/788) c:\\Users\\Upal Mazumder\\OneDrive\\Desktop\\flickd\\test_vid\\VID_20250604_121446_002.mp4: 640x384 (no detections), 35.9ms\n",
      "video 1/1 (frame 651/788) c:\\Users\\Upal Mazumder\\OneDrive\\Desktop\\flickd\\test_vid\\VID_20250604_121446_002.mp4: 640x384 (no detections), 35.5ms\n",
      "video 1/1 (frame 652/788) c:\\Users\\Upal Mazumder\\OneDrive\\Desktop\\flickd\\test_vid\\VID_20250604_121446_002.mp4: 640x384 (no detections), 36.7ms\n",
      "video 1/1 (frame 653/788) c:\\Users\\Upal Mazumder\\OneDrive\\Desktop\\flickd\\test_vid\\VID_20250604_121446_002.mp4: 640x384 (no detections), 42.9ms\n",
      "video 1/1 (frame 654/788) c:\\Users\\Upal Mazumder\\OneDrive\\Desktop\\flickd\\test_vid\\VID_20250604_121446_002.mp4: 640x384 (no detections), 35.3ms\n",
      "video 1/1 (frame 655/788) c:\\Users\\Upal Mazumder\\OneDrive\\Desktop\\flickd\\test_vid\\VID_20250604_121446_002.mp4: 640x384 (no detections), 37.9ms\n",
      "video 1/1 (frame 656/788) c:\\Users\\Upal Mazumder\\OneDrive\\Desktop\\flickd\\test_vid\\VID_20250604_121446_002.mp4: 640x384 (no detections), 35.1ms\n",
      "video 1/1 (frame 657/788) c:\\Users\\Upal Mazumder\\OneDrive\\Desktop\\flickd\\test_vid\\VID_20250604_121446_002.mp4: 640x384 (no detections), 35.2ms\n",
      "video 1/1 (frame 658/788) c:\\Users\\Upal Mazumder\\OneDrive\\Desktop\\flickd\\test_vid\\VID_20250604_121446_002.mp4: 640x384 (no detections), 36.6ms\n",
      "video 1/1 (frame 659/788) c:\\Users\\Upal Mazumder\\OneDrive\\Desktop\\flickd\\test_vid\\VID_20250604_121446_002.mp4: 640x384 (no detections), 35.3ms\n",
      "video 1/1 (frame 660/788) c:\\Users\\Upal Mazumder\\OneDrive\\Desktop\\flickd\\test_vid\\VID_20250604_121446_002.mp4: 640x384 (no detections), 36.6ms\n",
      "video 1/1 (frame 661/788) c:\\Users\\Upal Mazumder\\OneDrive\\Desktop\\flickd\\test_vid\\VID_20250604_121446_002.mp4: 640x384 (no detections), 40.3ms\n",
      "video 1/1 (frame 662/788) c:\\Users\\Upal Mazumder\\OneDrive\\Desktop\\flickd\\test_vid\\VID_20250604_121446_002.mp4: 640x384 (no detections), 43.1ms\n",
      "video 1/1 (frame 663/788) c:\\Users\\Upal Mazumder\\OneDrive\\Desktop\\flickd\\test_vid\\VID_20250604_121446_002.mp4: 640x384 (no detections), 36.8ms\n",
      "video 1/1 (frame 664/788) c:\\Users\\Upal Mazumder\\OneDrive\\Desktop\\flickd\\test_vid\\VID_20250604_121446_002.mp4: 640x384 (no detections), 41.0ms\n",
      "video 1/1 (frame 665/788) c:\\Users\\Upal Mazumder\\OneDrive\\Desktop\\flickd\\test_vid\\VID_20250604_121446_002.mp4: 640x384 (no detections), 38.3ms\n",
      "video 1/1 (frame 666/788) c:\\Users\\Upal Mazumder\\OneDrive\\Desktop\\flickd\\test_vid\\VID_20250604_121446_002.mp4: 640x384 (no detections), 43.0ms\n",
      "video 1/1 (frame 667/788) c:\\Users\\Upal Mazumder\\OneDrive\\Desktop\\flickd\\test_vid\\VID_20250604_121446_002.mp4: 640x384 (no detections), 43.4ms\n",
      "video 1/1 (frame 668/788) c:\\Users\\Upal Mazumder\\OneDrive\\Desktop\\flickd\\test_vid\\VID_20250604_121446_002.mp4: 640x384 (no detections), 38.9ms\n",
      "video 1/1 (frame 669/788) c:\\Users\\Upal Mazumder\\OneDrive\\Desktop\\flickd\\test_vid\\VID_20250604_121446_002.mp4: 640x384 (no detections), 37.6ms\n",
      "video 1/1 (frame 670/788) c:\\Users\\Upal Mazumder\\OneDrive\\Desktop\\flickd\\test_vid\\VID_20250604_121446_002.mp4: 640x384 (no detections), 43.7ms\n",
      "video 1/1 (frame 671/788) c:\\Users\\Upal Mazumder\\OneDrive\\Desktop\\flickd\\test_vid\\VID_20250604_121446_002.mp4: 640x384 (no detections), 49.1ms\n",
      "video 1/1 (frame 672/788) c:\\Users\\Upal Mazumder\\OneDrive\\Desktop\\flickd\\test_vid\\VID_20250604_121446_002.mp4: 640x384 (no detections), 39.9ms\n",
      "video 1/1 (frame 673/788) c:\\Users\\Upal Mazumder\\OneDrive\\Desktop\\flickd\\test_vid\\VID_20250604_121446_002.mp4: 640x384 (no detections), 41.0ms\n",
      "video 1/1 (frame 674/788) c:\\Users\\Upal Mazumder\\OneDrive\\Desktop\\flickd\\test_vid\\VID_20250604_121446_002.mp4: 640x384 (no detections), 43.4ms\n",
      "video 1/1 (frame 675/788) c:\\Users\\Upal Mazumder\\OneDrive\\Desktop\\flickd\\test_vid\\VID_20250604_121446_002.mp4: 640x384 (no detections), 40.9ms\n",
      "video 1/1 (frame 676/788) c:\\Users\\Upal Mazumder\\OneDrive\\Desktop\\flickd\\test_vid\\VID_20250604_121446_002.mp4: 640x384 (no detections), 33.9ms\n",
      "video 1/1 (frame 677/788) c:\\Users\\Upal Mazumder\\OneDrive\\Desktop\\flickd\\test_vid\\VID_20250604_121446_002.mp4: 640x384 (no detections), 35.6ms\n",
      "video 1/1 (frame 678/788) c:\\Users\\Upal Mazumder\\OneDrive\\Desktop\\flickd\\test_vid\\VID_20250604_121446_002.mp4: 640x384 (no detections), 37.1ms\n",
      "video 1/1 (frame 679/788) c:\\Users\\Upal Mazumder\\OneDrive\\Desktop\\flickd\\test_vid\\VID_20250604_121446_002.mp4: 640x384 (no detections), 38.2ms\n",
      "video 1/1 (frame 680/788) c:\\Users\\Upal Mazumder\\OneDrive\\Desktop\\flickd\\test_vid\\VID_20250604_121446_002.mp4: 640x384 (no detections), 38.7ms\n",
      "video 1/1 (frame 681/788) c:\\Users\\Upal Mazumder\\OneDrive\\Desktop\\flickd\\test_vid\\VID_20250604_121446_002.mp4: 640x384 (no detections), 33.5ms\n",
      "video 1/1 (frame 682/788) c:\\Users\\Upal Mazumder\\OneDrive\\Desktop\\flickd\\test_vid\\VID_20250604_121446_002.mp4: 640x384 (no detections), 34.2ms\n",
      "video 1/1 (frame 683/788) c:\\Users\\Upal Mazumder\\OneDrive\\Desktop\\flickd\\test_vid\\VID_20250604_121446_002.mp4: 640x384 (no detections), 33.9ms\n",
      "video 1/1 (frame 684/788) c:\\Users\\Upal Mazumder\\OneDrive\\Desktop\\flickd\\test_vid\\VID_20250604_121446_002.mp4: 640x384 (no detections), 38.5ms\n",
      "video 1/1 (frame 685/788) c:\\Users\\Upal Mazumder\\OneDrive\\Desktop\\flickd\\test_vid\\VID_20250604_121446_002.mp4: 640x384 (no detections), 33.5ms\n",
      "video 1/1 (frame 686/788) c:\\Users\\Upal Mazumder\\OneDrive\\Desktop\\flickd\\test_vid\\VID_20250604_121446_002.mp4: 640x384 (no detections), 30.7ms\n",
      "video 1/1 (frame 687/788) c:\\Users\\Upal Mazumder\\OneDrive\\Desktop\\flickd\\test_vid\\VID_20250604_121446_002.mp4: 640x384 (no detections), 31.6ms\n",
      "video 1/1 (frame 688/788) c:\\Users\\Upal Mazumder\\OneDrive\\Desktop\\flickd\\test_vid\\VID_20250604_121446_002.mp4: 640x384 (no detections), 31.0ms\n",
      "video 1/1 (frame 689/788) c:\\Users\\Upal Mazumder\\OneDrive\\Desktop\\flickd\\test_vid\\VID_20250604_121446_002.mp4: 640x384 (no detections), 38.4ms\n",
      "video 1/1 (frame 690/788) c:\\Users\\Upal Mazumder\\OneDrive\\Desktop\\flickd\\test_vid\\VID_20250604_121446_002.mp4: 640x384 (no detections), 31.1ms\n",
      "video 1/1 (frame 691/788) c:\\Users\\Upal Mazumder\\OneDrive\\Desktop\\flickd\\test_vid\\VID_20250604_121446_002.mp4: 640x384 (no detections), 34.4ms\n",
      "video 1/1 (frame 692/788) c:\\Users\\Upal Mazumder\\OneDrive\\Desktop\\flickd\\test_vid\\VID_20250604_121446_002.mp4: 640x384 (no detections), 37.9ms\n",
      "video 1/1 (frame 693/788) c:\\Users\\Upal Mazumder\\OneDrive\\Desktop\\flickd\\test_vid\\VID_20250604_121446_002.mp4: 640x384 (no detections), 31.6ms\n",
      "video 1/1 (frame 694/788) c:\\Users\\Upal Mazumder\\OneDrive\\Desktop\\flickd\\test_vid\\VID_20250604_121446_002.mp4: 640x384 (no detections), 33.0ms\n",
      "video 1/1 (frame 695/788) c:\\Users\\Upal Mazumder\\OneDrive\\Desktop\\flickd\\test_vid\\VID_20250604_121446_002.mp4: 640x384 (no detections), 29.4ms\n",
      "video 1/1 (frame 696/788) c:\\Users\\Upal Mazumder\\OneDrive\\Desktop\\flickd\\test_vid\\VID_20250604_121446_002.mp4: 640x384 (no detections), 30.7ms\n",
      "video 1/1 (frame 697/788) c:\\Users\\Upal Mazumder\\OneDrive\\Desktop\\flickd\\test_vid\\VID_20250604_121446_002.mp4: 640x384 (no detections), 33.8ms\n",
      "video 1/1 (frame 698/788) c:\\Users\\Upal Mazumder\\OneDrive\\Desktop\\flickd\\test_vid\\VID_20250604_121446_002.mp4: 640x384 (no detections), 32.6ms\n",
      "video 1/1 (frame 699/788) c:\\Users\\Upal Mazumder\\OneDrive\\Desktop\\flickd\\test_vid\\VID_20250604_121446_002.mp4: 640x384 (no detections), 31.1ms\n",
      "video 1/1 (frame 700/788) c:\\Users\\Upal Mazumder\\OneDrive\\Desktop\\flickd\\test_vid\\VID_20250604_121446_002.mp4: 640x384 (no detections), 30.9ms\n",
      "video 1/1 (frame 701/788) c:\\Users\\Upal Mazumder\\OneDrive\\Desktop\\flickd\\test_vid\\VID_20250604_121446_002.mp4: 640x384 (no detections), 30.7ms\n",
      "video 1/1 (frame 702/788) c:\\Users\\Upal Mazumder\\OneDrive\\Desktop\\flickd\\test_vid\\VID_20250604_121446_002.mp4: 640x384 (no detections), 35.4ms\n",
      "video 1/1 (frame 703/788) c:\\Users\\Upal Mazumder\\OneDrive\\Desktop\\flickd\\test_vid\\VID_20250604_121446_002.mp4: 640x384 (no detections), 31.9ms\n",
      "video 1/1 (frame 704/788) c:\\Users\\Upal Mazumder\\OneDrive\\Desktop\\flickd\\test_vid\\VID_20250604_121446_002.mp4: 640x384 (no detections), 31.4ms\n",
      "video 1/1 (frame 705/788) c:\\Users\\Upal Mazumder\\OneDrive\\Desktop\\flickd\\test_vid\\VID_20250604_121446_002.mp4: 640x384 (no detections), 29.0ms\n",
      "video 1/1 (frame 706/788) c:\\Users\\Upal Mazumder\\OneDrive\\Desktop\\flickd\\test_vid\\VID_20250604_121446_002.mp4: 640x384 (no detections), 36.4ms\n",
      "video 1/1 (frame 707/788) c:\\Users\\Upal Mazumder\\OneDrive\\Desktop\\flickd\\test_vid\\VID_20250604_121446_002.mp4: 640x384 (no detections), 32.4ms\n",
      "video 1/1 (frame 708/788) c:\\Users\\Upal Mazumder\\OneDrive\\Desktop\\flickd\\test_vid\\VID_20250604_121446_002.mp4: 640x384 (no detections), 31.4ms\n",
      "video 1/1 (frame 709/788) c:\\Users\\Upal Mazumder\\OneDrive\\Desktop\\flickd\\test_vid\\VID_20250604_121446_002.mp4: 640x384 (no detections), 30.9ms\n",
      "video 1/1 (frame 710/788) c:\\Users\\Upal Mazumder\\OneDrive\\Desktop\\flickd\\test_vid\\VID_20250604_121446_002.mp4: 640x384 (no detections), 33.4ms\n",
      "video 1/1 (frame 711/788) c:\\Users\\Upal Mazumder\\OneDrive\\Desktop\\flickd\\test_vid\\VID_20250604_121446_002.mp4: 640x384 (no detections), 29.9ms\n",
      "video 1/1 (frame 712/788) c:\\Users\\Upal Mazumder\\OneDrive\\Desktop\\flickd\\test_vid\\VID_20250604_121446_002.mp4: 640x384 (no detections), 28.2ms\n",
      "video 1/1 (frame 713/788) c:\\Users\\Upal Mazumder\\OneDrive\\Desktop\\flickd\\test_vid\\VID_20250604_121446_002.mp4: 640x384 (no detections), 30.3ms\n",
      "video 1/1 (frame 714/788) c:\\Users\\Upal Mazumder\\OneDrive\\Desktop\\flickd\\test_vid\\VID_20250604_121446_002.mp4: 640x384 (no detections), 29.6ms\n",
      "video 1/1 (frame 715/788) c:\\Users\\Upal Mazumder\\OneDrive\\Desktop\\flickd\\test_vid\\VID_20250604_121446_002.mp4: 640x384 (no detections), 31.3ms\n",
      "video 1/1 (frame 716/788) c:\\Users\\Upal Mazumder\\OneDrive\\Desktop\\flickd\\test_vid\\VID_20250604_121446_002.mp4: 640x384 (no detections), 30.6ms\n",
      "video 1/1 (frame 717/788) c:\\Users\\Upal Mazumder\\OneDrive\\Desktop\\flickd\\test_vid\\VID_20250604_121446_002.mp4: 640x384 (no detections), 36.5ms\n",
      "video 1/1 (frame 718/788) c:\\Users\\Upal Mazumder\\OneDrive\\Desktop\\flickd\\test_vid\\VID_20250604_121446_002.mp4: 640x384 (no detections), 31.6ms\n",
      "video 1/1 (frame 719/788) c:\\Users\\Upal Mazumder\\OneDrive\\Desktop\\flickd\\test_vid\\VID_20250604_121446_002.mp4: 640x384 (no detections), 34.5ms\n",
      "video 1/1 (frame 720/788) c:\\Users\\Upal Mazumder\\OneDrive\\Desktop\\flickd\\test_vid\\VID_20250604_121446_002.mp4: 640x384 (no detections), 30.5ms\n",
      "video 1/1 (frame 721/788) c:\\Users\\Upal Mazumder\\OneDrive\\Desktop\\flickd\\test_vid\\VID_20250604_121446_002.mp4: 640x384 (no detections), 35.9ms\n",
      "video 1/1 (frame 722/788) c:\\Users\\Upal Mazumder\\OneDrive\\Desktop\\flickd\\test_vid\\VID_20250604_121446_002.mp4: 640x384 (no detections), 30.1ms\n",
      "video 1/1 (frame 723/788) c:\\Users\\Upal Mazumder\\OneDrive\\Desktop\\flickd\\test_vid\\VID_20250604_121446_002.mp4: 640x384 (no detections), 30.3ms\n",
      "video 1/1 (frame 724/788) c:\\Users\\Upal Mazumder\\OneDrive\\Desktop\\flickd\\test_vid\\VID_20250604_121446_002.mp4: 640x384 (no detections), 28.9ms\n",
      "video 1/1 (frame 725/788) c:\\Users\\Upal Mazumder\\OneDrive\\Desktop\\flickd\\test_vid\\VID_20250604_121446_002.mp4: 640x384 (no detections), 31.9ms\n",
      "video 1/1 (frame 726/788) c:\\Users\\Upal Mazumder\\OneDrive\\Desktop\\flickd\\test_vid\\VID_20250604_121446_002.mp4: 640x384 (no detections), 30.6ms\n",
      "video 1/1 (frame 727/788) c:\\Users\\Upal Mazumder\\OneDrive\\Desktop\\flickd\\test_vid\\VID_20250604_121446_002.mp4: 640x384 (no detections), 29.8ms\n",
      "video 1/1 (frame 728/788) c:\\Users\\Upal Mazumder\\OneDrive\\Desktop\\flickd\\test_vid\\VID_20250604_121446_002.mp4: 640x384 (no detections), 36.4ms\n",
      "video 1/1 (frame 729/788) c:\\Users\\Upal Mazumder\\OneDrive\\Desktop\\flickd\\test_vid\\VID_20250604_121446_002.mp4: 640x384 (no detections), 37.0ms\n",
      "video 1/1 (frame 730/788) c:\\Users\\Upal Mazumder\\OneDrive\\Desktop\\flickd\\test_vid\\VID_20250604_121446_002.mp4: 640x384 (no detections), 30.9ms\n",
      "video 1/1 (frame 731/788) c:\\Users\\Upal Mazumder\\OneDrive\\Desktop\\flickd\\test_vid\\VID_20250604_121446_002.mp4: 640x384 (no detections), 32.0ms\n",
      "video 1/1 (frame 732/788) c:\\Users\\Upal Mazumder\\OneDrive\\Desktop\\flickd\\test_vid\\VID_20250604_121446_002.mp4: 640x384 (no detections), 30.6ms\n",
      "video 1/1 (frame 733/788) c:\\Users\\Upal Mazumder\\OneDrive\\Desktop\\flickd\\test_vid\\VID_20250604_121446_002.mp4: 640x384 (no detections), 30.4ms\n",
      "video 1/1 (frame 734/788) c:\\Users\\Upal Mazumder\\OneDrive\\Desktop\\flickd\\test_vid\\VID_20250604_121446_002.mp4: 640x384 (no detections), 29.8ms\n",
      "video 1/1 (frame 735/788) c:\\Users\\Upal Mazumder\\OneDrive\\Desktop\\flickd\\test_vid\\VID_20250604_121446_002.mp4: 640x384 (no detections), 30.1ms\n",
      "video 1/1 (frame 736/788) c:\\Users\\Upal Mazumder\\OneDrive\\Desktop\\flickd\\test_vid\\VID_20250604_121446_002.mp4: 640x384 (no detections), 37.5ms\n",
      "video 1/1 (frame 737/788) c:\\Users\\Upal Mazumder\\OneDrive\\Desktop\\flickd\\test_vid\\VID_20250604_121446_002.mp4: 640x384 (no detections), 31.4ms\n",
      "video 1/1 (frame 738/788) c:\\Users\\Upal Mazumder\\OneDrive\\Desktop\\flickd\\test_vid\\VID_20250604_121446_002.mp4: 640x384 (no detections), 30.1ms\n",
      "video 1/1 (frame 739/788) c:\\Users\\Upal Mazumder\\OneDrive\\Desktop\\flickd\\test_vid\\VID_20250604_121446_002.mp4: 640x384 (no detections), 31.6ms\n",
      "video 1/1 (frame 740/788) c:\\Users\\Upal Mazumder\\OneDrive\\Desktop\\flickd\\test_vid\\VID_20250604_121446_002.mp4: 640x384 (no detections), 31.8ms\n",
      "video 1/1 (frame 741/788) c:\\Users\\Upal Mazumder\\OneDrive\\Desktop\\flickd\\test_vid\\VID_20250604_121446_002.mp4: 640x384 (no detections), 32.4ms\n",
      "video 1/1 (frame 742/788) c:\\Users\\Upal Mazumder\\OneDrive\\Desktop\\flickd\\test_vid\\VID_20250604_121446_002.mp4: 640x384 (no detections), 32.5ms\n",
      "video 1/1 (frame 743/788) c:\\Users\\Upal Mazumder\\OneDrive\\Desktop\\flickd\\test_vid\\VID_20250604_121446_002.mp4: 640x384 (no detections), 30.6ms\n",
      "video 1/1 (frame 744/788) c:\\Users\\Upal Mazumder\\OneDrive\\Desktop\\flickd\\test_vid\\VID_20250604_121446_002.mp4: 640x384 (no detections), 30.9ms\n",
      "video 1/1 (frame 745/788) c:\\Users\\Upal Mazumder\\OneDrive\\Desktop\\flickd\\test_vid\\VID_20250604_121446_002.mp4: 640x384 (no detections), 30.0ms\n",
      "video 1/1 (frame 746/788) c:\\Users\\Upal Mazumder\\OneDrive\\Desktop\\flickd\\test_vid\\VID_20250604_121446_002.mp4: 640x384 (no detections), 35.3ms\n",
      "video 1/1 (frame 747/788) c:\\Users\\Upal Mazumder\\OneDrive\\Desktop\\flickd\\test_vid\\VID_20250604_121446_002.mp4: 640x384 (no detections), 29.7ms\n",
      "video 1/1 (frame 748/788) c:\\Users\\Upal Mazumder\\OneDrive\\Desktop\\flickd\\test_vid\\VID_20250604_121446_002.mp4: 640x384 (no detections), 31.1ms\n",
      "video 1/1 (frame 749/788) c:\\Users\\Upal Mazumder\\OneDrive\\Desktop\\flickd\\test_vid\\VID_20250604_121446_002.mp4: 640x384 (no detections), 31.4ms\n",
      "video 1/1 (frame 750/788) c:\\Users\\Upal Mazumder\\OneDrive\\Desktop\\flickd\\test_vid\\VID_20250604_121446_002.mp4: 640x384 (no detections), 29.9ms\n",
      "video 1/1 (frame 751/788) c:\\Users\\Upal Mazumder\\OneDrive\\Desktop\\flickd\\test_vid\\VID_20250604_121446_002.mp4: 640x384 (no detections), 31.2ms\n",
      "video 1/1 (frame 752/788) c:\\Users\\Upal Mazumder\\OneDrive\\Desktop\\flickd\\test_vid\\VID_20250604_121446_002.mp4: 640x384 (no detections), 35.5ms\n",
      "video 1/1 (frame 753/788) c:\\Users\\Upal Mazumder\\OneDrive\\Desktop\\flickd\\test_vid\\VID_20250604_121446_002.mp4: 640x384 (no detections), 29.6ms\n",
      "video 1/1 (frame 754/788) c:\\Users\\Upal Mazumder\\OneDrive\\Desktop\\flickd\\test_vid\\VID_20250604_121446_002.mp4: 640x384 (no detections), 30.9ms\n",
      "video 1/1 (frame 755/788) c:\\Users\\Upal Mazumder\\OneDrive\\Desktop\\flickd\\test_vid\\VID_20250604_121446_002.mp4: 640x384 (no detections), 30.2ms\n",
      "video 1/1 (frame 756/788) c:\\Users\\Upal Mazumder\\OneDrive\\Desktop\\flickd\\test_vid\\VID_20250604_121446_002.mp4: 640x384 (no detections), 32.1ms\n",
      "video 1/1 (frame 757/788) c:\\Users\\Upal Mazumder\\OneDrive\\Desktop\\flickd\\test_vid\\VID_20250604_121446_002.mp4: 640x384 (no detections), 31.5ms\n",
      "video 1/1 (frame 758/788) c:\\Users\\Upal Mazumder\\OneDrive\\Desktop\\flickd\\test_vid\\VID_20250604_121446_002.mp4: 640x384 (no detections), 31.6ms\n",
      "video 1/1 (frame 759/788) c:\\Users\\Upal Mazumder\\OneDrive\\Desktop\\flickd\\test_vid\\VID_20250604_121446_002.mp4: 640x384 (no detections), 30.2ms\n",
      "video 1/1 (frame 760/788) c:\\Users\\Upal Mazumder\\OneDrive\\Desktop\\flickd\\test_vid\\VID_20250604_121446_002.mp4: 640x384 (no detections), 31.8ms\n",
      "video 1/1 (frame 761/788) c:\\Users\\Upal Mazumder\\OneDrive\\Desktop\\flickd\\test_vid\\VID_20250604_121446_002.mp4: 640x384 (no detections), 30.0ms\n",
      "video 1/1 (frame 762/788) c:\\Users\\Upal Mazumder\\OneDrive\\Desktop\\flickd\\test_vid\\VID_20250604_121446_002.mp4: 640x384 (no detections), 30.8ms\n",
      "video 1/1 (frame 763/788) c:\\Users\\Upal Mazumder\\OneDrive\\Desktop\\flickd\\test_vid\\VID_20250604_121446_002.mp4: 640x384 (no detections), 30.8ms\n",
      "video 1/1 (frame 764/788) c:\\Users\\Upal Mazumder\\OneDrive\\Desktop\\flickd\\test_vid\\VID_20250604_121446_002.mp4: 640x384 (no detections), 28.2ms\n",
      "video 1/1 (frame 765/788) c:\\Users\\Upal Mazumder\\OneDrive\\Desktop\\flickd\\test_vid\\VID_20250604_121446_002.mp4: 640x384 (no detections), 31.5ms\n",
      "video 1/1 (frame 766/788) c:\\Users\\Upal Mazumder\\OneDrive\\Desktop\\flickd\\test_vid\\VID_20250604_121446_002.mp4: 640x384 (no detections), 31.0ms\n",
      "video 1/1 (frame 767/788) c:\\Users\\Upal Mazumder\\OneDrive\\Desktop\\flickd\\test_vid\\VID_20250604_121446_002.mp4: 640x384 (no detections), 32.8ms\n",
      "video 1/1 (frame 768/788) c:\\Users\\Upal Mazumder\\OneDrive\\Desktop\\flickd\\test_vid\\VID_20250604_121446_002.mp4: 640x384 (no detections), 34.9ms\n",
      "video 1/1 (frame 769/788) c:\\Users\\Upal Mazumder\\OneDrive\\Desktop\\flickd\\test_vid\\VID_20250604_121446_002.mp4: 640x384 (no detections), 31.1ms\n",
      "video 1/1 (frame 770/788) c:\\Users\\Upal Mazumder\\OneDrive\\Desktop\\flickd\\test_vid\\VID_20250604_121446_002.mp4: 640x384 (no detections), 29.8ms\n",
      "video 1/1 (frame 771/788) c:\\Users\\Upal Mazumder\\OneDrive\\Desktop\\flickd\\test_vid\\VID_20250604_121446_002.mp4: 640x384 (no detections), 31.2ms\n",
      "video 1/1 (frame 772/788) c:\\Users\\Upal Mazumder\\OneDrive\\Desktop\\flickd\\test_vid\\VID_20250604_121446_002.mp4: 640x384 (no detections), 29.9ms\n",
      "video 1/1 (frame 773/788) c:\\Users\\Upal Mazumder\\OneDrive\\Desktop\\flickd\\test_vid\\VID_20250604_121446_002.mp4: 640x384 (no detections), 28.8ms\n",
      "video 1/1 (frame 774/788) c:\\Users\\Upal Mazumder\\OneDrive\\Desktop\\flickd\\test_vid\\VID_20250604_121446_002.mp4: 640x384 (no detections), 28.6ms\n",
      "video 1/1 (frame 775/788) c:\\Users\\Upal Mazumder\\OneDrive\\Desktop\\flickd\\test_vid\\VID_20250604_121446_002.mp4: 640x384 (no detections), 55.9ms\n",
      "video 1/1 (frame 776/788) c:\\Users\\Upal Mazumder\\OneDrive\\Desktop\\flickd\\test_vid\\VID_20250604_121446_002.mp4: 640x384 (no detections), 30.2ms\n",
      "video 1/1 (frame 777/788) c:\\Users\\Upal Mazumder\\OneDrive\\Desktop\\flickd\\test_vid\\VID_20250604_121446_002.mp4: 640x384 (no detections), 30.8ms\n",
      "video 1/1 (frame 778/788) c:\\Users\\Upal Mazumder\\OneDrive\\Desktop\\flickd\\test_vid\\VID_20250604_121446_002.mp4: 640x384 (no detections), 31.7ms\n",
      "video 1/1 (frame 779/788) c:\\Users\\Upal Mazumder\\OneDrive\\Desktop\\flickd\\test_vid\\VID_20250604_121446_002.mp4: 640x384 (no detections), 30.5ms\n",
      "video 1/1 (frame 780/788) c:\\Users\\Upal Mazumder\\OneDrive\\Desktop\\flickd\\test_vid\\VID_20250604_121446_002.mp4: 640x384 (no detections), 32.3ms\n",
      "video 1/1 (frame 781/788) c:\\Users\\Upal Mazumder\\OneDrive\\Desktop\\flickd\\test_vid\\VID_20250604_121446_002.mp4: 640x384 (no detections), 32.0ms\n",
      "video 1/1 (frame 782/788) c:\\Users\\Upal Mazumder\\OneDrive\\Desktop\\flickd\\test_vid\\VID_20250604_121446_002.mp4: 640x384 (no detections), 31.1ms\n",
      "video 1/1 (frame 783/788) c:\\Users\\Upal Mazumder\\OneDrive\\Desktop\\flickd\\test_vid\\VID_20250604_121446_002.mp4: 640x384 (no detections), 36.9ms\n",
      "video 1/1 (frame 784/788) c:\\Users\\Upal Mazumder\\OneDrive\\Desktop\\flickd\\test_vid\\VID_20250604_121446_002.mp4: 640x384 (no detections), 31.8ms\n",
      "video 1/1 (frame 785/788) c:\\Users\\Upal Mazumder\\OneDrive\\Desktop\\flickd\\test_vid\\VID_20250604_121446_002.mp4: 640x384 (no detections), 31.8ms\n",
      "video 1/1 (frame 786/788) c:\\Users\\Upal Mazumder\\OneDrive\\Desktop\\flickd\\test_vid\\VID_20250604_121446_002.mp4: 640x384 (no detections), 44.7ms\n",
      "video 1/1 (frame 787/788) c:\\Users\\Upal Mazumder\\OneDrive\\Desktop\\flickd\\test_vid\\VID_20250604_121446_002.mp4: 640x384 (no detections), 39.7ms\n",
      "Speed: 2.1ms preprocess, 32.0ms inference, 0.6ms postprocess per image at shape (1, 3, 640, 384)\n",
      "Results saved to \u001b[1mruns\\detect\\train45\u001b[0m\n"
     ]
    }
   ],
   "source": [
    "results = model.predict(\n",
    "    source=\"test_vid\\VID_20250604_121446_002.mp4\",     # Input video path\n",
    "    save=True,              # Save the annotated output video\n",
    "    conf=0.25,              # Confidence threshold\n",
    "    iou=0.45,               # IOU threshold for NMS\n",
    "    show=False              # Set to True to show live preview (optional)\n",
    ")"
   ]
  }
 ],
 "metadata": {
  "kernelspec": {
   "display_name": ".venv",
   "language": "python",
   "name": "python3"
  },
  "language_info": {
   "codemirror_mode": {
    "name": "ipython",
    "version": 3
   },
   "file_extension": ".py",
   "mimetype": "text/x-python",
   "name": "python",
   "nbconvert_exporter": "python",
   "pygments_lexer": "ipython3",
   "version": "3.13.3"
  }
 },
 "nbformat": 4,
 "nbformat_minor": 5
}
